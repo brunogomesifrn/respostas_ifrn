{
 "cells": [
  {
   "cell_type": "markdown",
   "id": "c53e62ed",
   "metadata": {},
   "source": [
    "# Atividade 02 - 19/10/23"
   ]
  },
  {
   "cell_type": "markdown",
   "id": "975df868",
   "metadata": {},
   "source": [
    "Documentação Numpy: https://numpy.org/doc/stable/\n",
    "\n",
    "Enviar este arquivo preenchido com o nome do aluno para o e-mail: profbrunorespostas1@gmail.com e assunto: AD2301"
   ]
  },
  {
   "cell_type": "code",
   "execution_count": 1,
   "id": "b4ed8737",
   "metadata": {},
   "outputs": [
    {
     "name": "stdout",
     "output_type": "stream",
     "text": [
      "Nome do aluno aqui\n"
     ]
    }
   ],
   "source": [
    "#Substituir nome do aluno aqui\n",
    "print(\"Nome do aluno aqui\")"
   ]
  },
  {
   "cell_type": "markdown",
   "id": "0fb7198f",
   "metadata": {},
   "source": [
    "### Questão 1:\n",
    "Usando o dataset do Pokemon, imprimir os nomes de todos os pokemons localizados no dataset."
   ]
  },
  {
   "cell_type": "code",
   "execution_count": null,
   "id": "e6e33609",
   "metadata": {},
   "outputs": [],
   "source": []
  },
  {
   "cell_type": "markdown",
   "id": "87d7aebd",
   "metadata": {},
   "source": [
    "### Questão 2:\n",
    "Para calcular a média de um Array Numpy se usa a função average(). Sabendo disso, imprimir a média de Attack de todos os pokemons\n",
    "\n",
    "Documentação:\n",
    "- https://numpy.org/doc/stable/reference/generated/numpy.average.html"
   ]
  },
  {
   "cell_type": "code",
   "execution_count": null,
   "id": "67bdcb6d",
   "metadata": {},
   "outputs": [],
   "source": []
  },
  {
   "cell_type": "markdown",
   "id": "0ffc0734",
   "metadata": {},
   "source": [
    "### Questão 3:\n",
    "Sabendo que para encontrar o maior e menor valor de um Array Numpy se usa respectivamente as funções max() e min(). Encontre o maior e menor valor de Hit Points (HP) dos pokemons.\n",
    "\n",
    "Documentação:\n",
    "- https://numpy.org/doc/stable/reference/generated/numpy.max.html\n",
    "- https://numpy.org/doc/stable/reference/generated/numpy.min.html"
   ]
  },
  {
   "cell_type": "code",
   "execution_count": null,
   "id": "9e0e9857",
   "metadata": {},
   "outputs": [],
   "source": []
  },
  {
   "cell_type": "markdown",
   "id": "6de42e36",
   "metadata": {},
   "source": [
    "### Questão 4:\n",
    "Sabendo que o desvio padrão de um array numpy é calculado através da função std(), encontre o desvio padrão do Attack dos pokemons.\n",
    "\n",
    "Documentação:\n",
    "- https://numpy.org/doc/stable/reference/generated/numpy.std.html"
   ]
  },
  {
   "cell_type": "code",
   "execution_count": null,
   "id": "39cdb353",
   "metadata": {},
   "outputs": [],
   "source": []
  },
  {
   "cell_type": "markdown",
   "id": "15b5e83e",
   "metadata": {},
   "source": [
    "### Questão 5:\n",
    "Imprima o nome de todos os pokemons que possuem Attack acima da média."
   ]
  },
  {
   "cell_type": "code",
   "execution_count": null,
   "id": "e7b6915b",
   "metadata": {},
   "outputs": [],
   "source": []
  },
  {
   "cell_type": "markdown",
   "id": "0006d210",
   "metadata": {},
   "source": [
    "### Questão 6:\n",
    "Imprima o nome de todos os pokemons que possuem Attack abaixo da média."
   ]
  },
  {
   "cell_type": "code",
   "execution_count": null,
   "id": "42e9e81f",
   "metadata": {},
   "outputs": [],
   "source": []
  },
  {
   "cell_type": "markdown",
   "id": "3e77391c",
   "metadata": {},
   "source": [
    "### Questão 7:\n",
    "Imprima o nome de todos os pokemons que estão acima ou abaixo do desvio padrão."
   ]
  },
  {
   "cell_type": "code",
   "execution_count": null,
   "id": "7c76caa3",
   "metadata": {},
   "outputs": [],
   "source": []
  }
 ],
 "metadata": {
  "kernelspec": {
   "display_name": "Python 3 (ipykernel)",
   "language": "python",
   "name": "python3"
  },
  "language_info": {
   "codemirror_mode": {
    "name": "ipython",
    "version": 3
   },
   "file_extension": ".py",
   "mimetype": "text/x-python",
   "name": "python",
   "nbconvert_exporter": "python",
   "pygments_lexer": "ipython3",
   "version": "3.10.4"
  }
 },
 "nbformat": 4,
 "nbformat_minor": 5
}
