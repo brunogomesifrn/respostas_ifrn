{
 "cells": [
  {
   "cell_type": "markdown",
   "id": "9badf957-d942-4ac5-8a2b-2f347e10069f",
   "metadata": {},
   "source": [
    "Lista de Dados\n",
    "- Estrutura que permite agrupar vários valores\n",
    "- Permite agrupar valores de tipos diferentes em uma mesma estrutura\n",
    "- Utiliza colchetes [ ] e separa os elementos com vírgula"
   ]
  },
  {
   "cell_type": "code",
   "execution_count": null,
   "id": "fe9dd373-72d2-461c-9cf6-c793d68b4700",
   "metadata": {},
   "outputs": [],
   "source": [
    "#Criando uma lista\n",
    "\n",
    "lista_1 = [1, 6, 10, 20]\n",
    "lista_2 = [4.5, 3.1, 5.0]\n",
    "lista_3 = ['nota1', 'nota2']\n",
    "lista_4 = [True, False, False]\n",
    "lista_5 = [4, 'nota1', 2.5, False]\n",
    "lista_6 = [5, 3, [5, 2, 1]]"
   ]
  },
  {
   "cell_type": "markdown",
   "id": "f1e0f581-1b88-4aec-a7f6-10cb43f987a6",
   "metadata": {},
   "source": [
    "- A estrutura utiliza as posições para armazenar e localizar os elementos\n",
    "- Primeira posição sempre é 0"
   ]
  },
  {
   "cell_type": "code",
   "execution_count": 1,
   "id": "d5a90fd1-9032-458d-9777-fe5f4fd76469",
   "metadata": {},
   "outputs": [
    {
     "name": "stdout",
     "output_type": "stream",
     "text": [
      "6\n"
     ]
    }
   ],
   "source": [
    "#Acessando um valor da lista\n",
    "lista_1 = [1, 6, 10, 20]\n",
    "print(lista_1[1])"
   ]
  },
  {
   "cell_type": "code",
   "execution_count": 2,
   "id": "b741be66-bee5-4b49-bdf4-eb673ac79052",
   "metadata": {},
   "outputs": [
    {
     "name": "stdout",
     "output_type": "stream",
     "text": [
      "[5, 2, 1]\n"
     ]
    }
   ],
   "source": [
    "lista_6 = [5, 3, [5, 2, 1]]\n",
    "print(lista_6[2])"
   ]
  },
  {
   "cell_type": "code",
   "execution_count": 3,
   "id": "192dac27-c431-4e28-b11a-b8561bb40797",
   "metadata": {},
   "outputs": [
    {
     "name": "stdout",
     "output_type": "stream",
     "text": [
      "2\n"
     ]
    }
   ],
   "source": [
    "print(lista_6[2][1])"
   ]
  },
  {
   "cell_type": "code",
   "execution_count": 6,
   "id": "e117a170-c50b-4a0e-8f34-9d84fbd9e22e",
   "metadata": {},
   "outputs": [
    {
     "name": "stdout",
     "output_type": "stream",
     "text": [
      "[1, 6, 10, 20, 4.5, 3.1, 5.0]\n"
     ]
    }
   ],
   "source": [
    "lista_1 = [1, 6, 10, 20]\n",
    "lista_2 = [4.5, 3.1, 5.0]\n",
    "lista_juncao = lista_1 + lista_2\n",
    "print(lista_juncao)"
   ]
  },
  {
   "cell_type": "code",
   "execution_count": 8,
   "id": "f778f4f6-590c-407a-9404-308d56745a08",
   "metadata": {},
   "outputs": [
    {
     "name": "stdout",
     "output_type": "stream",
     "text": [
      "4\n"
     ]
    }
   ],
   "source": [
    "#Tamanho da lista - função len()\n",
    "lista_1 = [1, 6, 10, 20]\n",
    "print(len(lista_1))"
   ]
  },
  {
   "cell_type": "code",
   "execution_count": 9,
   "id": "43160b68-510d-42c1-8e88-477d2929e317",
   "metadata": {},
   "outputs": [
    {
     "name": "stdout",
     "output_type": "stream",
     "text": [
      "20\n"
     ]
    }
   ],
   "source": [
    "#Maior elemento da lista - função max\n",
    "print(max(lista_1))"
   ]
  },
  {
   "cell_type": "code",
   "execution_count": 10,
   "id": "5435ec85-8938-4c37-b396-2ccc98fd8b68",
   "metadata": {},
   "outputs": [
    {
     "name": "stdout",
     "output_type": "stream",
     "text": [
      "1\n"
     ]
    }
   ],
   "source": [
    "#Menor elemento da lista - função min\n",
    "print(min(lista_1))"
   ]
  },
  {
   "cell_type": "code",
   "execution_count": 11,
   "id": "6e73564a-88d8-428d-a0fa-08de9a826adc",
   "metadata": {},
   "outputs": [
    {
     "name": "stdout",
     "output_type": "stream",
     "text": [
      "37\n"
     ]
    }
   ],
   "source": [
    "#Somar todos os elementos da lista - função sum()\n",
    "print(sum(lista_1))"
   ]
  },
  {
   "cell_type": "code",
   "execution_count": 12,
   "id": "2cbd7d1e-4745-455c-b8dd-4cda42b650c5",
   "metadata": {},
   "outputs": [
    {
     "name": "stdout",
     "output_type": "stream",
     "text": [
      "[1, 15, 10, 20]\n"
     ]
    }
   ],
   "source": [
    "#Substituir um elemento da lista, se usa colchetes\n",
    "lista_1 = [1, 6, 10, 20]\n",
    "lista_1[1] = 15\n",
    "print(lista_1)"
   ]
  },
  {
   "cell_type": "code",
   "execution_count": 13,
   "id": "6af75a66-fc71-45a3-8f79-bffc8b1124a2",
   "metadata": {},
   "outputs": [
    {
     "name": "stdout",
     "output_type": "stream",
     "text": [
      "[1, 6, 10, 20, 15]\n"
     ]
    }
   ],
   "source": [
    "#Adicionando um elemento à lista - função append()\n",
    "lista_1 = [1, 6, 10, 20]\n",
    "lista_1.append(15)\n",
    "print(lista_1)"
   ]
  },
  {
   "cell_type": "code",
   "execution_count": 14,
   "id": "bf4bcf46-1677-4723-9d47-fecf0a20b5e5",
   "metadata": {},
   "outputs": [
    {
     "name": "stdout",
     "output_type": "stream",
     "text": [
      "[1, 6, 50, 10, 20]\n"
     ]
    }
   ],
   "source": [
    "#Inserindo um novo elemento em uma posição específica - função insert()\n",
    "lista_1 = [1, 6, 10, 20]\n",
    "lista_1.insert(2, 50)\n",
    "print(lista_1)"
   ]
  },
  {
   "cell_type": "code",
   "execution_count": 16,
   "id": "22d75972-bb11-47ed-9467-4c1bc1c4a902",
   "metadata": {},
   "outputs": [
    {
     "name": "stdout",
     "output_type": "stream",
     "text": [
      "2\n"
     ]
    }
   ],
   "source": [
    "#Retornando a posição de um elemento - função index()\n",
    "lista_1 = [1, 6, 10, 20]\n",
    "print(lista_1.index(10))\n"
   ]
  },
  {
   "cell_type": "code",
   "execution_count": 22,
   "id": "6b84ac8d-c38c-4ff9-87e8-0338602f8896",
   "metadata": {},
   "outputs": [
    {
     "name": "stdout",
     "output_type": "stream",
     "text": [
      "[20, 10, 6, 1]\n"
     ]
    }
   ],
   "source": [
    "#Invertendo a ordem dos elementos da lista - função reverse()\n",
    "lista_1 = [1, 6, 10, 20]\n",
    "lista_1.reverse()\n",
    "print(lista_1)"
   ]
  },
  {
   "cell_type": "code",
   "execution_count": 23,
   "id": "1b504dc1-9fa0-4e3c-8e6b-dd2a44672dbf",
   "metadata": {},
   "outputs": [
    {
     "name": "stdout",
     "output_type": "stream",
     "text": [
      "[2, 6, 11, 20]\n"
     ]
    }
   ],
   "source": [
    "#Ordenar a ordem da lista - função sort()\n",
    "lista_1 = [11, 6, 2, 20]\n",
    "lista_1.sort()\n",
    "print(lista_1)"
   ]
  },
  {
   "cell_type": "markdown",
   "id": "7900ec42-23a9-473c-bbf1-68dba494e3c3",
   "metadata": {},
   "source": [
    "TUPLAS\n",
    "- Estrutura semelhante a lista, mas não pode ser alterada (imutável)\n",
    "- Utiliza parênteses para definir"
   ]
  },
  {
   "cell_type": "code",
   "execution_count": 24,
   "id": "249c6c45-52ab-4982-b9e5-906ae6f8e5bf",
   "metadata": {},
   "outputs": [],
   "source": [
    "tupla_1 = (\"Segunda\", \"Terça\", \"Quarta\")"
   ]
  },
  {
   "cell_type": "code",
   "execution_count": 25,
   "id": "c1e4064d-ced4-459b-8619-7bc57889a67f",
   "metadata": {},
   "outputs": [
    {
     "name": "stdout",
     "output_type": "stream",
     "text": [
      "Segunda\n"
     ]
    }
   ],
   "source": [
    "#Para acessar um elemento utiliza colchetes\n",
    "tupla_1 = (\"Segunda\", \"Terça\", \"Quarta\")\n",
    "print(tupla_1[0])"
   ]
  },
  {
   "cell_type": "code",
   "execution_count": 27,
   "id": "eedf3c1d-c230-4055-b1aa-e806659de569",
   "metadata": {},
   "outputs": [
    {
     "ename": "TypeError",
     "evalue": "'tuple' object does not support item assignment",
     "output_type": "error",
     "traceback": [
      "\u001b[1;31m---------------------------------------------------------------------------\u001b[0m",
      "\u001b[1;31mTypeError\u001b[0m                                 Traceback (most recent call last)",
      "Cell \u001b[1;32mIn[27], line 1\u001b[0m\n\u001b[1;32m----> 1\u001b[0m \u001b[43mtupla_1\u001b[49m\u001b[43m[\u001b[49m\u001b[38;5;241;43m1\u001b[39;49m\u001b[43m]\u001b[49m \u001b[38;5;241m=\u001b[39m \u001b[38;5;124m\"\u001b[39m\u001b[38;5;124mQuarta\u001b[39m\u001b[38;5;124m\"\u001b[39m\n",
      "\u001b[1;31mTypeError\u001b[0m: 'tuple' object does not support item assignment"
     ]
    }
   ],
   "source": [
    "#Não é possível alterar qualquer valor da tupla, dispara um erro\n",
    "tupla_1[1] = \"Quarta\""
   ]
  },
  {
   "cell_type": "code",
   "execution_count": 28,
   "id": "cb2c17f9-7488-4c2c-9307-4d56772c71b2",
   "metadata": {},
   "outputs": [
    {
     "name": "stdout",
     "output_type": "stream",
     "text": [
      "['Segunda', 'Terça', 'Quarta']\n"
     ]
    }
   ],
   "source": [
    "#Convertendo uma tupla em lista - utiliza a função list()\n",
    "tupla_1 = (\"Segunda\", \"Terça\", \"Quarta\")\n",
    "lista_resultado = list(tupla_1)\n",
    "print(lista_resultado)"
   ]
  },
  {
   "cell_type": "markdown",
   "id": "7f5a2932-3dbe-464b-8e82-c53b7726560f",
   "metadata": {},
   "source": [
    "DICIONÁRIO DE DADOS\n",
    "- Estrutura de dados composta por chaves e valores\n",
    "- Utiliza chaves {} para a criação"
   ]
  },
  {
   "cell_type": "code",
   "execution_count": null,
   "id": "adfe03ae-7d68-4a57-99b4-109554479740",
   "metadata": {},
   "outputs": [],
   "source": []
  }
 ],
 "metadata": {
  "kernelspec": {
   "display_name": "Python 3 (ipykernel)",
   "language": "python",
   "name": "python3"
  },
  "language_info": {
   "codemirror_mode": {
    "name": "ipython",
    "version": 3
   },
   "file_extension": ".py",
   "mimetype": "text/x-python",
   "name": "python",
   "nbconvert_exporter": "python",
   "pygments_lexer": "ipython3",
   "version": "3.10.4"
  }
 },
 "nbformat": 4,
 "nbformat_minor": 5
}
