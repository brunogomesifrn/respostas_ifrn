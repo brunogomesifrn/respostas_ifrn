{
 "cells": [
  {
   "cell_type": "markdown",
   "id": "bf3856c6-a774-4c74-ac0f-70d09f672178",
   "metadata": {},
   "source": [
    "# Dicionário de Dados"
   ]
  },
  {
   "cell_type": "markdown",
   "id": "f699301c-4d3a-4f57-a18d-20dc0117dce5",
   "metadata": {},
   "source": [
    "Estrutura que permite armazenar o conceito de chave e valor\n",
    "- Cada posição do dicionário possui uma chave e um valor correpondente\n",
    "- É criado através de chaves {}"
   ]
  },
  {
   "cell_type": "code",
   "execution_count": 1,
   "id": "242246af-e768-4306-8a40-046134420775",
   "metadata": {},
   "outputs": [],
   "source": [
    "# Criando um dicionário de dados\n",
    "dicionario_1 = { \"chave1\":\"valor1\", \"chave2\":\"valor2\"}"
   ]
  },
  {
   "cell_type": "code",
   "execution_count": null,
   "id": "3eaa53b3-a209-4836-961c-6f087c35fc75",
   "metadata": {},
   "outputs": [],
   "source": [
    "# Forma organizada de representar um dicionário\n",
    "dicionario_1 = {\n",
    "    \"chave1\":\"valor1\",\n",
    "    \"chave2\":\"valor2\"\n",
    "}"
   ]
  },
  {
   "cell_type": "code",
   "execution_count": 2,
   "id": "311eff6d-310e-48dc-a885-657df67d3eca",
   "metadata": {},
   "outputs": [],
   "source": [
    "# O dicionário pode ter chaves e valores de diferentes tipos\n",
    "dicionario_2 = {\n",
    "    \"nota1\":10,\n",
    "    \"nota2\":20\n",
    "}"
   ]
  },
  {
   "cell_type": "code",
   "execution_count": 3,
   "id": "6bb9c92a-7f5c-4c76-95f3-58db49636bab",
   "metadata": {},
   "outputs": [
    {
     "name": "stdout",
     "output_type": "stream",
     "text": [
      "valor1\n"
     ]
    }
   ],
   "source": [
    "'''\n",
    "Para acessar um valor de um dicionário é necessário utilizar\n",
    "colchetes e a chave\n",
    "'''\n",
    "\n",
    "dicionario_1 = {\n",
    "    \"chave1\":\"valor1\",\n",
    "    \"chave2\":\"valor2\"\n",
    "}\n",
    "print(dicionario_1[\"chave1\"])"
   ]
  },
  {
   "cell_type": "code",
   "execution_count": 4,
   "id": "976e1a9d-f073-49be-aebe-92d2bf7204ff",
   "metadata": {},
   "outputs": [
    {
     "name": "stdout",
     "output_type": "stream",
     "text": [
      "20\n"
     ]
    }
   ],
   "source": [
    "# Criando um dicionário vazio e adicionando valores manualmente\n",
    "\n",
    "dicionario_3 = {}\n",
    "dicionario_3[\"nota1\"] = 20\n",
    "dicionario_3[\"nota2\"] = 50\n",
    "\n",
    "print(dicionario_3[\"nota1\"])"
   ]
  },
  {
   "cell_type": "code",
   "execution_count": 5,
   "id": "868f2358-f928-45e4-898e-3a321a7df2fd",
   "metadata": {},
   "outputs": [
    {
     "name": "stdout",
     "output_type": "stream",
     "text": [
      "valor3\n"
     ]
    }
   ],
   "source": [
    "# Adicionando elementos a um dicionário já existente\n",
    "\n",
    "dicionario_1 = {\n",
    "    \"chave1\":\"valor1\",\n",
    "    \"chave2\":\"valor2\"\n",
    "}\n",
    "\n",
    "dicionario_1[\"chave3\"] = \"valor3\"\n",
    "print(dicionario_1[\"chave3\"])"
   ]
  },
  {
   "cell_type": "code",
   "execution_count": 6,
   "id": "41e1f85d-4543-4bbb-b7b0-6299cedcabcc",
   "metadata": {},
   "outputs": [
    {
     "name": "stdout",
     "output_type": "stream",
     "text": [
      "3\n"
     ]
    }
   ],
   "source": [
    "# Tamanho de um dicionário - len()\n",
    "dicionario_1 = {\n",
    "    \"chave1\":\"valor1\",\n",
    "    \"chave2\":\"valor2\",\n",
    "    \"chave3\":\"valor3\"\n",
    "}\n",
    "print(len(dicionario_1))"
   ]
  },
  {
   "cell_type": "code",
   "execution_count": 7,
   "id": "f835a4cc-bc00-4e1c-a041-67f5fbfd6c54",
   "metadata": {},
   "outputs": [
    {
     "name": "stdout",
     "output_type": "stream",
     "text": [
      "{}\n"
     ]
    }
   ],
   "source": [
    "# Zerar um dicionário - clear()\n",
    "dicionario_1 = {\n",
    "    \"chave1\":\"valor1\",\n",
    "    \"chave2\":\"valor2\",\n",
    "    \"chave3\":\"valor3\"\n",
    "}\n",
    "dicionario_1.clear()\n",
    "print(dicionario_1)"
   ]
  },
  {
   "cell_type": "code",
   "execution_count": 19,
   "id": "dfc2e7b0-1622-4430-bdd9-d31cc07d89b3",
   "metadata": {},
   "outputs": [
    {
     "name": "stdout",
     "output_type": "stream",
     "text": [
      "dict_keys(['chave1', 'chave2', 'chave3'])\n",
      "chave1\n"
     ]
    }
   ],
   "source": [
    "# Acessando todas as chaves do dicionário - keys()\n",
    "dicionario_1 = {\n",
    "    \"chave1\":\"valor1\",\n",
    "    \"chave2\":\"valor2\",\n",
    "    \"chave3\":\"valor3\"\n",
    "}\n",
    "print(dicionario_1.keys())\n",
    "print(list(dicionario_1.keys())[0])"
   ]
  },
  {
   "cell_type": "code",
   "execution_count": 20,
   "id": "3f8fa9e3-0100-43b4-b634-4bcee9d92427",
   "metadata": {},
   "outputs": [
    {
     "name": "stdout",
     "output_type": "stream",
     "text": [
      "dict_values(['valor1', 'valor2', 'valor3'])\n"
     ]
    }
   ],
   "source": [
    "# Acessando os valores - values()\n",
    "print(dicionario_1.values())"
   ]
  },
  {
   "cell_type": "code",
   "execution_count": 21,
   "id": "3669c3f0-a30d-4d07-8e95-86c8291b7bce",
   "metadata": {},
   "outputs": [
    {
     "name": "stdout",
     "output_type": "stream",
     "text": [
      "valor2\n"
     ]
    }
   ],
   "source": [
    "#Convertendo para lista e acessando os elementos via posição\n",
    "print(list(dicionario_1.values())[1])"
   ]
  },
  {
   "cell_type": "code",
   "execution_count": 22,
   "id": "644b422d-b0d1-4cc1-9cb5-1133f8cca7e7",
   "metadata": {},
   "outputs": [
    {
     "name": "stdout",
     "output_type": "stream",
     "text": [
      "valor1\n",
      "valor2\n",
      "valor3\n"
     ]
    }
   ],
   "source": [
    "'''\n",
    "Como imprimir todos os valores do dicionário a seguir\n",
    "sem saber quais são as chaves e quantos elementos ele\n",
    "possui.\n",
    "'''\n",
    "dicionario_1 = {\n",
    "    \"chave1\":\"valor1\",\n",
    "    \"chave2\":\"valor2\",\n",
    "    \"chave3\":\"valor3\"\n",
    "}\n",
    "\n",
    "for valor in dicionario_1.values():\n",
    "    print(valor)\n",
    "\n"
   ]
  },
  {
   "cell_type": "code",
   "execution_count": 23,
   "id": "15cf037e-bc0c-41c8-bc67-bd4fc0d12f04",
   "metadata": {},
   "outputs": [
    {
     "name": "stdout",
     "output_type": "stream",
     "text": [
      "Chave:  chave1\n",
      "Valor:  valor1\n",
      "Chave:  chave2\n",
      "Valor:  valor2\n",
      "Chave:  chave3\n",
      "Valor:  valor3\n"
     ]
    }
   ],
   "source": [
    "'''\n",
    "Como imprimir todos as chaves e valores do dicionário a seguir\n",
    "sem saber quais são as chaves e quantos elementos ele\n",
    "possui.\n",
    "'''\n",
    "\n",
    "dicionario_1 = {\n",
    "    \"chave1\":\"valor1\",\n",
    "    \"chave2\":\"valor2\",\n",
    "    \"chave3\":\"valor3\"\n",
    "}\n",
    "\n",
    "for chave in dicionario_1.keys():\n",
    "    print(\"Chave: \",chave)\n",
    "    print(\"Valor: \",dicionario_1[chave])"
   ]
  },
  {
   "cell_type": "code",
   "execution_count": 25,
   "id": "abc1bb92-98db-42a2-9e96-7ff534425739",
   "metadata": {},
   "outputs": [
    {
     "name": "stdout",
     "output_type": "stream",
     "text": [
      "Chave:  chave1  Valor:  valor1\n",
      "Chave:  chave2  Valor:  valor2\n",
      "Chave:  chave3  Valor:  valor3\n"
     ]
    }
   ],
   "source": [
    "'''\n",
    "A função items() retorna ao mesmo tempo\n",
    "a chave e valor (retorno duplo)\n",
    "'''\n",
    "for chave,valor in dicionario_1.items():\n",
    "    print(\"Chave: \",chave,\" Valor: \",valor)"
   ]
  },
  {
   "cell_type": "code",
   "execution_count": 26,
   "id": "728ace9c-7b30-4731-88eb-ba52a6e0bdc7",
   "metadata": {},
   "outputs": [
    {
     "name": "stdout",
     "output_type": "stream",
     "text": [
      "80\n"
     ]
    }
   ],
   "source": [
    "# É possível salvar uma lista como valor de um dicionário\n",
    "\n",
    "dicionario_4 = {\n",
    "    \"notas1\":[80, 50],\n",
    "    \"notas2\":[60, 100]\n",
    "}\n",
    "\n",
    "print(dicionario_4[\"notas1\"][0])"
   ]
  },
  {
   "cell_type": "code",
   "execution_count": 30,
   "id": "a9ef5822-1669-4894-a9aa-c5a62a279292",
   "metadata": {},
   "outputs": [
    {
     "name": "stdout",
     "output_type": "stream",
     "text": [
      "{'nota1': 80, 'nota2': 60, 'nome': 'Bruno Gomes', 'CPF': '12345678901'}\n"
     ]
    }
   ],
   "source": [
    "# Para unir dois dicionários, se usa a função update()\n",
    "dicionario_5 = {\n",
    "    \"nota1\":80,\n",
    "    \"nota2\":60\n",
    "}\n",
    "\n",
    "dicionario_6 = {\n",
    "    \"nome\":\"Bruno Gomes\",\n",
    "    \"CPF\":\"12345678901\"\n",
    "}\n",
    "\n",
    "dicionario_5.update(dicionario_6)\n",
    "print(dicionario_5)"
   ]
  },
  {
   "cell_type": "code",
   "execution_count": 32,
   "id": "6612022c-d910-4f72-b1bd-4478f1a02122",
   "metadata": {},
   "outputs": [
    {
     "ename": "NameError",
     "evalue": "name 'dicionario_5' is not defined",
     "output_type": "error",
     "traceback": [
      "\u001b[1;31m------------------------------------------------\u001b[0m",
      "\u001b[1;31mNameError\u001b[0m      Traceback (most recent call last)",
      "Cell \u001b[1;32mIn[32], line 2\u001b[0m\n\u001b[0;32m      1\u001b[0m \u001b[38;5;66;03m# Apaga o dicionário\u001b[39;00m\n\u001b[1;32m----> 2\u001b[0m \u001b[38;5;28;01mdel\u001b[39;00m(dicionario_5)\n\u001b[0;32m      3\u001b[0m \u001b[38;5;28mprint\u001b[39m(dicionario_5)\n",
      "\u001b[1;31mNameError\u001b[0m: name 'dicionario_5' is not defined"
     ]
    }
   ],
   "source": [
    "# Apaga o dicionário\n",
    "del(dicionario_5)\n",
    "print(dicionario_5)"
   ]
  },
  {
   "cell_type": "code",
   "execution_count": 34,
   "id": "274fd0c3-8fdc-4cf8-94e3-85e96e3e75fc",
   "metadata": {},
   "outputs": [
    {
     "name": "stdout",
     "output_type": "stream",
     "text": [
      "{'nota2': 60}\n"
     ]
    }
   ],
   "source": [
    "# Remover um conjunto de chave e valor - função pop()\n",
    "dicionario_5 = {\n",
    "    \"nota1\":80,\n",
    "    \"nota2\":60\n",
    "}\n",
    "\n",
    "dicionario_5.pop(\"nota1\")\n",
    "print(dicionario_5)"
   ]
  }
 ],
 "metadata": {
  "kernelspec": {
   "display_name": "Python 3 (ipykernel)",
   "language": "python",
   "name": "python3"
  },
  "language_info": {
   "codemirror_mode": {
    "name": "ipython",
    "version": 3
   },
   "file_extension": ".py",
   "mimetype": "text/x-python",
   "name": "python",
   "nbconvert_exporter": "python",
   "pygments_lexer": "ipython3",
   "version": "3.10.4"
  }
 },
 "nbformat": 4,
 "nbformat_minor": 5
}
