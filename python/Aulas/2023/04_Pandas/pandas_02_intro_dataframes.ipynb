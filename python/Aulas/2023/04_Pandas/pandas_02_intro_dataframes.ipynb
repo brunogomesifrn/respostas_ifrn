{
 "cells": [
  {
   "cell_type": "markdown",
   "id": "fd8558a8",
   "metadata": {},
   "source": [
    "# Pandas"
   ]
  },
  {
   "cell_type": "markdown",
   "id": "189f5d93",
   "metadata": {},
   "source": [
    "#### Importando a biblioteca"
   ]
  },
  {
   "cell_type": "code",
   "execution_count": null,
   "id": "2e930b94",
   "metadata": {},
   "outputs": [],
   "source": []
  },
  {
   "cell_type": "markdown",
   "id": "54f4d0a7",
   "metadata": {},
   "source": [
    "## Dataframes"
   ]
  },
  {
   "cell_type": "markdown",
   "id": "41668d94",
   "metadata": {},
   "source": [
    "- Estrutura semelhante a uma planilha do Excel, contendo uma coleção de colunas em que cada uma pode ser um diferente tipo de valor (número, string, etc...).\n",
    "- Possuem index e linhas e esta estrutura é muito semelhante a um dataframe em R. Os dados de um dataframe são armazenados em um ou mais blocos bidimensionais, ao invés de listas, dicionários ou alguma estrutura de array."
   ]
  },
  {
   "cell_type": "markdown",
   "id": "94eb0cb1",
   "metadata": {},
   "source": [
    "#### Criando um dataframe"
   ]
  },
  {
   "cell_type": "code",
   "execution_count": null,
   "id": "11ec9884",
   "metadata": {},
   "outputs": [],
   "source": []
  },
  {
   "cell_type": "markdown",
   "id": "5298e4ea",
   "metadata": {},
   "source": [
    "#### Criando um dataframe com um dicionário de dados em variável"
   ]
  },
  {
   "cell_type": "code",
   "execution_count": null,
   "id": "9d7cdae4",
   "metadata": {},
   "outputs": [],
   "source": []
  },
  {
   "cell_type": "markdown",
   "id": "11a4f1ff",
   "metadata": {},
   "source": [
    "#### Criando um dataframe e alterando os índices"
   ]
  },
  {
   "cell_type": "code",
   "execution_count": null,
   "id": "7b72ac0a",
   "metadata": {},
   "outputs": [],
   "source": []
  },
  {
   "cell_type": "markdown",
   "id": "293ceac7",
   "metadata": {},
   "source": [
    "#### Criando um dataframe através de uma lista de duas dimensões e informando colunas e índices"
   ]
  },
  {
   "cell_type": "code",
   "execution_count": null,
   "id": "eb868342",
   "metadata": {},
   "outputs": [],
   "source": []
  },
  {
   "cell_type": "markdown",
   "id": "d1f796eb",
   "metadata": {},
   "source": [
    "#### Criando um dataframe com tipos de dados diferentes"
   ]
  },
  {
   "cell_type": "code",
   "execution_count": null,
   "id": "919793d9",
   "metadata": {},
   "outputs": [],
   "source": []
  },
  {
   "cell_type": "markdown",
   "id": "e23b96a0",
   "metadata": {},
   "source": [
    "#### Retornar uma coluna inteira"
   ]
  },
  {
   "cell_type": "code",
   "execution_count": null,
   "id": "9d50c661",
   "metadata": {},
   "outputs": [],
   "source": []
  },
  {
   "cell_type": "code",
   "execution_count": null,
   "id": "e5e8b7bb",
   "metadata": {},
   "outputs": [],
   "source": []
  },
  {
   "cell_type": "markdown",
   "id": "4e75aa0e",
   "metadata": {},
   "source": [
    "#### Retornar colunas"
   ]
  },
  {
   "cell_type": "code",
   "execution_count": null,
   "id": "e84c876e",
   "metadata": {},
   "outputs": [],
   "source": []
  },
  {
   "cell_type": "markdown",
   "id": "404b3476",
   "metadata": {},
   "source": [
    "#### Retornar os índices"
   ]
  },
  {
   "cell_type": "code",
   "execution_count": null,
   "id": "c4c76b9a",
   "metadata": {},
   "outputs": [],
   "source": []
  },
  {
   "cell_type": "markdown",
   "id": "5eb80e2b",
   "metadata": {},
   "source": [
    "#### Retornar os valores"
   ]
  },
  {
   "cell_type": "code",
   "execution_count": null,
   "id": "eb40fa7b",
   "metadata": {},
   "outputs": [],
   "source": []
  },
  {
   "cell_type": "markdown",
   "id": "c253e9e9",
   "metadata": {},
   "source": [
    "#### Retornar tipos de dados de cada coluna"
   ]
  },
  {
   "cell_type": "code",
   "execution_count": null,
   "id": "872c0c7b",
   "metadata": {},
   "outputs": [],
   "source": []
  },
  {
   "cell_type": "markdown",
   "id": "48c562c2",
   "metadata": {},
   "source": [
    "## Funções para Dataframes"
   ]
  },
  {
   "cell_type": "markdown",
   "id": "dde44bf3",
   "metadata": {},
   "source": [
    "#### head()\n",
    "\n",
    "Exibe apenas as primeiras linhas do dataframe (cabeçalho)"
   ]
  },
  {
   "cell_type": "code",
   "execution_count": null,
   "id": "2489766d",
   "metadata": {},
   "outputs": [],
   "source": []
  },
  {
   "cell_type": "markdown",
   "id": "59c19cb9",
   "metadata": {},
   "source": [
    "#### describe()\n",
    "\n",
    "Retorna alguns dados estatísticos descritivos das colunas numéricas"
   ]
  },
  {
   "cell_type": "code",
   "execution_count": null,
   "id": "887b259e",
   "metadata": {},
   "outputs": [],
   "source": []
  },
  {
   "cell_type": "markdown",
   "id": "6d3193fb",
   "metadata": {},
   "source": [
    "#### isnull()\n",
    "\n",
    "Retorna True se o valor é nulo, False se não for"
   ]
  },
  {
   "cell_type": "code",
   "execution_count": null,
   "id": "a07e6cc0",
   "metadata": {},
   "outputs": [],
   "source": []
  },
  {
   "cell_type": "markdown",
   "id": "27d53f89",
   "metadata": {},
   "source": [
    "#### notnull()\n",
    "\n",
    "Retorna True se o valor não é, False se for"
   ]
  },
  {
   "cell_type": "code",
   "execution_count": null,
   "id": "e5a2f010",
   "metadata": {},
   "outputs": [],
   "source": []
  },
  {
   "cell_type": "markdown",
   "id": "920d56e2",
   "metadata": {},
   "source": [
    "#### max()\n",
    "\n",
    "Retorna o maior valor de cada coluna"
   ]
  },
  {
   "cell_type": "code",
   "execution_count": null,
   "id": "2578096d",
   "metadata": {},
   "outputs": [],
   "source": []
  },
  {
   "cell_type": "markdown",
   "id": "9948e3ed",
   "metadata": {},
   "source": [
    "#### min()\n",
    "\n",
    "Retorna o menor valor de cada coluna"
   ]
  },
  {
   "cell_type": "code",
   "execution_count": null,
   "id": "f472a1ed",
   "metadata": {},
   "outputs": [],
   "source": []
  }
 ],
 "metadata": {
  "kernelspec": {
   "display_name": "Python 3 (ipykernel)",
   "language": "python",
   "name": "python3"
  },
  "language_info": {
   "codemirror_mode": {
    "name": "ipython",
    "version": 3
   },
   "file_extension": ".py",
   "mimetype": "text/x-python",
   "name": "python",
   "nbconvert_exporter": "python",
   "pygments_lexer": "ipython3",
   "version": "3.10.8"
  }
 },
 "nbformat": 4,
 "nbformat_minor": 5
}
