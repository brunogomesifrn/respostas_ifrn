{
 "cells": [
  {
   "cell_type": "markdown",
   "id": "71e3d0de",
   "metadata": {},
   "source": [
    "# Pandas"
   ]
  },
  {
   "cell_type": "markdown",
   "id": "f3536aa6",
   "metadata": {},
   "source": [
    "Ferramenta python para análise e manipulação de dados de código aberto, poderosa e flexível.\n",
    "- Converte e mapeia dados de um estado \"bruto\" para um formato que permita a fácil manipulação\n",
    "- Bastante usada na fase de preparação de dados;\n",
    "- Boa integração com a ferramenta Numpy.\n",
    "\n",
    "Formatos:\n",
    "- Serie;\n",
    "- Dataframe.\n",
    "\n",
    "Site oficial:\n",
    "- https://pandas.pydata.org/\n",
    "\n",
    "Instalação:\n",
    "- pip install pandas"
   ]
  },
  {
   "cell_type": "markdown",
   "id": "c1ff13bf",
   "metadata": {},
   "source": [
    "#### Importando a biblioteca"
   ]
  },
  {
   "cell_type": "code",
   "execution_count": 1,
   "id": "36745479",
   "metadata": {},
   "outputs": [],
   "source": [
    "import pandas as pd"
   ]
  },
  {
   "cell_type": "markdown",
   "id": "682642fc",
   "metadata": {},
   "source": [
    "## Series"
   ]
  },
  {
   "cell_type": "markdown",
   "id": "200eca2a",
   "metadata": {},
   "source": [
    "Array unidimensional que contém um array de dados (values) e um array de labels (index)\n",
    "\n",
    "series_exemplo = Series([4, 7, -5, 3], index = ['a', 'b', 'c', 'd'])"
   ]
  },
  {
   "cell_type": "markdown",
   "id": "65b3f46b",
   "metadata": {},
   "source": [
    "#### Criando uma Serie"
   ]
  },
  {
   "cell_type": "code",
   "execution_count": 2,
   "id": "ca6a9606",
   "metadata": {},
   "outputs": [
    {
     "data": {
      "text/plain": [
       "0     5\n",
       "1     2\n",
       "2    54\n",
       "3     1\n",
       "dtype: int64"
      ]
     },
     "execution_count": 2,
     "metadata": {},
     "output_type": "execute_result"
    }
   ],
   "source": [
    "series_1 = pd.Series([5,2,54,1])\n",
    "series_1"
   ]
  },
  {
   "cell_type": "markdown",
   "id": "9be7799d",
   "metadata": {},
   "source": [
    "#### Acessando/Imprimindo valores da Serie"
   ]
  },
  {
   "cell_type": "code",
   "execution_count": 3,
   "id": "a3d33da4",
   "metadata": {},
   "outputs": [
    {
     "data": {
      "text/plain": [
       "array([ 5,  2, 54,  1], dtype=int64)"
      ]
     },
     "execution_count": 3,
     "metadata": {},
     "output_type": "execute_result"
    }
   ],
   "source": [
    "series_1.values"
   ]
  },
  {
   "cell_type": "markdown",
   "id": "1637cf6d",
   "metadata": {},
   "source": [
    "#### Acessando/Imprimindo índices da Serie"
   ]
  },
  {
   "cell_type": "code",
   "execution_count": 4,
   "id": "37be2800",
   "metadata": {},
   "outputs": [
    {
     "data": {
      "text/plain": [
       "RangeIndex(start=0, stop=4, step=1)"
      ]
     },
     "execution_count": 4,
     "metadata": {},
     "output_type": "execute_result"
    }
   ],
   "source": [
    "series_1.index"
   ]
  },
  {
   "cell_type": "markdown",
   "id": "32f861ca",
   "metadata": {},
   "source": [
    "#### Acessando um valor da Serie"
   ]
  },
  {
   "cell_type": "code",
   "execution_count": 5,
   "id": "23683e55",
   "metadata": {},
   "outputs": [
    {
     "data": {
      "text/plain": [
       "54"
      ]
     },
     "execution_count": 5,
     "metadata": {},
     "output_type": "execute_result"
    }
   ],
   "source": [
    "series_1[2]"
   ]
  },
  {
   "cell_type": "markdown",
   "id": "b1275d4c",
   "metadata": {},
   "source": [
    "#### Informando manualmente os índices da Serie"
   ]
  },
  {
   "cell_type": "code",
   "execution_count": 10,
   "id": "3a0a3bc4",
   "metadata": {},
   "outputs": [
    {
     "data": {
      "text/plain": [
       "a     5\n",
       "b     2\n",
       "c    54\n",
       "d     1\n",
       "dtype: int64"
      ]
     },
     "execution_count": 10,
     "metadata": {},
     "output_type": "execute_result"
    }
   ],
   "source": [
    "series_2 = pd.Series([5,2,54,1], index=['a','b','c','d'])\n",
    "series_2"
   ]
  },
  {
   "cell_type": "code",
   "execution_count": 11,
   "id": "07d29343",
   "metadata": {},
   "outputs": [
    {
     "data": {
      "text/plain": [
       "Index(['a', 'b', 'c', 'd'], dtype='object')"
      ]
     },
     "execution_count": 11,
     "metadata": {},
     "output_type": "execute_result"
    }
   ],
   "source": [
    "series_2.index"
   ]
  },
  {
   "cell_type": "code",
   "execution_count": 12,
   "id": "7c385a5a",
   "metadata": {},
   "outputs": [
    {
     "data": {
      "text/plain": [
       "2"
      ]
     },
     "execution_count": 12,
     "metadata": {},
     "output_type": "execute_result"
    }
   ],
   "source": [
    "series_2['b']"
   ]
  },
  {
   "cell_type": "markdown",
   "id": "fdee2cf5",
   "metadata": {},
   "source": [
    "#### Informando índices através de uma lista Python"
   ]
  },
  {
   "cell_type": "code",
   "execution_count": 13,
   "id": "919fd89f",
   "metadata": {},
   "outputs": [
    {
     "data": {
      "text/plain": [
       "a     5\n",
       "b     4\n",
       "c     2\n",
       "d    11\n",
       "dtype: int64"
      ]
     },
     "execution_count": 13,
     "metadata": {},
     "output_type": "execute_result"
    }
   ],
   "source": [
    "lista_1 = ['a','b','c','d']\n",
    "series_3 = pd.Series([5,4,2,11],index=lista_1)\n",
    "series_3"
   ]
  },
  {
   "cell_type": "markdown",
   "id": "459fd079",
   "metadata": {},
   "source": [
    "#### Criando uma Serie através de um dicionário de dados"
   ]
  },
  {
   "cell_type": "code",
   "execution_count": 14,
   "id": "14de6393",
   "metadata": {},
   "outputs": [
    {
     "data": {
      "text/plain": [
       "a    10\n",
       "b    33\n",
       "c    25\n",
       "dtype: int64"
      ]
     },
     "execution_count": 14,
     "metadata": {},
     "output_type": "execute_result"
    }
   ],
   "source": [
    "dicionario_1 = {'a':10,'b':33,'c':25}\n",
    "series_4 = pd.Series(dicionario_1)\n",
    "series_4"
   ]
  },
  {
   "cell_type": "markdown",
   "id": "546508b7",
   "metadata": {},
   "source": [
    "#### Criando Series usando Array numpy"
   ]
  },
  {
   "cell_type": "code",
   "execution_count": 15,
   "id": "22ba50e7",
   "metadata": {},
   "outputs": [
    {
     "data": {
      "text/plain": [
       "0     5\n",
       "1     2\n",
       "2    18\n",
       "dtype: int32"
      ]
     },
     "execution_count": 15,
     "metadata": {},
     "output_type": "execute_result"
    }
   ],
   "source": [
    "import numpy as np\n",
    "array_1 = np.array([5,2,18])\n",
    "series_5 = pd.Series(array_1)\n",
    "series_5"
   ]
  },
  {
   "cell_type": "markdown",
   "id": "b8d9062d",
   "metadata": {},
   "source": [
    "#### Nomeando uma série"
   ]
  },
  {
   "cell_type": "code",
   "execution_count": 16,
   "id": "73da73dd",
   "metadata": {},
   "outputs": [
    {
     "data": {
      "text/plain": [
       "0     5\n",
       "1     2\n",
       "2    18\n",
       "Name: Aula, dtype: int32"
      ]
     },
     "execution_count": 16,
     "metadata": {},
     "output_type": "execute_result"
    }
   ],
   "source": [
    "series_5.name = 'Aula'\n",
    "series_5"
   ]
  },
  {
   "cell_type": "code",
   "execution_count": 17,
   "id": "8bcc8cb0",
   "metadata": {},
   "outputs": [
    {
     "data": {
      "text/plain": [
       "'Aula'"
      ]
     },
     "execution_count": 17,
     "metadata": {},
     "output_type": "execute_result"
    }
   ],
   "source": [
    "series_5.name"
   ]
  },
  {
   "cell_type": "markdown",
   "id": "2108eddc",
   "metadata": {},
   "source": [
    "## Funções para Series"
   ]
  },
  {
   "cell_type": "markdown",
   "id": "0eebb718",
   "metadata": {},
   "source": [
    "#### head()\n",
    "\n",
    "Exibe as primeiras 5 linhas da série (cabeçalho)"
   ]
  },
  {
   "cell_type": "code",
   "execution_count": 21,
   "id": "47a5096d",
   "metadata": {},
   "outputs": [
    {
     "data": {
      "text/plain": [
       "0    5\n",
       "1    1\n",
       "2    7\n",
       "3    2\n",
       "4    5\n",
       "dtype: int64"
      ]
     },
     "execution_count": 21,
     "metadata": {},
     "output_type": "execute_result"
    }
   ],
   "source": [
    "series_6 = pd.Series([5,1,7,2,5,78,2,4,5,1])\n",
    "series_6.head()"
   ]
  },
  {
   "cell_type": "markdown",
   "id": "40b96c4d",
   "metadata": {},
   "source": [
    "#### describe()\n",
    "\n",
    "Retorna alguns dados estatísticos descritivos"
   ]
  },
  {
   "cell_type": "code",
   "execution_count": null,
   "id": "76fafb00",
   "metadata": {},
   "outputs": [],
   "source": []
  },
  {
   "cell_type": "markdown",
   "id": "b2e3b30d",
   "metadata": {},
   "source": [
    "#### sort_values()\n",
    "\n",
    "Ordena os valores de uma Serie"
   ]
  },
  {
   "cell_type": "code",
   "execution_count": null,
   "id": "0dbc7c95",
   "metadata": {},
   "outputs": [],
   "source": []
  },
  {
   "cell_type": "code",
   "execution_count": null,
   "id": "5aa4ad9f",
   "metadata": {},
   "outputs": [],
   "source": []
  },
  {
   "cell_type": "markdown",
   "id": "13cbf939",
   "metadata": {},
   "source": [
    "#### isnull()\n",
    "\n",
    "Retorna True se o valor é nulo, False se não for"
   ]
  },
  {
   "cell_type": "code",
   "execution_count": null,
   "id": "3f0ad12d",
   "metadata": {},
   "outputs": [],
   "source": []
  },
  {
   "cell_type": "markdown",
   "id": "900bc318",
   "metadata": {},
   "source": [
    "#### notnull()\n",
    "\n",
    "Retorna True se o valor não é, False se for"
   ]
  },
  {
   "cell_type": "code",
   "execution_count": null,
   "id": "77499b0d",
   "metadata": {},
   "outputs": [],
   "source": []
  },
  {
   "cell_type": "markdown",
   "id": "48716a52",
   "metadata": {},
   "source": [
    "#### unique()\n",
    "\n",
    "Retorna uma lista dos elementos únicos com base na ocorrência."
   ]
  },
  {
   "cell_type": "code",
   "execution_count": null,
   "id": "a68edcfe",
   "metadata": {},
   "outputs": [],
   "source": []
  },
  {
   "cell_type": "markdown",
   "id": "27d94db7",
   "metadata": {},
   "source": [
    "#### nunique()\n",
    "\n",
    "Número de itens distintos da Series. Não inclui dados nulos"
   ]
  },
  {
   "cell_type": "code",
   "execution_count": null,
   "id": "6d82600c",
   "metadata": {},
   "outputs": [],
   "source": []
  },
  {
   "cell_type": "markdown",
   "id": "d76dc636",
   "metadata": {},
   "source": [
    "#### max()\n",
    "\n",
    "Retorna o maior valor da Serie"
   ]
  },
  {
   "cell_type": "code",
   "execution_count": null,
   "id": "32bff26d",
   "metadata": {},
   "outputs": [],
   "source": []
  },
  {
   "cell_type": "markdown",
   "id": "1fa5fb80",
   "metadata": {},
   "source": [
    "#### min()\n",
    "\n",
    "Retorna o menor valor da Serie"
   ]
  },
  {
   "cell_type": "code",
   "execution_count": null,
   "id": "11287b3f",
   "metadata": {},
   "outputs": [],
   "source": []
  },
  {
   "cell_type": "markdown",
   "id": "9c9dbc83",
   "metadata": {},
   "source": [
    "#### sum()\n",
    "\n",
    "Retorna a soma de todos os valores numéricos da Serie"
   ]
  },
  {
   "cell_type": "code",
   "execution_count": null,
   "id": "e3d978d6",
   "metadata": {},
   "outputs": [],
   "source": []
  }
 ],
 "metadata": {
  "kernelspec": {
   "display_name": "Python 3 (ipykernel)",
   "language": "python",
   "name": "python3"
  },
  "language_info": {
   "codemirror_mode": {
    "name": "ipython",
    "version": 3
   },
   "file_extension": ".py",
   "mimetype": "text/x-python",
   "name": "python",
   "nbconvert_exporter": "python",
   "pygments_lexer": "ipython3",
   "version": "3.10.4"
  }
 },
 "nbformat": 4,
 "nbformat_minor": 5
}
