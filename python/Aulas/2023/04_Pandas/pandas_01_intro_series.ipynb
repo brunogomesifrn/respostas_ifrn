{
 "cells": [
  {
   "cell_type": "markdown",
   "id": "71e3d0de",
   "metadata": {},
   "source": [
    "# Pandas"
   ]
  },
  {
   "cell_type": "markdown",
   "id": "f3536aa6",
   "metadata": {},
   "source": [
    "Ferramenta python para análise e manipulação de dados de código aberto, poderosa e flexível.\n",
    "- Converte e mapeia dados de um estado \"bruto\" para um formato que permita a fácil manipulação\n",
    "- Bastante usada na fase de preparação de dados;\n",
    "- Boa integração com a ferramenta Numpy.\n",
    "\n",
    "Formatos:\n",
    "- Serie;\n",
    "- Dataframe.\n",
    "\n",
    "Site oficial:\n",
    "- https://pandas.pydata.org/\n",
    "\n",
    "Instalação:\n",
    "- pip install pandas"
   ]
  },
  {
   "cell_type": "markdown",
   "id": "c1ff13bf",
   "metadata": {},
   "source": [
    "#### Importando a biblioteca"
   ]
  },
  {
   "cell_type": "code",
   "execution_count": null,
   "id": "36745479",
   "metadata": {},
   "outputs": [],
   "source": []
  },
  {
   "cell_type": "markdown",
   "id": "682642fc",
   "metadata": {},
   "source": [
    "## Series"
   ]
  },
  {
   "cell_type": "markdown",
   "id": "200eca2a",
   "metadata": {},
   "source": [
    "Array unidimensional que contém um array de dados (values) e um array de labels (index)\n",
    "\n",
    "series_exemplo = Series([4, 7, -5, 3], index = ['a', 'b', 'c', 'd'])"
   ]
  },
  {
   "cell_type": "markdown",
   "id": "65b3f46b",
   "metadata": {},
   "source": [
    "#### Criando uma Serie"
   ]
  },
  {
   "cell_type": "code",
   "execution_count": null,
   "id": "ca6a9606",
   "metadata": {},
   "outputs": [],
   "source": []
  },
  {
   "cell_type": "markdown",
   "id": "9be7799d",
   "metadata": {},
   "source": [
    "#### Acessando/Imprimindo valores da Serie"
   ]
  },
  {
   "cell_type": "code",
   "execution_count": null,
   "id": "a3d33da4",
   "metadata": {},
   "outputs": [],
   "source": []
  },
  {
   "cell_type": "markdown",
   "id": "1637cf6d",
   "metadata": {},
   "source": [
    "#### Acessando/Imprimindo índices da Serie"
   ]
  },
  {
   "cell_type": "code",
   "execution_count": null,
   "id": "37be2800",
   "metadata": {},
   "outputs": [],
   "source": []
  },
  {
   "cell_type": "markdown",
   "id": "32f861ca",
   "metadata": {},
   "source": [
    "#### Acessando um valor da Serie"
   ]
  },
  {
   "cell_type": "code",
   "execution_count": null,
   "id": "23683e55",
   "metadata": {},
   "outputs": [],
   "source": []
  },
  {
   "cell_type": "markdown",
   "id": "b1275d4c",
   "metadata": {},
   "source": [
    "#### Informando manualmente os índices da Serie"
   ]
  },
  {
   "cell_type": "code",
   "execution_count": null,
   "id": "3a0a3bc4",
   "metadata": {},
   "outputs": [],
   "source": []
  },
  {
   "cell_type": "code",
   "execution_count": null,
   "id": "07d29343",
   "metadata": {},
   "outputs": [],
   "source": []
  },
  {
   "cell_type": "code",
   "execution_count": null,
   "id": "7c385a5a",
   "metadata": {},
   "outputs": [],
   "source": []
  },
  {
   "cell_type": "markdown",
   "id": "fdee2cf5",
   "metadata": {},
   "source": [
    "#### Informando índices através de uma lista Python"
   ]
  },
  {
   "cell_type": "code",
   "execution_count": null,
   "id": "919fd89f",
   "metadata": {},
   "outputs": [],
   "source": []
  },
  {
   "cell_type": "markdown",
   "id": "459fd079",
   "metadata": {},
   "source": [
    "#### Criando uma Serie através de um dicionário de dados"
   ]
  },
  {
   "cell_type": "code",
   "execution_count": null,
   "id": "14de6393",
   "metadata": {},
   "outputs": [],
   "source": []
  },
  {
   "cell_type": "markdown",
   "id": "546508b7",
   "metadata": {},
   "source": [
    "#### Criando Series usando Array numpy"
   ]
  },
  {
   "cell_type": "code",
   "execution_count": null,
   "id": "22ba50e7",
   "metadata": {},
   "outputs": [],
   "source": []
  },
  {
   "cell_type": "markdown",
   "id": "b8d9062d",
   "metadata": {},
   "source": [
    "#### Nomeando uma série"
   ]
  },
  {
   "cell_type": "code",
   "execution_count": null,
   "id": "73da73dd",
   "metadata": {},
   "outputs": [],
   "source": []
  },
  {
   "cell_type": "code",
   "execution_count": null,
   "id": "8bcc8cb0",
   "metadata": {},
   "outputs": [],
   "source": []
  },
  {
   "cell_type": "markdown",
   "id": "2108eddc",
   "metadata": {},
   "source": [
    "## Funções para Series"
   ]
  },
  {
   "cell_type": "markdown",
   "id": "0eebb718",
   "metadata": {},
   "source": [
    "#### head()\n",
    "\n",
    "Exibe as primeiras 5 linhas da série (cabeçalho)"
   ]
  },
  {
   "cell_type": "code",
   "execution_count": null,
   "id": "47a5096d",
   "metadata": {},
   "outputs": [],
   "source": []
  },
  {
   "cell_type": "markdown",
   "id": "40b96c4d",
   "metadata": {},
   "source": [
    "#### describe()\n",
    "\n",
    "Retorna alguns dados estatísticos descritivos"
   ]
  },
  {
   "cell_type": "code",
   "execution_count": null,
   "id": "76fafb00",
   "metadata": {},
   "outputs": [],
   "source": []
  },
  {
   "cell_type": "markdown",
   "id": "b2e3b30d",
   "metadata": {},
   "source": [
    "#### sort_values()\n",
    "\n",
    "Ordena os valores de uma Serie"
   ]
  },
  {
   "cell_type": "code",
   "execution_count": null,
   "id": "0dbc7c95",
   "metadata": {},
   "outputs": [],
   "source": []
  },
  {
   "cell_type": "code",
   "execution_count": null,
   "id": "5aa4ad9f",
   "metadata": {},
   "outputs": [],
   "source": []
  },
  {
   "cell_type": "markdown",
   "id": "13cbf939",
   "metadata": {},
   "source": [
    "#### isnull()\n",
    "\n",
    "Retorna True se o valor é nulo, False se não for"
   ]
  },
  {
   "cell_type": "code",
   "execution_count": null,
   "id": "3f0ad12d",
   "metadata": {},
   "outputs": [],
   "source": []
  },
  {
   "cell_type": "markdown",
   "id": "900bc318",
   "metadata": {},
   "source": [
    "#### notnull()\n",
    "\n",
    "Retorna True se o valor não é, False se for"
   ]
  },
  {
   "cell_type": "code",
   "execution_count": null,
   "id": "77499b0d",
   "metadata": {},
   "outputs": [],
   "source": []
  },
  {
   "cell_type": "markdown",
   "id": "48716a52",
   "metadata": {},
   "source": [
    "#### unique()\n",
    "\n",
    "Retorna uma lista dos elementos únicos com base na ocorrência."
   ]
  },
  {
   "cell_type": "code",
   "execution_count": null,
   "id": "a68edcfe",
   "metadata": {},
   "outputs": [],
   "source": []
  },
  {
   "cell_type": "markdown",
   "id": "27d94db7",
   "metadata": {},
   "source": [
    "#### nunique()\n",
    "\n",
    "Número de itens distintos da Series. Não inclui dados nulos"
   ]
  },
  {
   "cell_type": "code",
   "execution_count": null,
   "id": "6d82600c",
   "metadata": {},
   "outputs": [],
   "source": []
  },
  {
   "cell_type": "markdown",
   "id": "d76dc636",
   "metadata": {},
   "source": [
    "#### max()\n",
    "\n",
    "Retorna o maior valor da Serie"
   ]
  },
  {
   "cell_type": "code",
   "execution_count": null,
   "id": "32bff26d",
   "metadata": {},
   "outputs": [],
   "source": []
  },
  {
   "cell_type": "markdown",
   "id": "1fa5fb80",
   "metadata": {},
   "source": [
    "#### min()\n",
    "\n",
    "Retorna o menor valor da Serie"
   ]
  },
  {
   "cell_type": "code",
   "execution_count": null,
   "id": "11287b3f",
   "metadata": {},
   "outputs": [],
   "source": []
  },
  {
   "cell_type": "markdown",
   "id": "9c9dbc83",
   "metadata": {},
   "source": [
    "#### sum()\n",
    "\n",
    "Retorna a soma de todos os valores numéricos da Serie"
   ]
  },
  {
   "cell_type": "code",
   "execution_count": null,
   "id": "e3d978d6",
   "metadata": {},
   "outputs": [],
   "source": []
  }
 ],
 "metadata": {
  "kernelspec": {
   "display_name": "Python 3 (ipykernel)",
   "language": "python",
   "name": "python3"
  },
  "language_info": {
   "codemirror_mode": {
    "name": "ipython",
    "version": 3
   },
   "file_extension": ".py",
   "mimetype": "text/x-python",
   "name": "python",
   "nbconvert_exporter": "python",
   "pygments_lexer": "ipython3",
   "version": "3.10.8"
  }
 },
 "nbformat": 4,
 "nbformat_minor": 5
}
