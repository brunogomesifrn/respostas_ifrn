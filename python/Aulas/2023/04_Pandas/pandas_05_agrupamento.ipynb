{
 "cells": [
  {
   "cell_type": "markdown",
   "id": "fba87a37-1e6c-499d-bc0b-412906fe00ba",
   "metadata": {},
   "source": [
    "# Função de Agrupamento"
   ]
  },
  {
   "cell_type": "code",
   "execution_count": 1,
   "id": "de6d1581-1224-4d32-bfcb-11f82d87d424",
   "metadata": {},
   "outputs": [],
   "source": [
    "import pandas as pd"
   ]
  },
  {
   "cell_type": "code",
   "execution_count": 4,
   "id": "6e3e94cd-7018-4363-bf74-5e4e1b7fd142",
   "metadata": {},
   "outputs": [
    {
     "data": {
      "text/html": [
       "<div>\n",
       "<style scoped>\n",
       "    .dataframe tbody tr th:only-of-type {\n",
       "        vertical-align: middle;\n",
       "    }\n",
       "\n",
       "    .dataframe tbody tr th {\n",
       "        vertical-align: top;\n",
       "    }\n",
       "\n",
       "    .dataframe thead th {\n",
       "        text-align: right;\n",
       "    }\n",
       "</style>\n",
       "<table border=\"1\" class=\"dataframe\">\n",
       "  <thead>\n",
       "    <tr style=\"text-align: right;\">\n",
       "      <th></th>\n",
       "      <th>Loja</th>\n",
       "      <th>Cliente</th>\n",
       "      <th>Valor</th>\n",
       "    </tr>\n",
       "  </thead>\n",
       "  <tbody>\n",
       "    <tr>\n",
       "      <th>0</th>\n",
       "      <td>L1</td>\n",
       "      <td>Raniere</td>\n",
       "      <td>500.0</td>\n",
       "    </tr>\n",
       "    <tr>\n",
       "      <th>1</th>\n",
       "      <td>L2</td>\n",
       "      <td>Ed</td>\n",
       "      <td>150.0</td>\n",
       "    </tr>\n",
       "    <tr>\n",
       "      <th>2</th>\n",
       "      <td>L1</td>\n",
       "      <td>Pedro</td>\n",
       "      <td>140.0</td>\n",
       "    </tr>\n",
       "    <tr>\n",
       "      <th>3</th>\n",
       "      <td>L3</td>\n",
       "      <td>Raniere</td>\n",
       "      <td>233.0</td>\n",
       "    </tr>\n",
       "    <tr>\n",
       "      <th>4</th>\n",
       "      <td>L2</td>\n",
       "      <td>Raniere</td>\n",
       "      <td>30.0</td>\n",
       "    </tr>\n",
       "    <tr>\n",
       "      <th>5</th>\n",
       "      <td>L1</td>\n",
       "      <td>Matheus</td>\n",
       "      <td>150.0</td>\n",
       "    </tr>\n",
       "  </tbody>\n",
       "</table>\n",
       "</div>"
      ],
      "text/plain": [
       "  Loja  Cliente  Valor\n",
       "0   L1  Raniere  500.0\n",
       "1   L2       Ed  150.0\n",
       "2   L1    Pedro  140.0\n",
       "3   L3  Raniere  233.0\n",
       "4   L2  Raniere   30.0\n",
       "5   L1  Matheus  150.0"
      ]
     },
     "execution_count": 4,
     "metadata": {},
     "output_type": "execute_result"
    }
   ],
   "source": [
    "vendas = {\n",
    "    'Loja': ['L1', 'L2', 'L1', 'L3', 'L2', 'L1'],\n",
    "    'Cliente': ['Raniere','Ed','Pedro','Raniere','Raniere','Matheus'],\n",
    "    'Valor': [500.00, 150.00, 140.00, 233.00, 30.00, 150.00]\n",
    "}\n",
    "dataframe_vendas = pd.DataFrame(vendas)\n",
    "dataframe_vendas"
   ]
  },
  {
   "cell_type": "markdown",
   "id": "29114735-7ba7-4a4e-b0bd-4b071b634400",
   "metadata": {},
   "source": [
    "## Função groupby()"
   ]
  },
  {
   "cell_type": "code",
   "execution_count": 14,
   "id": "ac1f3842-c295-440e-8c12-54dbd774c62c",
   "metadata": {},
   "outputs": [
    {
     "data": {
      "text/plain": [
       "Loja\n",
       "L1    3\n",
       "L2    2\n",
       "L3    1\n",
       "Name: Loja, dtype: int64"
      ]
     },
     "execution_count": 14,
     "metadata": {},
     "output_type": "execute_result"
    }
   ],
   "source": [
    "# Quantas vendas por loja foram feitas\n",
    "\n",
    "dataframe_vendas.groupby('Loja')['Loja'].count()"
   ]
  },
  {
   "cell_type": "code",
   "execution_count": 15,
   "id": "04b236cf-f9e0-4abc-bcfb-f2d5fe512bee",
   "metadata": {},
   "outputs": [
    {
     "data": {
      "text/plain": [
       "Loja\n",
       "L1    3\n",
       "Name: Loja, dtype: int64"
      ]
     },
     "execution_count": 15,
     "metadata": {},
     "output_type": "execute_result"
    }
   ],
   "source": [
    "# Quantas vendas foram realizadas pela Loja L1\n",
    "\n",
    "dataframe_vendas[dataframe_vendas.Loja == 'L1'].groupby('Loja')['Loja'].count()"
   ]
  },
  {
   "cell_type": "code",
   "execution_count": 18,
   "id": "e78979d1-b0ac-48b1-b595-1f761b100e90",
   "metadata": {},
   "outputs": [
    {
     "data": {
      "text/plain": [
       "Cliente\n",
       "Ed         1\n",
       "Matheus    1\n",
       "Pedro      1\n",
       "Raniere    3\n",
       "Name: Cliente, dtype: int64"
      ]
     },
     "execution_count": 18,
     "metadata": {},
     "output_type": "execute_result"
    }
   ],
   "source": [
    "# Quantas compras foram realizadas por cada cliente\n",
    "\n",
    "dataframe_vendas.groupby('Cliente')['Cliente'].count()"
   ]
  },
  {
   "cell_type": "code",
   "execution_count": 19,
   "id": "cf7dc1a0-7cb9-4eee-ac31-3322819e21a6",
   "metadata": {},
   "outputs": [
    {
     "data": {
      "text/plain": [
       "Loja  Cliente\n",
       "L1    Matheus    1\n",
       "      Pedro      1\n",
       "      Raniere    1\n",
       "L2    Ed         1\n",
       "      Raniere    1\n",
       "L3    Raniere    1\n",
       "Name: Cliente, dtype: int64"
      ]
     },
     "execution_count": 19,
     "metadata": {},
     "output_type": "execute_result"
    }
   ],
   "source": [
    "# Por loja, quais clientes e quantas compras cada um realizou\n",
    "\n",
    "dataframe_vendas.groupby(['Loja','Cliente'])['Cliente'].count()"
   ]
  },
  {
   "cell_type": "code",
   "execution_count": 21,
   "id": "e7233e57-da48-44d9-8fde-4525acdb5442",
   "metadata": {},
   "outputs": [
    {
     "data": {
      "text/plain": [
       "Loja\n",
       "L1    790.0\n",
       "L2    180.0\n",
       "L3    233.0\n",
       "Name: Valor, dtype: float64"
      ]
     },
     "execution_count": 21,
     "metadata": {},
     "output_type": "execute_result"
    }
   ],
   "source": [
    "# Qual o valor de todas as vendas por loja\n",
    "\n",
    "dataframe_vendas.groupby('Loja')['Valor'].sum()"
   ]
  },
  {
   "cell_type": "code",
   "execution_count": 24,
   "id": "52a7a8e6-6d02-4db3-aea1-471cec7030fe",
   "metadata": {},
   "outputs": [
    {
     "data": {
      "text/plain": [
       "Loja\n",
       "L1    790.0\n",
       "L3    233.0\n",
       "L2    180.0\n",
       "Name: Valor, dtype: float64"
      ]
     },
     "execution_count": 24,
     "metadata": {},
     "output_type": "execute_result"
    }
   ],
   "source": [
    "'''\n",
    "Usando o exemplo anterior, ordenar \n",
    "da loja que mais vendeu para a que menos vendeu\n",
    "'''\n",
    "\n",
    "dataframe_vendas.groupby('Loja')['Valor'].sum().sort_values(ascending=False)"
   ]
  },
  {
   "cell_type": "code",
   "execution_count": 25,
   "id": "008d31d3-3112-4527-8c85-7403b3b10bbb",
   "metadata": {},
   "outputs": [
    {
     "data": {
      "text/plain": [
       "Loja\n",
       "L1    790.0\n",
       "L3    233.0\n",
       "Name: Valor, dtype: float64"
      ]
     },
     "execution_count": 25,
     "metadata": {},
     "output_type": "execute_result"
    }
   ],
   "source": [
    "'''\n",
    "Usando o exemplo, exibir apenas as 2 lojas que mais venderam\n",
    "'''\n",
    "\n",
    "dataframe_vendas.groupby('Loja')['Valor'].sum().sort_values(ascending=False).head(2)"
   ]
  },
  {
   "cell_type": "code",
   "execution_count": 26,
   "id": "d467534f-fe26-4d59-b8c8-96e309575475",
   "metadata": {},
   "outputs": [
    {
     "data": {
      "text/plain": [
       "Cliente\n",
       "Ed         150.0\n",
       "Matheus    150.0\n",
       "Pedro      140.0\n",
       "Raniere    763.0\n",
       "Name: Valor, dtype: float64"
      ]
     },
     "execution_count": 26,
     "metadata": {},
     "output_type": "execute_result"
    }
   ],
   "source": [
    "# Qual o valor total gasto nas compras por cliente\n",
    "\n",
    "dataframe_vendas.groupby('Cliente')['Valor'].sum()"
   ]
  },
  {
   "cell_type": "code",
   "execution_count": 29,
   "id": "69b7ada1-b27f-44c4-ac29-a71a211a87d2",
   "metadata": {},
   "outputs": [
    {
     "data": {
      "text/plain": [
       "Cliente\n",
       "Pedro      140.0\n",
       "Ed         150.0\n",
       "Matheus    150.0\n",
       "Raniere    763.0\n",
       "Name: Valor, dtype: float64"
      ]
     },
     "execution_count": 29,
     "metadata": {},
     "output_type": "execute_result"
    }
   ],
   "source": [
    "'''\n",
    "Utilizando o exemplo anterior, ordenar do\n",
    "que menos coprou para o que mais comprou\n",
    "'''\n",
    "\n",
    "dataframe_vendas.groupby('Cliente')['Valor'].sum().sort_values()"
   ]
  },
  {
   "cell_type": "code",
   "execution_count": 30,
   "id": "d463d249-6a37-40ad-80de-1279c5a8f73e",
   "metadata": {},
   "outputs": [
    {
     "data": {
      "text/plain": [
       "Cliente\n",
       "Ed         150.000000\n",
       "Matheus    150.000000\n",
       "Pedro      140.000000\n",
       "Raniere    254.333333\n",
       "Name: Valor, dtype: float64"
      ]
     },
     "execution_count": 30,
     "metadata": {},
     "output_type": "execute_result"
    }
   ],
   "source": [
    "# Exibir a média do valor gasto por cada Cliente\n",
    "\n",
    "dataframe_vendas.groupby('Cliente')['Valor'].mean()"
   ]
  },
  {
   "cell_type": "code",
   "execution_count": null,
   "id": "d15f6d8c-f72c-44ba-8786-1d524b6c4fe2",
   "metadata": {},
   "outputs": [],
   "source": []
  }
 ],
 "metadata": {
  "kernelspec": {
   "display_name": "Python 3 (ipykernel)",
   "language": "python",
   "name": "python3"
  },
  "language_info": {
   "codemirror_mode": {
    "name": "ipython",
    "version": 3
   },
   "file_extension": ".py",
   "mimetype": "text/x-python",
   "name": "python",
   "nbconvert_exporter": "python",
   "pygments_lexer": "ipython3",
   "version": "3.10.4"
  }
 },
 "nbformat": 4,
 "nbformat_minor": 5
}
