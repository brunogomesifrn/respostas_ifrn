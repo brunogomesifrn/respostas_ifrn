{
 "cells": [
  {
   "cell_type": "markdown",
   "id": "fd8558a8",
   "metadata": {},
   "source": [
    "# Pandas"
   ]
  },
  {
   "cell_type": "markdown",
   "id": "189f5d93",
   "metadata": {},
   "source": [
    "#### Importando a biblioteca"
   ]
  },
  {
   "cell_type": "code",
   "execution_count": 2,
   "id": "2e930b94",
   "metadata": {},
   "outputs": [],
   "source": [
    "import pandas as pd"
   ]
  },
  {
   "cell_type": "markdown",
   "id": "54f4d0a7",
   "metadata": {},
   "source": [
    "## Dataframes"
   ]
  },
  {
   "cell_type": "markdown",
   "id": "41668d94",
   "metadata": {},
   "source": [
    "- Estrutura semelhante a uma planilha do Excel, contendo uma coleção de colunas em que cada uma pode ser um diferente tipo de valor (número, string, etc...).\n",
    "- Possuem index e linhas e esta estrutura é muito semelhante a um dataframe em R. Os dados de um dataframe são armazenados em um ou mais blocos bidimensionais, ao invés de listas, dicionários ou alguma estrutura de array."
   ]
  },
  {
   "cell_type": "markdown",
   "id": "94eb0cb1",
   "metadata": {},
   "source": [
    "#### Criando um dataframe"
   ]
  },
  {
   "cell_type": "code",
   "execution_count": 12,
   "id": "11ec9884",
   "metadata": {},
   "outputs": [
    {
     "data": {
      "text/html": [
       "<div>\n",
       "<style scoped>\n",
       "    .dataframe tbody tr th:only-of-type {\n",
       "        vertical-align: middle;\n",
       "    }\n",
       "\n",
       "    .dataframe tbody tr th {\n",
       "        vertical-align: top;\n",
       "    }\n",
       "\n",
       "    .dataframe thead th {\n",
       "        text-align: right;\n",
       "    }\n",
       "</style>\n",
       "<table border=\"1\" class=\"dataframe\">\n",
       "  <thead>\n",
       "    <tr style=\"text-align: right;\">\n",
       "      <th></th>\n",
       "      <th>coluna1</th>\n",
       "      <th>coluna2</th>\n",
       "      <th>coluna3</th>\n",
       "    </tr>\n",
       "  </thead>\n",
       "  <tbody>\n",
       "    <tr>\n",
       "      <th>0</th>\n",
       "      <td>2</td>\n",
       "      <td>10</td>\n",
       "      <td>1</td>\n",
       "    </tr>\n",
       "    <tr>\n",
       "      <th>1</th>\n",
       "      <td>4</td>\n",
       "      <td>20</td>\n",
       "      <td>4</td>\n",
       "    </tr>\n",
       "    <tr>\n",
       "      <th>2</th>\n",
       "      <td>5</td>\n",
       "      <td>2</td>\n",
       "      <td>5</td>\n",
       "    </tr>\n",
       "  </tbody>\n",
       "</table>\n",
       "</div>"
      ],
      "text/plain": [
       "   coluna1  coluna2  coluna3\n",
       "0        2       10        1\n",
       "1        4       20        4\n",
       "2        5        2        5"
      ]
     },
     "execution_count": 12,
     "metadata": {},
     "output_type": "execute_result"
    }
   ],
   "source": [
    "dataframe_1 = pd.DataFrame({'coluna1':[2,4,5],'coluna2':[10,20,2],'coluna3':[1,4,5]})\n",
    "dataframe_1"
   ]
  },
  {
   "cell_type": "markdown",
   "id": "5298e4ea",
   "metadata": {},
   "source": [
    "#### Criando um dataframe com um dicionário de dados em variável"
   ]
  },
  {
   "cell_type": "code",
   "execution_count": 13,
   "id": "9d7cdae4",
   "metadata": {},
   "outputs": [
    {
     "data": {
      "text/html": [
       "<div>\n",
       "<style scoped>\n",
       "    .dataframe tbody tr th:only-of-type {\n",
       "        vertical-align: middle;\n",
       "    }\n",
       "\n",
       "    .dataframe tbody tr th {\n",
       "        vertical-align: top;\n",
       "    }\n",
       "\n",
       "    .dataframe thead th {\n",
       "        text-align: right;\n",
       "    }\n",
       "</style>\n",
       "<table border=\"1\" class=\"dataframe\">\n",
       "  <thead>\n",
       "    <tr style=\"text-align: right;\">\n",
       "      <th></th>\n",
       "      <th>coluna1</th>\n",
       "      <th>coluna2</th>\n",
       "      <th>coluna3</th>\n",
       "    </tr>\n",
       "  </thead>\n",
       "  <tbody>\n",
       "    <tr>\n",
       "      <th>0</th>\n",
       "      <td>2</td>\n",
       "      <td>10</td>\n",
       "      <td>1</td>\n",
       "    </tr>\n",
       "    <tr>\n",
       "      <th>1</th>\n",
       "      <td>4</td>\n",
       "      <td>20</td>\n",
       "      <td>4</td>\n",
       "    </tr>\n",
       "    <tr>\n",
       "      <th>2</th>\n",
       "      <td>5</td>\n",
       "      <td>2</td>\n",
       "      <td>5</td>\n",
       "    </tr>\n",
       "  </tbody>\n",
       "</table>\n",
       "</div>"
      ],
      "text/plain": [
       "   coluna1  coluna2  coluna3\n",
       "0        2       10        1\n",
       "1        4       20        4\n",
       "2        5        2        5"
      ]
     },
     "execution_count": 13,
     "metadata": {},
     "output_type": "execute_result"
    }
   ],
   "source": [
    "dicionario_1 = {'coluna1':[2,4,5],'coluna2':[10,20,2],'coluna3':[1,4,5]}\n",
    "dataframe_2 = pd.DataFrame(dicionario_1)\n",
    "dataframe_2"
   ]
  },
  {
   "cell_type": "markdown",
   "id": "11a4f1ff",
   "metadata": {},
   "source": [
    "#### Criando um dataframe e alterando os índices"
   ]
  },
  {
   "cell_type": "code",
   "execution_count": 16,
   "id": "7b72ac0a",
   "metadata": {},
   "outputs": [
    {
     "data": {
      "text/html": [
       "<div>\n",
       "<style scoped>\n",
       "    .dataframe tbody tr th:only-of-type {\n",
       "        vertical-align: middle;\n",
       "    }\n",
       "\n",
       "    .dataframe tbody tr th {\n",
       "        vertical-align: top;\n",
       "    }\n",
       "\n",
       "    .dataframe thead th {\n",
       "        text-align: right;\n",
       "    }\n",
       "</style>\n",
       "<table border=\"1\" class=\"dataframe\">\n",
       "  <thead>\n",
       "    <tr style=\"text-align: right;\">\n",
       "      <th></th>\n",
       "      <th>coluna1</th>\n",
       "      <th>coluna2</th>\n",
       "      <th>coluna3</th>\n",
       "    </tr>\n",
       "  </thead>\n",
       "  <tbody>\n",
       "    <tr>\n",
       "      <th>a</th>\n",
       "      <td>2</td>\n",
       "      <td>10</td>\n",
       "      <td>1</td>\n",
       "    </tr>\n",
       "    <tr>\n",
       "      <th>b</th>\n",
       "      <td>4</td>\n",
       "      <td>20</td>\n",
       "      <td>4</td>\n",
       "    </tr>\n",
       "    <tr>\n",
       "      <th>c</th>\n",
       "      <td>5</td>\n",
       "      <td>2</td>\n",
       "      <td>5</td>\n",
       "    </tr>\n",
       "  </tbody>\n",
       "</table>\n",
       "</div>"
      ],
      "text/plain": [
       "   coluna1  coluna2  coluna3\n",
       "a        2       10        1\n",
       "b        4       20        4\n",
       "c        5        2        5"
      ]
     },
     "execution_count": 16,
     "metadata": {},
     "output_type": "execute_result"
    }
   ],
   "source": [
    "dataframe_3 = pd.DataFrame(dicionario_1, index=['a','b','c'])\n",
    "dataframe_3"
   ]
  },
  {
   "cell_type": "markdown",
   "id": "d7126994-20af-479c-a3e2-e9ca948879e0",
   "metadata": {},
   "source": [
    "#### Alterando os nomes das colunas"
   ]
  },
  {
   "cell_type": "code",
   "execution_count": 17,
   "id": "30d42fbb-0e5d-4109-814f-c261fc7d8c89",
   "metadata": {},
   "outputs": [
    {
     "data": {
      "text/html": [
       "<div>\n",
       "<style scoped>\n",
       "    .dataframe tbody tr th:only-of-type {\n",
       "        vertical-align: middle;\n",
       "    }\n",
       "\n",
       "    .dataframe tbody tr th {\n",
       "        vertical-align: top;\n",
       "    }\n",
       "\n",
       "    .dataframe thead th {\n",
       "        text-align: right;\n",
       "    }\n",
       "</style>\n",
       "<table border=\"1\" class=\"dataframe\">\n",
       "  <thead>\n",
       "    <tr style=\"text-align: right;\">\n",
       "      <th></th>\n",
       "      <th>col1</th>\n",
       "      <th>col2</th>\n",
       "      <th>col3</th>\n",
       "    </tr>\n",
       "  </thead>\n",
       "  <tbody>\n",
       "    <tr>\n",
       "      <th>a</th>\n",
       "      <td>2</td>\n",
       "      <td>10</td>\n",
       "      <td>1</td>\n",
       "    </tr>\n",
       "    <tr>\n",
       "      <th>b</th>\n",
       "      <td>4</td>\n",
       "      <td>20</td>\n",
       "      <td>4</td>\n",
       "    </tr>\n",
       "    <tr>\n",
       "      <th>c</th>\n",
       "      <td>5</td>\n",
       "      <td>2</td>\n",
       "      <td>5</td>\n",
       "    </tr>\n",
       "  </tbody>\n",
       "</table>\n",
       "</div>"
      ],
      "text/plain": [
       "   col1  col2  col3\n",
       "a     2    10     1\n",
       "b     4    20     4\n",
       "c     5     2     5"
      ]
     },
     "execution_count": 17,
     "metadata": {},
     "output_type": "execute_result"
    }
   ],
   "source": [
    "dataframe_3.columns = ['col1', 'col2', 'col3']\n",
    "dataframe_3"
   ]
  },
  {
   "cell_type": "markdown",
   "id": "293ceac7",
   "metadata": {},
   "source": [
    "#### Criando um dataframe através de uma lista de duas dimensões e informando colunas e índices"
   ]
  },
  {
   "cell_type": "code",
   "execution_count": 19,
   "id": "eb868342",
   "metadata": {},
   "outputs": [
    {
     "data": {
      "text/html": [
       "<div>\n",
       "<style scoped>\n",
       "    .dataframe tbody tr th:only-of-type {\n",
       "        vertical-align: middle;\n",
       "    }\n",
       "\n",
       "    .dataframe tbody tr th {\n",
       "        vertical-align: top;\n",
       "    }\n",
       "\n",
       "    .dataframe thead th {\n",
       "        text-align: right;\n",
       "    }\n",
       "</style>\n",
       "<table border=\"1\" class=\"dataframe\">\n",
       "  <thead>\n",
       "    <tr style=\"text-align: right;\">\n",
       "      <th></th>\n",
       "      <th>coluna1</th>\n",
       "      <th>coluna2</th>\n",
       "      <th>coluna3</th>\n",
       "    </tr>\n",
       "  </thead>\n",
       "  <tbody>\n",
       "    <tr>\n",
       "      <th>1</th>\n",
       "      <td>1</td>\n",
       "      <td>4</td>\n",
       "      <td>2</td>\n",
       "    </tr>\n",
       "    <tr>\n",
       "      <th>2</th>\n",
       "      <td>6</td>\n",
       "      <td>23</td>\n",
       "      <td>1</td>\n",
       "    </tr>\n",
       "    <tr>\n",
       "      <th>3</th>\n",
       "      <td>22</td>\n",
       "      <td>33</td>\n",
       "      <td>11</td>\n",
       "    </tr>\n",
       "  </tbody>\n",
       "</table>\n",
       "</div>"
      ],
      "text/plain": [
       "   coluna1  coluna2  coluna3\n",
       "1        1        4        2\n",
       "2        6       23        1\n",
       "3       22       33       11"
      ]
     },
     "execution_count": 19,
     "metadata": {},
     "output_type": "execute_result"
    }
   ],
   "source": [
    "lista_1 = [[1,4,2],[6,23,1],[22,33,11]]\n",
    "dataframe_4 = pd.DataFrame(lista_1,index=[1,2,3],columns=['coluna1','coluna2','coluna3'])\n",
    "dataframe_4"
   ]
  },
  {
   "cell_type": "markdown",
   "id": "d1f796eb",
   "metadata": {},
   "source": [
    "#### Criando um dataframe com tipos de dados diferentes"
   ]
  },
  {
   "cell_type": "code",
   "execution_count": 31,
   "id": "919793d9",
   "metadata": {},
   "outputs": [
    {
     "data": {
      "text/html": [
       "<div>\n",
       "<style scoped>\n",
       "    .dataframe tbody tr th:only-of-type {\n",
       "        vertical-align: middle;\n",
       "    }\n",
       "\n",
       "    .dataframe tbody tr th {\n",
       "        vertical-align: top;\n",
       "    }\n",
       "\n",
       "    .dataframe thead th {\n",
       "        text-align: right;\n",
       "    }\n",
       "</style>\n",
       "<table border=\"1\" class=\"dataframe\">\n",
       "  <thead>\n",
       "    <tr style=\"text-align: right;\">\n",
       "      <th></th>\n",
       "      <th>Disciplinas</th>\n",
       "      <th>CH</th>\n",
       "      <th>Aulas</th>\n",
       "    </tr>\n",
       "  </thead>\n",
       "  <tbody>\n",
       "    <tr>\n",
       "      <th>0</th>\n",
       "      <td>POO</td>\n",
       "      <td>160</td>\n",
       "      <td>4</td>\n",
       "    </tr>\n",
       "    <tr>\n",
       "      <th>1</th>\n",
       "      <td>Análise</td>\n",
       "      <td>80</td>\n",
       "      <td>2</td>\n",
       "    </tr>\n",
       "  </tbody>\n",
       "</table>\n",
       "</div>"
      ],
      "text/plain": [
       "  Disciplinas   CH  Aulas\n",
       "0         POO  160      4\n",
       "1     Análise   80      2"
      ]
     },
     "execution_count": 31,
     "metadata": {},
     "output_type": "execute_result"
    }
   ],
   "source": [
    "dicionario_2 = {'Disciplinas':['POO','Análise'],\n",
    "                'CH':[160,80],\n",
    "                'Aulas':[4,2]}\n",
    "dataframe_5 = pd.DataFrame(dicionario_2)\n",
    "dataframe_5"
   ]
  },
  {
   "cell_type": "markdown",
   "id": "e23b96a0",
   "metadata": {},
   "source": [
    "#### Retornar uma coluna inteira"
   ]
  },
  {
   "cell_type": "code",
   "execution_count": 32,
   "id": "9d50c661",
   "metadata": {},
   "outputs": [
    {
     "data": {
      "text/plain": [
       "0        POO\n",
       "1    Análise\n",
       "Name: Disciplinas, dtype: object"
      ]
     },
     "execution_count": 32,
     "metadata": {},
     "output_type": "execute_result"
    }
   ],
   "source": [
    "dataframe_5['Disciplinas']"
   ]
  },
  {
   "cell_type": "code",
   "execution_count": 33,
   "id": "e5e8b7bb",
   "metadata": {},
   "outputs": [
    {
     "data": {
      "text/plain": [
       "0        POO\n",
       "1    Análise\n",
       "Name: Disciplinas, dtype: object"
      ]
     },
     "execution_count": 33,
     "metadata": {},
     "output_type": "execute_result"
    }
   ],
   "source": [
    "dataframe_5.Disciplinas"
   ]
  },
  {
   "cell_type": "markdown",
   "id": "4e75aa0e",
   "metadata": {},
   "source": [
    "#### Retornar colunas"
   ]
  },
  {
   "cell_type": "code",
   "execution_count": 34,
   "id": "e84c876e",
   "metadata": {},
   "outputs": [
    {
     "data": {
      "text/plain": [
       "Index(['Disciplinas', 'CH', 'Aulas'], dtype='object')"
      ]
     },
     "execution_count": 34,
     "metadata": {},
     "output_type": "execute_result"
    }
   ],
   "source": [
    "dataframe_5.columns"
   ]
  },
  {
   "cell_type": "markdown",
   "id": "404b3476",
   "metadata": {},
   "source": [
    "#### Retornar os índices"
   ]
  },
  {
   "cell_type": "code",
   "execution_count": 35,
   "id": "c4c76b9a",
   "metadata": {},
   "outputs": [
    {
     "data": {
      "text/plain": [
       "RangeIndex(start=0, stop=2, step=1)"
      ]
     },
     "execution_count": 35,
     "metadata": {},
     "output_type": "execute_result"
    }
   ],
   "source": [
    "dataframe_5.index"
   ]
  },
  {
   "cell_type": "markdown",
   "id": "5eb80e2b",
   "metadata": {},
   "source": [
    "#### Retornar os valores"
   ]
  },
  {
   "cell_type": "code",
   "execution_count": 36,
   "id": "eb40fa7b",
   "metadata": {},
   "outputs": [
    {
     "data": {
      "text/plain": [
       "array([['POO', 160, 4],\n",
       "       ['Análise', 80, 2]], dtype=object)"
      ]
     },
     "execution_count": 36,
     "metadata": {},
     "output_type": "execute_result"
    }
   ],
   "source": [
    "dataframe_5.values"
   ]
  },
  {
   "cell_type": "markdown",
   "id": "c253e9e9",
   "metadata": {},
   "source": [
    "#### Retornar tipos de dados de cada coluna"
   ]
  },
  {
   "cell_type": "code",
   "execution_count": 38,
   "id": "872c0c7b",
   "metadata": {},
   "outputs": [
    {
     "data": {
      "text/plain": [
       "Disciplinas    object\n",
       "CH              int64\n",
       "Aulas           int64\n",
       "dtype: object"
      ]
     },
     "execution_count": 38,
     "metadata": {},
     "output_type": "execute_result"
    }
   ],
   "source": [
    "dataframe_5.dtypes"
   ]
  },
  {
   "cell_type": "markdown",
   "id": "48c562c2",
   "metadata": {},
   "source": [
    "## Funções para Dataframes"
   ]
  },
  {
   "cell_type": "markdown",
   "id": "dde44bf3",
   "metadata": {},
   "source": [
    "#### head()\n",
    "\n",
    "Exibe apenas as primeiras linhas do dataframe (cabeçalho)"
   ]
  },
  {
   "cell_type": "code",
   "execution_count": 39,
   "id": "2489766d",
   "metadata": {},
   "outputs": [
    {
     "data": {
      "text/html": [
       "<div>\n",
       "<style scoped>\n",
       "    .dataframe tbody tr th:only-of-type {\n",
       "        vertical-align: middle;\n",
       "    }\n",
       "\n",
       "    .dataframe tbody tr th {\n",
       "        vertical-align: top;\n",
       "    }\n",
       "\n",
       "    .dataframe thead th {\n",
       "        text-align: right;\n",
       "    }\n",
       "</style>\n",
       "<table border=\"1\" class=\"dataframe\">\n",
       "  <thead>\n",
       "    <tr style=\"text-align: right;\">\n",
       "      <th></th>\n",
       "      <th>coluna1</th>\n",
       "      <th>coluna2</th>\n",
       "      <th>coluna3</th>\n",
       "    </tr>\n",
       "  </thead>\n",
       "  <tbody>\n",
       "    <tr>\n",
       "      <th>0</th>\n",
       "      <td>2</td>\n",
       "      <td>10</td>\n",
       "      <td>1</td>\n",
       "    </tr>\n",
       "    <tr>\n",
       "      <th>1</th>\n",
       "      <td>4</td>\n",
       "      <td>20</td>\n",
       "      <td>4</td>\n",
       "    </tr>\n",
       "    <tr>\n",
       "      <th>2</th>\n",
       "      <td>5</td>\n",
       "      <td>2</td>\n",
       "      <td>5</td>\n",
       "    </tr>\n",
       "  </tbody>\n",
       "</table>\n",
       "</div>"
      ],
      "text/plain": [
       "   coluna1  coluna2  coluna3\n",
       "0        2       10        1\n",
       "1        4       20        4\n",
       "2        5        2        5"
      ]
     },
     "execution_count": 39,
     "metadata": {},
     "output_type": "execute_result"
    }
   ],
   "source": [
    "dataframe_1.head()"
   ]
  },
  {
   "cell_type": "markdown",
   "id": "59c19cb9",
   "metadata": {},
   "source": [
    "#### describe()\n",
    "\n",
    "Retorna alguns dados estatísticos descritivos das colunas numéricas"
   ]
  },
  {
   "cell_type": "code",
   "execution_count": 40,
   "id": "887b259e",
   "metadata": {},
   "outputs": [
    {
     "data": {
      "text/html": [
       "<div>\n",
       "<style scoped>\n",
       "    .dataframe tbody tr th:only-of-type {\n",
       "        vertical-align: middle;\n",
       "    }\n",
       "\n",
       "    .dataframe tbody tr th {\n",
       "        vertical-align: top;\n",
       "    }\n",
       "\n",
       "    .dataframe thead th {\n",
       "        text-align: right;\n",
       "    }\n",
       "</style>\n",
       "<table border=\"1\" class=\"dataframe\">\n",
       "  <thead>\n",
       "    <tr style=\"text-align: right;\">\n",
       "      <th></th>\n",
       "      <th>CH</th>\n",
       "      <th>Aulas</th>\n",
       "    </tr>\n",
       "  </thead>\n",
       "  <tbody>\n",
       "    <tr>\n",
       "      <th>count</th>\n",
       "      <td>2.000000</td>\n",
       "      <td>2.000000</td>\n",
       "    </tr>\n",
       "    <tr>\n",
       "      <th>mean</th>\n",
       "      <td>120.000000</td>\n",
       "      <td>3.000000</td>\n",
       "    </tr>\n",
       "    <tr>\n",
       "      <th>std</th>\n",
       "      <td>56.568542</td>\n",
       "      <td>1.414214</td>\n",
       "    </tr>\n",
       "    <tr>\n",
       "      <th>min</th>\n",
       "      <td>80.000000</td>\n",
       "      <td>2.000000</td>\n",
       "    </tr>\n",
       "    <tr>\n",
       "      <th>25%</th>\n",
       "      <td>100.000000</td>\n",
       "      <td>2.500000</td>\n",
       "    </tr>\n",
       "    <tr>\n",
       "      <th>50%</th>\n",
       "      <td>120.000000</td>\n",
       "      <td>3.000000</td>\n",
       "    </tr>\n",
       "    <tr>\n",
       "      <th>75%</th>\n",
       "      <td>140.000000</td>\n",
       "      <td>3.500000</td>\n",
       "    </tr>\n",
       "    <tr>\n",
       "      <th>max</th>\n",
       "      <td>160.000000</td>\n",
       "      <td>4.000000</td>\n",
       "    </tr>\n",
       "  </tbody>\n",
       "</table>\n",
       "</div>"
      ],
      "text/plain": [
       "               CH     Aulas\n",
       "count    2.000000  2.000000\n",
       "mean   120.000000  3.000000\n",
       "std     56.568542  1.414214\n",
       "min     80.000000  2.000000\n",
       "25%    100.000000  2.500000\n",
       "50%    120.000000  3.000000\n",
       "75%    140.000000  3.500000\n",
       "max    160.000000  4.000000"
      ]
     },
     "execution_count": 40,
     "metadata": {},
     "output_type": "execute_result"
    }
   ],
   "source": [
    "dataframe_5.describe()"
   ]
  },
  {
   "cell_type": "markdown",
   "id": "6d3193fb",
   "metadata": {},
   "source": [
    "#### isnull()\n",
    "\n",
    "Retorna True se o valor é nulo, False se não for"
   ]
  },
  {
   "cell_type": "code",
   "execution_count": 41,
   "id": "a07e6cc0",
   "metadata": {},
   "outputs": [
    {
     "data": {
      "text/html": [
       "<div>\n",
       "<style scoped>\n",
       "    .dataframe tbody tr th:only-of-type {\n",
       "        vertical-align: middle;\n",
       "    }\n",
       "\n",
       "    .dataframe tbody tr th {\n",
       "        vertical-align: top;\n",
       "    }\n",
       "\n",
       "    .dataframe thead th {\n",
       "        text-align: right;\n",
       "    }\n",
       "</style>\n",
       "<table border=\"1\" class=\"dataframe\">\n",
       "  <thead>\n",
       "    <tr style=\"text-align: right;\">\n",
       "      <th></th>\n",
       "      <th>Disciplinas</th>\n",
       "      <th>CH</th>\n",
       "      <th>Aulas</th>\n",
       "    </tr>\n",
       "  </thead>\n",
       "  <tbody>\n",
       "    <tr>\n",
       "      <th>0</th>\n",
       "      <td>False</td>\n",
       "      <td>False</td>\n",
       "      <td>False</td>\n",
       "    </tr>\n",
       "    <tr>\n",
       "      <th>1</th>\n",
       "      <td>False</td>\n",
       "      <td>False</td>\n",
       "      <td>False</td>\n",
       "    </tr>\n",
       "  </tbody>\n",
       "</table>\n",
       "</div>"
      ],
      "text/plain": [
       "   Disciplinas     CH  Aulas\n",
       "0        False  False  False\n",
       "1        False  False  False"
      ]
     },
     "execution_count": 41,
     "metadata": {},
     "output_type": "execute_result"
    }
   ],
   "source": [
    "dataframe_5.isnull()"
   ]
  },
  {
   "cell_type": "markdown",
   "id": "27d53f89",
   "metadata": {},
   "source": [
    "#### notnull()\n",
    "\n",
    "Retorna True se o valor não é, False se for"
   ]
  },
  {
   "cell_type": "code",
   "execution_count": 42,
   "id": "e5a2f010",
   "metadata": {},
   "outputs": [
    {
     "data": {
      "text/html": [
       "<div>\n",
       "<style scoped>\n",
       "    .dataframe tbody tr th:only-of-type {\n",
       "        vertical-align: middle;\n",
       "    }\n",
       "\n",
       "    .dataframe tbody tr th {\n",
       "        vertical-align: top;\n",
       "    }\n",
       "\n",
       "    .dataframe thead th {\n",
       "        text-align: right;\n",
       "    }\n",
       "</style>\n",
       "<table border=\"1\" class=\"dataframe\">\n",
       "  <thead>\n",
       "    <tr style=\"text-align: right;\">\n",
       "      <th></th>\n",
       "      <th>Disciplinas</th>\n",
       "      <th>CH</th>\n",
       "      <th>Aulas</th>\n",
       "    </tr>\n",
       "  </thead>\n",
       "  <tbody>\n",
       "    <tr>\n",
       "      <th>0</th>\n",
       "      <td>True</td>\n",
       "      <td>True</td>\n",
       "      <td>True</td>\n",
       "    </tr>\n",
       "    <tr>\n",
       "      <th>1</th>\n",
       "      <td>True</td>\n",
       "      <td>True</td>\n",
       "      <td>True</td>\n",
       "    </tr>\n",
       "  </tbody>\n",
       "</table>\n",
       "</div>"
      ],
      "text/plain": [
       "   Disciplinas    CH  Aulas\n",
       "0         True  True   True\n",
       "1         True  True   True"
      ]
     },
     "execution_count": 42,
     "metadata": {},
     "output_type": "execute_result"
    }
   ],
   "source": [
    "dataframe_5.notnull()"
   ]
  },
  {
   "cell_type": "markdown",
   "id": "920d56e2",
   "metadata": {},
   "source": [
    "#### max()\n",
    "\n",
    "Retorna o maior valor de cada coluna"
   ]
  },
  {
   "cell_type": "code",
   "execution_count": 43,
   "id": "2578096d",
   "metadata": {},
   "outputs": [
    {
     "data": {
      "text/plain": [
       "Disciplinas    POO\n",
       "CH             160\n",
       "Aulas            4\n",
       "dtype: object"
      ]
     },
     "execution_count": 43,
     "metadata": {},
     "output_type": "execute_result"
    }
   ],
   "source": [
    "dataframe_5.max()"
   ]
  },
  {
   "cell_type": "markdown",
   "id": "9948e3ed",
   "metadata": {},
   "source": [
    "#### min()\n",
    "\n",
    "Retorna o menor valor de cada coluna"
   ]
  },
  {
   "cell_type": "code",
   "execution_count": 44,
   "id": "f472a1ed",
   "metadata": {},
   "outputs": [
    {
     "data": {
      "text/plain": [
       "Disciplinas    Análise\n",
       "CH                  80\n",
       "Aulas                2\n",
       "dtype: object"
      ]
     },
     "execution_count": 44,
     "metadata": {},
     "output_type": "execute_result"
    }
   ],
   "source": [
    "dataframe_5.min()"
   ]
  },
  {
   "cell_type": "code",
   "execution_count": null,
   "id": "854e31c5-d6cd-4bc3-a944-1886fb53ffb8",
   "metadata": {},
   "outputs": [],
   "source": []
  }
 ],
 "metadata": {
  "kernelspec": {
   "display_name": "Python 3 (ipykernel)",
   "language": "python",
   "name": "python3"
  },
  "language_info": {
   "codemirror_mode": {
    "name": "ipython",
    "version": 3
   },
   "file_extension": ".py",
   "mimetype": "text/x-python",
   "name": "python",
   "nbconvert_exporter": "python",
   "pygments_lexer": "ipython3",
   "version": "3.10.4"
  }
 },
 "nbformat": 4,
 "nbformat_minor": 5
}
