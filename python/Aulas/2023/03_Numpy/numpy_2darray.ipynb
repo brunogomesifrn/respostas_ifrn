{
 "cells": [
  {
   "cell_type": "markdown",
   "id": "8b6a0140-4b89-48f8-b696-aaa63300277f",
   "metadata": {},
   "source": [
    "# 2darray - Array de 2 dimensões"
   ]
  },
  {
   "cell_type": "code",
   "execution_count": 2,
   "id": "e40a0ea1-a2c8-4d2d-993f-6df952484ccd",
   "metadata": {},
   "outputs": [],
   "source": [
    "import numpy as np"
   ]
  },
  {
   "cell_type": "markdown",
   "id": "50ac0f75-91c4-41ee-bd3a-8d262aee1e77",
   "metadata": {},
   "source": [
    "## Criação de um 2darray"
   ]
  },
  {
   "cell_type": "code",
   "execution_count": 3,
   "id": "63d5aa13-d778-4a16-ae2d-d170da8e83eb",
   "metadata": {},
   "outputs": [],
   "source": [
    "# Utiliza também a função array()\n",
    "array_1 = np.array([[1,2,3],[4,5,6]])"
   ]
  },
  {
   "cell_type": "code",
   "execution_count": 4,
   "id": "683b960b-cc25-4e39-b94d-4b06318a0ccb",
   "metadata": {},
   "outputs": [
    {
     "name": "stdout",
     "output_type": "stream",
     "text": [
      "[[1 2 3]\n",
      " [4 5 6]]\n"
     ]
    }
   ],
   "source": [
    "print(array_1)"
   ]
  },
  {
   "cell_type": "code",
   "execution_count": 9,
   "id": "5984e40d-e2b0-4ad7-81bb-d520b169da82",
   "metadata": {},
   "outputs": [
    {
     "name": "stdout",
     "output_type": "stream",
     "text": [
      "<class 'numpy.ndarray'>\n"
     ]
    }
   ],
   "source": [
    "print(type(array_1))"
   ]
  },
  {
   "cell_type": "markdown",
   "id": "69652a7d-7efb-41dd-8cc5-e8c0ad282c5e",
   "metadata": {},
   "source": [
    "### Acessando elementos do Array de 2 dimensões"
   ]
  },
  {
   "cell_type": "code",
   "execution_count": 10,
   "id": "a466c129-57ee-4e7c-8ebb-6379d9cf6296",
   "metadata": {},
   "outputs": [
    {
     "name": "stdout",
     "output_type": "stream",
     "text": [
      "5\n"
     ]
    }
   ],
   "source": [
    "# Sempre na sequência: linha x coluna. Se usa colchetes []\n",
    "# linha 1; coluna 1\n",
    "print(array_1[1][1])"
   ]
  },
  {
   "cell_type": "code",
   "execution_count": 11,
   "id": "f76778f6-e433-4bd8-90f4-1929b372843d",
   "metadata": {},
   "outputs": [
    {
     "name": "stdout",
     "output_type": "stream",
     "text": [
      "3\n"
     ]
    }
   ],
   "source": [
    "#linha 0; coluna 2\n",
    "print(array_1[0][2])"
   ]
  },
  {
   "cell_type": "code",
   "execution_count": 12,
   "id": "17d23d5e-1fd6-48e9-94d8-4fbb40a4dc60",
   "metadata": {},
   "outputs": [
    {
     "name": "stdout",
     "output_type": "stream",
     "text": [
      "2\n"
     ]
    }
   ],
   "source": [
    "#linha 0; coluna 1\n",
    "print(array_1[0,1])"
   ]
  },
  {
   "cell_type": "code",
   "execution_count": 13,
   "id": "a6f8d3c6-75ff-4c08-8a00-fce5725b7121",
   "metadata": {},
   "outputs": [
    {
     "name": "stdout",
     "output_type": "stream",
     "text": [
      "[[ 1 30  3]\n",
      " [ 4  5  6]]\n"
     ]
    }
   ],
   "source": [
    "# Para substituir um valor se utiliza colchetes também\n",
    "array_1[0][1] = 30\n",
    "print(array_1)"
   ]
  },
  {
   "cell_type": "code",
   "execution_count": 14,
   "id": "375ab732-07c4-441e-9159-33fb063d4b16",
   "metadata": {},
   "outputs": [
    {
     "name": "stdout",
     "output_type": "stream",
     "text": [
      "[[ 1 30  3]\n",
      " [15  5  6]]\n"
     ]
    }
   ],
   "source": [
    "array_1[1,0] = 15\n",
    "print(array_1)"
   ]
  },
  {
   "cell_type": "markdown",
   "id": "bad84ce0-a27e-469f-93d4-e6552b0e2cf0",
   "metadata": {},
   "source": [
    "## Propriedades para 2darray"
   ]
  },
  {
   "cell_type": "code",
   "execution_count": 15,
   "id": "17e6f607-ac94-426a-aab5-732e357532d4",
   "metadata": {},
   "outputs": [
    {
     "name": "stdout",
     "output_type": "stream",
     "text": [
      "(2, 3)\n"
     ]
    }
   ],
   "source": [
    "# shape - retorna a quantidade de elementos por dimensão\n",
    "print(array_1.shape)"
   ]
  },
  {
   "cell_type": "code",
   "execution_count": 17,
   "id": "6ccfe8de-cd1a-4ff9-b11a-159bdd514adf",
   "metadata": {},
   "outputs": [
    {
     "name": "stdout",
     "output_type": "stream",
     "text": [
      "6\n"
     ]
    }
   ],
   "source": [
    "# size - quantidade total de elementos no array\n",
    "print(array_1.size)"
   ]
  },
  {
   "cell_type": "code",
   "execution_count": 18,
   "id": "c5c48269-60da-476f-aacb-41d66236b1af",
   "metadata": {},
   "outputs": [
    {
     "name": "stdout",
     "output_type": "stream",
     "text": [
      "2\n"
     ]
    }
   ],
   "source": [
    "# ndim - retorna a dimensão do array\n",
    "print(array_1.ndim)"
   ]
  },
  {
   "cell_type": "markdown",
   "id": "85298689-ed0b-4479-9804-c5a3269ea13b",
   "metadata": {},
   "source": [
    "## Funções para 2darray"
   ]
  },
  {
   "cell_type": "code",
   "execution_count": 19,
   "id": "e955c9b8-5eae-47b4-952e-9f1c124439ca",
   "metadata": {},
   "outputs": [
    {
     "name": "stdout",
     "output_type": "stream",
     "text": [
      "[ 1 31 34 49 54 60]\n"
     ]
    }
   ],
   "source": [
    "# cumsum() - soma acumulada\n",
    "print(array_1.cumsum())"
   ]
  },
  {
   "cell_type": "code",
   "execution_count": 21,
   "id": "77cb7349-bb01-4fe5-b7f4-0b379172f4e7",
   "metadata": {},
   "outputs": [
    {
     "name": "stdout",
     "output_type": "stream",
     "text": [
      "[[1 2 3]\n",
      " [4 5 6]]\n"
     ]
    }
   ],
   "source": [
    "# reshape - modifica a dimensão do array\n",
    "array_d1 = np.array([1,2,3,4,5,6])\n",
    "array_2 = array_d1.reshape(2,3)\n",
    "print(array_2)"
   ]
  },
  {
   "cell_type": "code",
   "execution_count": 22,
   "id": "bdb591e2-59a1-4e74-9cf2-4a139cbde2b4",
   "metadata": {},
   "outputs": [
    {
     "name": "stdout",
     "output_type": "stream",
     "text": [
      "[[ 1 31 34]\n",
      " [49 54 60]]\n"
     ]
    }
   ],
   "source": [
    "'''\n",
    "A função cumsum() gera um array de 1 dimensão. No exemplo a seguir, foi acumulado\n",
    "com a função reshape(), que é executada em seguida gerando novamente o array\n",
    "de duas dimensões.\n",
    "'''\n",
    "print(array_1.cumsum().reshape(2,3))"
   ]
  },
  {
   "cell_type": "code",
   "execution_count": 26,
   "id": "2ef67c8c-1dff-42c8-a4bd-e5b10e7b8e0f",
   "metadata": {},
   "outputs": [
    {
     "name": "stdout",
     "output_type": "stream",
     "text": [
      "[[ 1  2]\n",
      " [ 3  4]\n",
      " [ 5  6]\n",
      " [ 7  8]\n",
      " [ 9 10]]\n"
     ]
    }
   ],
   "source": [
    "array_3 = np.array(range(1,11)).reshape(5,2)\n",
    "print(array_3)"
   ]
  },
  {
   "cell_type": "code",
   "execution_count": null,
   "id": "c99ce05e-0fb1-45f3-92fb-f54f9c48f4c0",
   "metadata": {},
   "outputs": [],
   "source": []
  }
 ],
 "metadata": {
  "kernelspec": {
   "display_name": "Python 3 (ipykernel)",
   "language": "python",
   "name": "python3"
  },
  "language_info": {
   "codemirror_mode": {
    "name": "ipython",
    "version": 3
   },
   "file_extension": ".py",
   "mimetype": "text/x-python",
   "name": "python",
   "nbconvert_exporter": "python",
   "pygments_lexer": "ipython3",
   "version": "3.10.4"
  }
 },
 "nbformat": 4,
 "nbformat_minor": 5
}
