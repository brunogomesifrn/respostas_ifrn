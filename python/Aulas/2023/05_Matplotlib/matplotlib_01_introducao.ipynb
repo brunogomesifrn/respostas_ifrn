{
 "cells": [
  {
   "cell_type": "markdown",
   "id": "a0a56a58",
   "metadata": {},
   "source": [
    "# Matplotlib"
   ]
  },
  {
   "cell_type": "markdown",
   "id": "09c0bc21",
   "metadata": {},
   "source": [
    "- Biblioteca popular para visualização e geração de gráficos, histogramas e outras visualizações profissionais;\n",
    "- Possui recursos interativos como zoom e visão panorâmica, além de possibilitar exportar as imagens para vários formatos como vetor comum, pdf, svg, jpg, png, bmp, gif, entre outros."
   ]
  },
  {
   "cell_type": "markdown",
   "id": "ae76d1dd",
   "metadata": {},
   "source": [
    "Site Oficial: https://matplotlib.org/\n",
    "\n",
    "Documentação: https://matplotlib.org/stable/index.html\n",
    "\n",
    "Passos iniciais: https://matplotlib.org/stable/users/explain/quick_start.html\n",
    "\n",
    "Instalação: pip install matplotlib"
   ]
  },
  {
   "cell_type": "code",
   "execution_count": null,
   "id": "84555445",
   "metadata": {},
   "outputs": [],
   "source": []
  },
  {
   "cell_type": "code",
   "execution_count": null,
   "id": "dab667e8",
   "metadata": {},
   "outputs": [],
   "source": []
  },
  {
   "cell_type": "code",
   "execution_count": null,
   "id": "336c1f10",
   "metadata": {},
   "outputs": [],
   "source": []
  },
  {
   "cell_type": "markdown",
   "id": "15f20c9f",
   "metadata": {},
   "source": [
    "## plot()\n",
    "\n",
    "https://matplotlib.org/stable/api/_as_gen/matplotlib.pyplot.plot.html"
   ]
  },
  {
   "cell_type": "code",
   "execution_count": null,
   "id": "112adae8",
   "metadata": {},
   "outputs": [],
   "source": []
  },
  {
   "cell_type": "markdown",
   "id": "78f98702",
   "metadata": {},
   "source": [
    "### Legendas"
   ]
  },
  {
   "cell_type": "code",
   "execution_count": null,
   "id": "0aeec467",
   "metadata": {},
   "outputs": [],
   "source": []
  },
  {
   "cell_type": "code",
   "execution_count": null,
   "id": "08a6748d",
   "metadata": {},
   "outputs": [],
   "source": []
  },
  {
   "cell_type": "markdown",
   "id": "49fe61e3",
   "metadata": {},
   "source": [
    "### Escala"
   ]
  },
  {
   "cell_type": "code",
   "execution_count": null,
   "id": "027ac54b",
   "metadata": {},
   "outputs": [],
   "source": []
  },
  {
   "cell_type": "markdown",
   "id": "32522d60",
   "metadata": {},
   "source": [
    "### Propriedades de Linha\n",
    "\n",
    "https://matplotlib.org/stable/api/_as_gen/matplotlib.lines.Line2D.html"
   ]
  },
  {
   "cell_type": "code",
   "execution_count": null,
   "id": "d8c0c290",
   "metadata": {},
   "outputs": [],
   "source": []
  },
  {
   "cell_type": "code",
   "execution_count": null,
   "id": "c6ac657f",
   "metadata": {},
   "outputs": [],
   "source": []
  },
  {
   "cell_type": "code",
   "execution_count": null,
   "id": "10ba69da",
   "metadata": {},
   "outputs": [],
   "source": []
  },
  {
   "cell_type": "markdown",
   "id": "2fb0b5b5",
   "metadata": {},
   "source": [
    "## Tipos de Gráficos "
   ]
  },
  {
   "cell_type": "markdown",
   "id": "db89e763",
   "metadata": {},
   "source": [
    "### scatter - gráfico de dispersão\n",
    "\n",
    "https://matplotlib.org/stable/api/_as_gen/matplotlib.pyplot.scatter.html"
   ]
  },
  {
   "cell_type": "code",
   "execution_count": null,
   "id": "d71d705b",
   "metadata": {},
   "outputs": [],
   "source": []
  },
  {
   "cell_type": "markdown",
   "id": "50ae9050",
   "metadata": {},
   "source": [
    "### bar - gráfico de barras\n",
    "\n",
    "https://matplotlib.org/stable/api/_as_gen/matplotlib.pyplot.bar.html"
   ]
  },
  {
   "cell_type": "code",
   "execution_count": null,
   "id": "464f4a44",
   "metadata": {},
   "outputs": [],
   "source": []
  },
  {
   "cell_type": "markdown",
   "id": "9d824a4b",
   "metadata": {},
   "source": [
    "### pie - gráfico de pizza\n",
    "\n",
    "https://matplotlib.org/stable/api/_as_gen/matplotlib.pyplot.pie.html"
   ]
  },
  {
   "cell_type": "code",
   "execution_count": null,
   "id": "5e1a0533",
   "metadata": {},
   "outputs": [],
   "source": []
  },
  {
   "cell_type": "markdown",
   "id": "f50b218c",
   "metadata": {},
   "source": [
    "## Mudando o tipo de marcador do gráfico\n",
    "\n",
    "https://matplotlib.org/stable/api/markers_api.html"
   ]
  },
  {
   "cell_type": "code",
   "execution_count": null,
   "id": "757a64e6",
   "metadata": {},
   "outputs": [],
   "source": []
  },
  {
   "cell_type": "markdown",
   "id": "887428d7",
   "metadata": {},
   "source": [
    "## Mudando os limites do gráfico\n",
    "\n",
    "https://matplotlib.org/stable/api/_as_gen/matplotlib.pyplot.axis.html"
   ]
  },
  {
   "cell_type": "code",
   "execution_count": null,
   "id": "d82e5a59",
   "metadata": {},
   "outputs": [],
   "source": []
  },
  {
   "cell_type": "code",
   "execution_count": null,
   "id": "aec379df",
   "metadata": {},
   "outputs": [],
   "source": []
  },
  {
   "cell_type": "markdown",
   "id": "c8e0e79a",
   "metadata": {},
   "source": [
    "## Na prática - dataset Pokemon e UFO"
   ]
  },
  {
   "cell_type": "code",
   "execution_count": null,
   "id": "4e794075",
   "metadata": {
    "scrolled": true
   },
   "outputs": [],
   "source": []
  },
  {
   "cell_type": "code",
   "execution_count": null,
   "id": "a31719e0",
   "metadata": {},
   "outputs": [],
   "source": []
  },
  {
   "cell_type": "code",
   "execution_count": null,
   "id": "24d69cc9",
   "metadata": {
    "scrolled": true
   },
   "outputs": [],
   "source": []
  }
 ],
 "metadata": {
  "kernelspec": {
   "display_name": "Python 3 (ipykernel)",
   "language": "python",
   "name": "python3"
  },
  "language_info": {
   "codemirror_mode": {
    "name": "ipython",
    "version": 3
   },
   "file_extension": ".py",
   "mimetype": "text/x-python",
   "name": "python",
   "nbconvert_exporter": "python",
   "pygments_lexer": "ipython3",
   "version": "3.10.8"
  }
 },
 "nbformat": 4,
 "nbformat_minor": 5
}
