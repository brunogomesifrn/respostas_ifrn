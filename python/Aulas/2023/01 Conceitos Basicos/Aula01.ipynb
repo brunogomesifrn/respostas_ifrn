{
 "cells": [
  {
   "cell_type": "code",
   "execution_count": 4,
   "id": "f641e3ca-7165-432f-9fcb-46e27ff30276",
   "metadata": {},
   "outputs": [
    {
     "name": "stdout",
     "output_type": "stream",
     "text": [
      "É preciso fazer todos os algoritmos\n",
      "para aprender Python!!\n"
     ]
    }
   ],
   "source": [
    "#Questão 1\n",
    "print(\"É preciso fazer todos os algoritmos\")\n",
    "print(\"para aprender Python!!\")"
   ]
  },
  {
   "cell_type": "markdown",
   "id": "6db1f175-9ebe-4ca1-a550-e58cd1ba1a11",
   "metadata": {},
   "source": [
    "Python é uma linguagem fracamente tipada, isso quer dizer que eu não preciso informar o tipo da variável"
   ]
  },
  {
   "cell_type": "code",
   "execution_count": 2,
   "id": "3425d7e3-c085-4623-85a8-388240c99f90",
   "metadata": {},
   "outputs": [
    {
     "name": "stdout",
     "output_type": "stream",
     "text": [
      "30\n"
     ]
    }
   ],
   "source": []
  },
  {
   "cell_type": "code",
   "execution_count": 3,
   "id": "e42c4e6b-e490-454f-942f-cd3ecf3acd5d",
   "metadata": {},
   "outputs": [
    {
     "data": {
      "text/plain": [
       "'\\nComentário em várias\\nlinhas\\n'"
      ]
     },
     "execution_count": 3,
     "metadata": {},
     "output_type": "execute_result"
    }
   ],
   "source": [
    "# Comentário em 1 linha\n",
    "\n",
    "'''\n",
    "Comentário\n",
    "em várias\n",
    "linhas\n",
    "'''\n",
    "\n",
    "\"\"\"\n",
    "Comentário em várias\n",
    "linhas\n",
    "\"\"\""
   ]
  },
  {
   "cell_type": "code",
   "execution_count": null,
   "id": "0ae5b09d-e863-47ac-b0c7-f32f4ec26c72",
   "metadata": {},
   "outputs": [],
   "source": []
  }
 ],
 "metadata": {
  "kernelspec": {
   "display_name": "Python 3 (ipykernel)",
   "language": "python",
   "name": "python3"
  },
  "language_info": {
   "codemirror_mode": {
    "name": "ipython",
    "version": 3
   },
   "file_extension": ".py",
   "mimetype": "text/x-python",
   "name": "python",
   "nbconvert_exporter": "python",
   "pygments_lexer": "ipython3",
   "version": "3.10.4"
  }
 },
 "nbformat": 4,
 "nbformat_minor": 5
}
