{
 "cells": [
  {
   "cell_type": "markdown",
   "id": "268b38e3-e46a-4a5f-8615-fadd39f61f01",
   "metadata": {},
   "source": [
    "# Atividade 03 - 09/11/23"
   ]
  },
  {
   "cell_type": "markdown",
   "id": "6f85f769-1a7f-4586-8981-03f67391ff37",
   "metadata": {},
   "source": [
    "Documentação Numpy: https://numpy.org/doc/stable/\n",
    "\n",
    "Enviar este arquivo preenchido com as respostas e o nome do aluno para o e-mail: profbrunorespostas1@gmail.com e assunto: AD2303\n",
    "\n",
    "Prazo: 14/11/23\n",
    "\n",
    "Pontos: 20"
   ]
  },
  {
   "cell_type": "markdown",
   "id": "47e439ad-c7d5-421c-9511-509f00b55ec4",
   "metadata": {},
   "source": [
    "### Orientações\n",
    "\n",
    "- Usar apenas a biblioteca pandas para responder as questões desta atividade;\n",
    "- Utilizar o dataset disponibilizado no Google Sala de Aula com o título: DATASET - ATIVIDADE PANDAS - 01;\n",
    "- O dataset trata de aparições de ovnis pelo mundo e foi retirado da plataforma Kaggle."
   ]
  },
  {
   "cell_type": "code",
   "execution_count": null,
   "id": "621fbebb-dbf8-4fc3-99aa-f31d2743c816",
   "metadata": {},
   "outputs": [],
   "source": [
    "#Substituir nome do aluno aqui\n",
    "print(\"Nome do aluno aqui\")"
   ]
  },
  {
   "cell_type": "markdown",
   "id": "7aed8919",
   "metadata": {},
   "source": [
    "### Questão 1\n",
    "\n",
    "Imprimir apenas as 15 primeiras linhas do dataset."
   ]
  },
  {
   "cell_type": "code",
   "execution_count": null,
   "id": "15b0a9a6",
   "metadata": {},
   "outputs": [],
   "source": []
  },
  {
   "cell_type": "markdown",
   "id": "2dc22db5",
   "metadata": {},
   "source": [
    "### Questão 2\n",
    "\n",
    "Imprimir apenas as aparições que ocorreram no ano de 2014."
   ]
  },
  {
   "cell_type": "code",
   "execution_count": null,
   "id": "9c985e42",
   "metadata": {},
   "outputs": [],
   "source": []
  },
  {
   "cell_type": "markdown",
   "id": "f460bbd5",
   "metadata": {},
   "source": [
    "### Questão 3\n",
    "\n",
    "Imprimir apenas as aparições que ocorreram no ano de 2011 e no Brasil (Country_Code)"
   ]
  },
  {
   "cell_type": "code",
   "execution_count": null,
   "id": "889494fd",
   "metadata": {},
   "outputs": [],
   "source": []
  },
  {
   "cell_type": "markdown",
   "id": "9d4b1153",
   "metadata": {},
   "source": [
    "### Questão 4\n",
    "\n",
    "Imprimir as aparições que ocorreram no Estado do Rio Grande do Norte ou da Paraíba (Region)."
   ]
  },
  {
   "cell_type": "code",
   "execution_count": null,
   "id": "74abe9ad",
   "metadata": {},
   "outputs": [],
   "source": []
  },
  {
   "cell_type": "markdown",
   "id": "bca14692-d395-45b8-8bbe-e86d1b2b40f4",
   "metadata": {},
   "source": [
    "### Questão 5\n",
    "\n",
    "Imprimir as aparições que ocorreram entre os anos de 2000 e 2014 nos Estados Unidos."
   ]
  },
  {
   "cell_type": "code",
   "execution_count": null,
   "id": "85832b19-6a28-4e56-a6cb-acb9c77e5d2d",
   "metadata": {},
   "outputs": [],
   "source": []
  },
  {
   "cell_type": "markdown",
   "id": "859114d3-8f2c-40ba-98ca-3a140c53a04b",
   "metadata": {},
   "source": [
    "### Questão 6\n",
    "\n",
    "Imprimir todas aparições que ocorreram no ano de 2010 e que não foram no formato de Triângulo (UFO_shape)"
   ]
  },
  {
   "cell_type": "code",
   "execution_count": null,
   "id": "ca058868-62c0-4e7d-a097-e0bb32042b49",
   "metadata": {},
   "outputs": [],
   "source": []
  },
  {
   "cell_type": "markdown",
   "id": "21dfbaa8",
   "metadata": {},
   "source": [
    "### Questão 7\n",
    "\n",
    "Imprimir as aparições que ocorreram entre as datas 01/01/2011 e 30/07/2011 (utilizando a coluna Date_time).\n",
    "\n",
    "Obs.: Pesquisar como converter os textos da coluna Date_time para o formato correto de data no Pandas, para que se possa realizar os cálculos."
   ]
  },
  {
   "cell_type": "code",
   "execution_count": null,
   "id": "b9849850",
   "metadata": {},
   "outputs": [],
   "source": []
  },
  {
   "cell_type": "markdown",
   "id": "a49acf36",
   "metadata": {},
   "source": [
    "### Questão 8\n",
    "\n",
    "Imprimir a quantidade de aparições que ocorreram por cada país.\n",
    "\n",
    "Obs.: Pesquisar sobre agrupamento através da função groupby() e como contar através da função count()."
   ]
  },
  {
   "cell_type": "code",
   "execution_count": null,
   "id": "9d11a502",
   "metadata": {},
   "outputs": [],
   "source": []
  },
  {
   "cell_type": "markdown",
   "id": "52bde141",
   "metadata": {},
   "source": [
    "### Questão 9\n",
    "\n",
    "Utilizando a questão anterior, imprimir ordenando do país com maior aparições para o com menor."
   ]
  },
  {
   "cell_type": "code",
   "execution_count": null,
   "id": "629c7c84",
   "metadata": {},
   "outputs": [],
   "source": []
  },
  {
   "cell_type": "markdown",
   "id": "447e9d63",
   "metadata": {},
   "source": [
    "### Questão 10\n",
    "\n",
    "Utilizando a questão anterior, retornar apenas os 5 países com as maiores quantidades de aparições."
   ]
  },
  {
   "cell_type": "code",
   "execution_count": null,
   "id": "79bb64ef",
   "metadata": {},
   "outputs": [],
   "source": []
  }
 ],
 "metadata": {
  "kernelspec": {
   "display_name": "Python 3 (ipykernel)",
   "language": "python",
   "name": "python3"
  },
  "language_info": {
   "codemirror_mode": {
    "name": "ipython",
    "version": 3
   },
   "file_extension": ".py",
   "mimetype": "text/x-python",
   "name": "python",
   "nbconvert_exporter": "python",
   "pygments_lexer": "ipython3",
   "version": "3.10.4"
  }
 },
 "nbformat": 4,
 "nbformat_minor": 5
}
