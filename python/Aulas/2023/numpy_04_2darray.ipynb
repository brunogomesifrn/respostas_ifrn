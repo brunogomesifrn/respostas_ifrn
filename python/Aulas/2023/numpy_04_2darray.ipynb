{
 "cells": [
  {
   "cell_type": "markdown",
   "id": "97e5b320-fd70-4206-8a00-84d845e7e852",
   "metadata": {},
   "source": [
    "# Slicing de Arrays de 2 dimensões"
   ]
  },
  {
   "cell_type": "code",
   "execution_count": null,
   "id": "63e50081-0235-4d8d-8c55-1ab7f93dd88f",
   "metadata": {},
   "outputs": [],
   "source": [
    "# Slicing significa fatiar; utiliza colchetes []"
   ]
  },
  {
   "cell_type": "code",
   "execution_count": 1,
   "id": "22862e33-473b-4d8c-889d-4d7e970bf9df",
   "metadata": {},
   "outputs": [],
   "source": [
    "import numpy as np"
   ]
  },
  {
   "cell_type": "code",
   "execution_count": 2,
   "id": "91b24839-6f11-4d93-8a61-a2e3aab60e22",
   "metadata": {},
   "outputs": [
    {
     "name": "stdout",
     "output_type": "stream",
     "text": [
      "[3 4 5]\n"
     ]
    }
   ],
   "source": [
    "# Revisão: slicing de array de 1 dimensão\n",
    "array_1 = np.array([1,2,3,4,5])\n",
    "print(array_1[2:5])"
   ]
  },
  {
   "cell_type": "code",
   "execution_count": 3,
   "id": "7a842320-f53c-4742-a888-0cc72e5b2a5c",
   "metadata": {},
   "outputs": [
    {
     "name": "stdout",
     "output_type": "stream",
     "text": [
      "[3 4 5]\n"
     ]
    }
   ],
   "source": [
    "print(array_1[2:])"
   ]
  },
  {
   "cell_type": "code",
   "execution_count": 4,
   "id": "3290a87c-fa8f-4cfe-8b86-3cfe350dc2b4",
   "metadata": {},
   "outputs": [
    {
     "name": "stdout",
     "output_type": "stream",
     "text": [
      "[1 2]\n"
     ]
    }
   ],
   "source": [
    "print(array_1[:2])"
   ]
  },
  {
   "cell_type": "code",
   "execution_count": 7,
   "id": "6fe5f760-59bb-4415-8d38-3ef4aec3fc57",
   "metadata": {},
   "outputs": [
    {
     "name": "stdout",
     "output_type": "stream",
     "text": [
      "[0 2 4]\n"
     ]
    }
   ],
   "source": [
    "array_1 = np.array([0,1,2,3,4,5])\n",
    "print(array_1[0:6:2])"
   ]
  },
  {
   "cell_type": "code",
   "execution_count": 10,
   "id": "87928936-83d8-4369-ad9c-c5e33abae714",
   "metadata": {},
   "outputs": [
    {
     "name": "stdout",
     "output_type": "stream",
     "text": [
      "[0 2 4]\n"
     ]
    }
   ],
   "source": [
    "array_1 = np.array([0,1,2,3,4,5])\n",
    "print(array_1[::2])"
   ]
  },
  {
   "cell_type": "code",
   "execution_count": 11,
   "id": "75e48b6a-5d1a-4cd3-9aaa-48eebe0a51ea",
   "metadata": {},
   "outputs": [
    {
     "name": "stdout",
     "output_type": "stream",
     "text": [
      "[1 2 3 4]\n"
     ]
    }
   ],
   "source": [
    "array_1 = np.array([0,1,2,3,4,5])\n",
    "print(array_1[-5:5])"
   ]
  },
  {
   "cell_type": "code",
   "execution_count": 19,
   "id": "4f68b9ea-40e4-4244-a632-6395c63dd09e",
   "metadata": {},
   "outputs": [
    {
     "name": "stdout",
     "output_type": "stream",
     "text": [
      "[5 4 3 2 1 0]\n"
     ]
    }
   ],
   "source": [
    "array_1 = np.array([0,1,2,3,4,5])\n",
    "print(array_1[::-1])"
   ]
  },
  {
   "cell_type": "markdown",
   "id": "7ce47b5a-1101-4d24-a25b-d4fa504fe328",
   "metadata": {},
   "source": [
    "## Slicing em Array de duas dimensões"
   ]
  },
  {
   "cell_type": "code",
   "execution_count": 27,
   "id": "06953a8c-784b-4b3f-a6de-17481b4f2985",
   "metadata": {},
   "outputs": [
    {
     "name": "stdout",
     "output_type": "stream",
     "text": [
      "[[ 1  2  3]\n",
      " [ 4  5  6]\n",
      " [ 7  8  9]\n",
      " [10 11 12]]\n"
     ]
    }
   ],
   "source": [
    "array_2 = np.array([[1,2,3],[4,5,6],[7,8,9],[10,11,12]])\n",
    "print(array_2)"
   ]
  },
  {
   "cell_type": "code",
   "execution_count": 28,
   "id": "4bfe254e-c8bc-472f-a5f3-a73d0d66096d",
   "metadata": {},
   "outputs": [
    {
     "name": "stdout",
     "output_type": "stream",
     "text": [
      "[[ 8  9]\n",
      " [11 12]]\n"
     ]
    }
   ],
   "source": [
    "print(array_2[2:4,1:3])"
   ]
  },
  {
   "cell_type": "code",
   "execution_count": 29,
   "id": "27354759-1f13-4203-b773-a6953f457be0",
   "metadata": {},
   "outputs": [
    {
     "name": "stdout",
     "output_type": "stream",
     "text": [
      "[[ 4  5]\n",
      " [ 7  8]\n",
      " [10 11]]\n"
     ]
    }
   ],
   "source": [
    "print(array_2[1:,:2])"
   ]
  },
  {
   "cell_type": "code",
   "execution_count": 30,
   "id": "f8c70309-bd72-4d02-9dea-862e3103a920",
   "metadata": {},
   "outputs": [
    {
     "name": "stdout",
     "output_type": "stream",
     "text": [
      "[[10]]\n"
     ]
    }
   ],
   "source": [
    "print(array_2[3:4,0:1])"
   ]
  },
  {
   "cell_type": "code",
   "execution_count": 31,
   "id": "925d9139-f425-422b-96e2-fc5ed963f698",
   "metadata": {},
   "outputs": [
    {
     "name": "stdout",
     "output_type": "stream",
     "text": [
      "[[10]]\n"
     ]
    }
   ],
   "source": [
    "print(array_2[3:,:1])"
   ]
  },
  {
   "cell_type": "code",
   "execution_count": 42,
   "id": "57ecc396-646f-47b4-b5b5-3b137587e82e",
   "metadata": {
    "scrolled": true
   },
   "outputs": [
    {
     "name": "stdout",
     "output_type": "stream",
     "text": [
      "[[1]]\n",
      "[[5]]\n",
      "[[9]]\n"
     ]
    }
   ],
   "source": [
    "print(array_2[0:1,0:1])\n",
    "print(array_2[1:2,1:2])\n",
    "print(array_2[2:3,2:3])"
   ]
  },
  {
   "cell_type": "code",
   "execution_count": 45,
   "id": "e127e9f2-6402-402e-b245-a836e8d69c18",
   "metadata": {},
   "outputs": [
    {
     "name": "stdout",
     "output_type": "stream",
     "text": [
      "[ 4  8 12]\n"
     ]
    }
   ],
   "source": [
    "print(np.diag(array_2, k=-1))"
   ]
  },
  {
   "cell_type": "code",
   "execution_count": null,
   "id": "08fb0602-edf8-44fc-ae1f-272ac232c392",
   "metadata": {},
   "outputs": [],
   "source": []
  }
 ],
 "metadata": {
  "kernelspec": {
   "display_name": "Python 3 (ipykernel)",
   "language": "python",
   "name": "python3"
  },
  "language_info": {
   "codemirror_mode": {
    "name": "ipython",
    "version": 3
   },
   "file_extension": ".py",
   "mimetype": "text/x-python",
   "name": "python",
   "nbconvert_exporter": "python",
   "pygments_lexer": "ipython3",
   "version": "3.10.4"
  }
 },
 "nbformat": 4,
 "nbformat_minor": 5
}
