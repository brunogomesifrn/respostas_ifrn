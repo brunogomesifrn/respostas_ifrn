{
 "cells": [
  {
   "cell_type": "markdown",
   "id": "cf7c09d4-06f4-4eb4-9999-00819a3c7fff",
   "metadata": {},
   "source": [
    "# Numpy"
   ]
  },
  {
   "cell_type": "markdown",
   "id": "569e01a3-fc2f-40b2-9fa7-7fe4e31cdfc0",
   "metadata": {},
   "source": [
    "Numpy = Numerical Python\n",
    "Pacote para operações matemáticas que suportam estatística, análise \n",
    "de dados, inteligênica artificial, entre outras.\n",
    "\n",
    "- Numpy trabalha com o conceito de Array e tem suporte a leitura de datasets;\n",
    "- Disponibiliza diversas funções de cálculos matemáticos e estatísticos;\n",
    "\n",
    "Site Oficial: https://numpy.org\n",
    "\n",
    "Instalação: pip install numpy"
   ]
  },
  {
   "cell_type": "markdown",
   "id": "21a6d7eb-0e0e-426e-98a1-773bd142565d",
   "metadata": {},
   "source": [
    "## Array Numpy\n",
    "\n",
    "Array numpy é uma lista de dados de mesmo tipo\n",
    "\n",
    "Nomenclatura oficial: ndarray\n",
    "\n",
    "- 1-D array - array com 1 dimensão - vetor, lista\n",
    "- 2-D array - array com 2 dimensões - matriz\n",
    "- 3-D ou mais array - array com 3 ou mais dimensões - tensor"
   ]
  },
  {
   "cell_type": "code",
   "execution_count": 1,
   "id": "a70e094b-1df8-4276-90bb-9bd5d76069a7",
   "metadata": {},
   "outputs": [],
   "source": [
    "# Importando a biblioteca\n",
    "import numpy as np"
   ]
  },
  {
   "cell_type": "code",
   "execution_count": 2,
   "id": "d1cce7ce-4873-41a1-8d57-7123243ac5a4",
   "metadata": {},
   "outputs": [
    {
     "name": "stdout",
     "output_type": "stream",
     "text": [
      "[ 2  6  5  1 55]\n"
     ]
    }
   ],
   "source": [
    "# Criando um array numpy - função array()\n",
    "array_01 = np.array([2,6,5,1,55])\n",
    "print(array_01)"
   ]
  },
  {
   "cell_type": "code",
   "execution_count": 3,
   "id": "90f5e247-54cf-47c6-879f-c08a3c9bd944",
   "metadata": {},
   "outputs": [
    {
     "name": "stdout",
     "output_type": "stream",
     "text": [
      "<class 'numpy.ndarray'>\n"
     ]
    }
   ],
   "source": [
    "# type() - é uma função python para visualizar o tipo de dado\n",
    "array_01 = np.array([2,6,5,1,55])\n",
    "print(type(array_01))"
   ]
  },
  {
   "cell_type": "markdown",
   "id": "db1e37fd-6b58-4c25-9ce2-59d6d65685bf",
   "metadata": {},
   "source": [
    "## Propriedades"
   ]
  },
  {
   "cell_type": "code",
   "execution_count": 4,
   "id": "7c91188b-7a83-431c-b38c-acc76b01561d",
   "metadata": {},
   "outputs": [
    {
     "name": "stdout",
     "output_type": "stream",
     "text": [
      "int32\n"
     ]
    }
   ],
   "source": [
    "# dtype - Imprime o tipo dos dados do array numpy\n",
    "array_01 = np.array([2,6,5,1,55])\n",
    "print(array_01.dtype)"
   ]
  },
  {
   "cell_type": "code",
   "execution_count": 5,
   "id": "86093978-de3f-4999-acae-5762b73dc125",
   "metadata": {},
   "outputs": [
    {
     "name": "stdout",
     "output_type": "stream",
     "text": [
      "(5,)\n"
     ]
    }
   ],
   "source": [
    "# shape - dimensão e qtd de elementos do array numpy\n",
    "array_01 = np.array([2,6,5,1,55])\n",
    "print(array_01.shape)"
   ]
  },
  {
   "cell_type": "code",
   "execution_count": 17,
   "id": "ad93816b-7036-4133-b341-25a1bf990d08",
   "metadata": {},
   "outputs": [
    {
     "name": "stdout",
     "output_type": "stream",
     "text": [
      "5\n"
     ]
    }
   ],
   "source": [
    "# size - quantidade de elementos do array\n",
    "array_01 = np.array([2,6,5,1,55])\n",
    "print(array_01.size)"
   ]
  },
  {
   "cell_type": "markdown",
   "id": "248fdd5e-71f8-49c6-abd9-81283a251ac3",
   "metadata": {},
   "source": [
    "## Funções"
   ]
  },
  {
   "cell_type": "code",
   "execution_count": 18,
   "id": "993d31bd-1a92-4c6d-bae0-6c79b57b6d40",
   "metadata": {},
   "outputs": [
    {
     "name": "stdout",
     "output_type": "stream",
     "text": [
      "[ 2  8 13 14 69]\n"
     ]
    }
   ],
   "source": [
    "# cumsum() - gera um novo array numpy com a soma acumulada dos elementos\n",
    "array_01 = np.array([2,6,5,1,55])\n",
    "print(array_01.cumsum())"
   ]
  },
  {
   "cell_type": "code",
   "execution_count": 20,
   "id": "5d0330e6-b202-4aee-b0fe-162094d7e94d",
   "metadata": {},
   "outputs": [
    {
     "name": "stdout",
     "output_type": "stream",
     "text": [
      "[0 1 2 3 4 5 6 7 8 9]\n"
     ]
    }
   ],
   "source": [
    "# arange() - cria um array numpy seguindo a mesma lógica da função range()\n",
    "array_01 = np.arange(10)\n",
    "print(array_01)"
   ]
  },
  {
   "cell_type": "code",
   "execution_count": 21,
   "id": "6ef68a59-4c55-43e7-91a1-1dbee3409d4a",
   "metadata": {},
   "outputs": [
    {
     "name": "stdout",
     "output_type": "stream",
     "text": [
      "[2 3 4 5 6 7 8 9]\n"
     ]
    }
   ],
   "source": [
    "array_01 = np.arange(2,10)\n",
    "print(array_01)"
   ]
  },
  {
   "cell_type": "code",
   "execution_count": 23,
   "id": "bde4f23d-0a55-49e0-8bb5-236e9c544e63",
   "metadata": {},
   "outputs": [
    {
     "name": "stdout",
     "output_type": "stream",
     "text": [
      "[2 6]\n"
     ]
    }
   ],
   "source": [
    "array_01 = np.arange(2,10,4)\n",
    "print(array_01)"
   ]
  },
  {
   "cell_type": "code",
   "execution_count": 27,
   "id": "5a6c6ebe-943c-483f-94b7-5d3db731fb72",
   "metadata": {},
   "outputs": [
    {
     "name": "stdout",
     "output_type": "stream",
     "text": [
      "[ 1.  4.  7. 10.]\n"
     ]
    }
   ],
   "source": [
    "'''\n",
    "linspace() - gera um array numpy que:\n",
    "(1,10,4)\n",
    "1 - Número inicial do intervalo\n",
    "10 - Número final do intervalo\n",
    "4 - Deve preencher o array com 4 elementos deste intervalo com \n",
    "o mesmo espaçamento entre eles\n",
    "\n",
    "'''\n",
    "array_01 = np.linspace(1,10,4)\n",
    "print(array_01)"
   ]
  },
  {
   "cell_type": "code",
   "execution_count": 28,
   "id": "cb97baf0-a997-46cd-8644-8367630bdd2c",
   "metadata": {},
   "outputs": [
    {
     "name": "stdout",
     "output_type": "stream",
     "text": [
      "[False  True  True  True]\n"
     ]
    }
   ],
   "source": [
    "# equal() - compara elementos de arrays numpy, resultando em um array de booleanos\n",
    "array_02 = np.array([1,4,7,4])\n",
    "array_03 = np.array([2,4,7,4])\n",
    "print(np.equal(array_02, array_03))"
   ]
  },
  {
   "cell_type": "code",
   "execution_count": 29,
   "id": "fffb0174-bfd4-4812-8ba3-f0513629a1cc",
   "metadata": {},
   "outputs": [
    {
     "name": "stdout",
     "output_type": "stream",
     "text": [
      "False\n"
     ]
    }
   ],
   "source": [
    "# array_equal() - compara se o array é igual a outro\n",
    "array_02 = np.array([1,4,7,4])\n",
    "array_03 = np.array([2,4,7,4])\n",
    "print(np.array_equal(array_02, array_03))"
   ]
  },
  {
   "cell_type": "markdown",
   "id": "5983f243-2c66-4b9c-88c4-5d6a3eb426e1",
   "metadata": {},
   "source": [
    "## Slicing de Arrays numpy (fatiamento)"
   ]
  },
  {
   "cell_type": "code",
   "execution_count": 32,
   "id": "04e93ede-f11c-4904-819a-8743e8fd6815",
   "metadata": {},
   "outputs": [
    {
     "name": "stdout",
     "output_type": "stream",
     "text": [
      "[ 0  1  2  3  4  5  6  7  8  9 10 11 12 13 14 15 16 17 18 19]\n"
     ]
    }
   ],
   "source": [
    "array_04 = np.arange(20)\n",
    "print(array_04)"
   ]
  },
  {
   "cell_type": "code",
   "execution_count": 33,
   "id": "35ef61f4-4550-4502-8aff-6f04e2c11906",
   "metadata": {},
   "outputs": [
    {
     "name": "stdout",
     "output_type": "stream",
     "text": [
      "[ 5  7  9 11 13]\n"
     ]
    }
   ],
   "source": [
    "print(array_04[5:15:2])"
   ]
  },
  {
   "cell_type": "code",
   "execution_count": 35,
   "id": "e0129ab3-b444-426a-96a9-c86e2d79cbc7",
   "metadata": {},
   "outputs": [
    {
     "name": "stdout",
     "output_type": "stream",
     "text": [
      "[ 5  6  7  8  9 10 11 12 13 14 15 16 17 18 19]\n"
     ]
    }
   ],
   "source": [
    "print(array_04[5::])"
   ]
  },
  {
   "cell_type": "code",
   "execution_count": null,
   "id": "bc854378-0520-4e31-aa42-7378dd478a1e",
   "metadata": {},
   "outputs": [],
   "source": []
  }
 ],
 "metadata": {
  "kernelspec": {
   "display_name": "Python 3 (ipykernel)",
   "language": "python",
   "name": "python3"
  },
  "language_info": {
   "codemirror_mode": {
    "name": "ipython",
    "version": 3
   },
   "file_extension": ".py",
   "mimetype": "text/x-python",
   "name": "python",
   "nbconvert_exporter": "python",
   "pygments_lexer": "ipython3",
   "version": "3.10.4"
  }
 },
 "nbformat": 4,
 "nbformat_minor": 5
}
