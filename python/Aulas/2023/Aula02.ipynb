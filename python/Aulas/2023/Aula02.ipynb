{
 "cells": [
  {
   "cell_type": "markdown",
   "id": "d19ab21f-d1c9-46e4-ad5e-47e84153739e",
   "metadata": {},
   "source": [
    "Tipos de Dados em Python\n",
    "- Inteiro\n",
    "- Real\n",
    "- Texto\n",
    "- Booleano"
   ]
  },
  {
   "cell_type": "code",
   "execution_count": 1,
   "id": "052d2d84-3d43-449c-bd3f-657aa0b40971",
   "metadata": {},
   "outputs": [],
   "source": [
    "idade = 30\n",
    "nota = 10.5\n",
    "nome = 'IFRN'\n",
    "valor = True"
   ]
  },
  {
   "cell_type": "markdown",
   "id": "ac6ae543-fd43-4031-b91d-d024462a5177",
   "metadata": {},
   "source": [
    "Estrututas Condicionais\n",
    "- IF\n",
    "- IF...ELSE\n",
    "- ELIF"
   ]
  },
  {
   "cell_type": "code",
   "execution_count": 3,
   "id": "2ae7f3f4-029c-436b-b3ff-c6f90028684c",
   "metadata": {},
   "outputs": [],
   "source": [
    "valor = 0\n",
    "if valor>0:\n",
    "    print(\"Valor Positivo\")"
   ]
  },
  {
   "cell_type": "code",
   "execution_count": 5,
   "id": "77a29985-60b6-41c9-a408-dd11a85aeb2f",
   "metadata": {},
   "outputs": [
    {
     "name": "stdout",
     "output_type": "stream",
     "text": [
      "Valor positivo\n"
     ]
    }
   ],
   "source": [
    "valor = 5\n",
    "if valor>=0:\n",
    "    print(\"Valor positivo\")\n",
    "else:\n",
    "    print(\"Valor negativo\")"
   ]
  },
  {
   "cell_type": "code",
   "execution_count": 6,
   "id": "2a77aa85-cdf9-4eee-8f7b-79a9d033be8e",
   "metadata": {},
   "outputs": [
    {
     "name": "stdout",
     "output_type": "stream",
     "text": [
      "Negativo\n"
     ]
    }
   ],
   "source": [
    "valor = 30\n",
    "if valor>0:\n",
    "    print(\"positivo\")\n",
    "elif valor==0:\n",
    "    print(\"zero\")\n",
    "else:\n",
    "    print(\"Negativo\")"
   ]
  },
  {
   "cell_type": "markdown",
   "id": "35637b9b-e025-4bdd-a4dd-e4ff93051e8f",
   "metadata": {},
   "source": [
    "Lista de Dados (Array) \n",
    "- Usa colchetes para agrupar os elementos\n",
    "- Através da lista é possível salvar vários valores em uma única variável"
   ]
  },
  {
   "cell_type": "code",
   "execution_count": 8,
   "id": "b05fe992-61ff-4ad4-953d-adca87b17b9f",
   "metadata": {},
   "outputs": [
    {
     "name": "stdout",
     "output_type": "stream",
     "text": [
      "Analise\n"
     ]
    }
   ],
   "source": [
    "idades = [30, 18, 23]\n",
    "notas = [8.5, 7.5]\n",
    "nomes = [\"IFRN\", \"IFPB\", \"IFPE\"]\n",
    "valores = [True, False, False]\n",
    "diversos = [30, 5.3, \"Analise\", True]\n",
    "\n",
    "print(diversos[2])"
   ]
  },
  {
   "cell_type": "code",
   "execution_count": 11,
   "id": "42c6588a-eb90-4078-9feb-56cd11bf0099",
   "metadata": {},
   "outputs": [
    {
     "data": {
      "text/plain": [
       "30"
      ]
     },
     "execution_count": 11,
     "metadata": {},
     "output_type": "execute_result"
    }
   ],
   "source": [
    "'''\n",
    "O jupyter permite a impressão sem a utilização do print,\n",
    "isto funciona apenas nesta ferramenta.\n",
    "'''\n",
    "diversos[0]"
   ]
  },
  {
   "cell_type": "code",
   "execution_count": 13,
   "id": "28e70b46-f914-4b83-a9cb-0ba99014788d",
   "metadata": {},
   "outputs": [
    {
     "name": "stdout",
     "output_type": "stream",
     "text": [
      "2\n"
     ]
    }
   ],
   "source": [
    "# O exemplo a seguir possui uma lista dentro de outra lista\n",
    "lista_1 = [5, 3, [2,1]]\n",
    "print(lista_1[2][0])"
   ]
  },
  {
   "cell_type": "code",
   "execution_count": 14,
   "id": "810faac0-acc7-4333-950f-360dd206d817",
   "metadata": {},
   "outputs": [
    {
     "name": "stdout",
     "output_type": "stream",
     "text": [
      "4\n"
     ]
    }
   ],
   "source": [
    "lista_2 = [2,54,2,1]\n",
    "print(len(lista_2))"
   ]
  },
  {
   "cell_type": "markdown",
   "id": "51b6dc9c-03a9-4eeb-b100-bb22e1a1109e",
   "metadata": {},
   "source": [
    "Estrutura de Repetição\n",
    "- Se usa for e lista de dados"
   ]
  },
  {
   "cell_type": "code",
   "execution_count": 16,
   "id": "a76ffaab-879b-44e7-a13b-fb827c55702b",
   "metadata": {},
   "outputs": [
    {
     "name": "stdout",
     "output_type": "stream",
     "text": [
      "1\n",
      "2\n",
      "3\n",
      "4\n",
      "5\n"
     ]
    }
   ],
   "source": [
    "for numero in [1, 2, 3, 4, 5]:\n",
    "    print(numero)"
   ]
  },
  {
   "cell_type": "code",
   "execution_count": null,
   "id": "55c79fc8-5a7c-4ea9-b289-d9adb609ebd0",
   "metadata": {},
   "outputs": [],
   "source": [
    "A função range serve para gerar uma lista de dados"
   ]
  },
  {
   "cell_type": "code",
   "execution_count": 19,
   "id": "ffcda2cb-7057-4b12-92b4-d370770315e5",
   "metadata": {},
   "outputs": [
    {
     "data": {
      "text/plain": [
       "[0, 1, 2, 3, 4, 5, 6, 7, 8, 9]"
      ]
     },
     "execution_count": 19,
     "metadata": {},
     "output_type": "execute_result"
    }
   ],
   "source": [
    "list(range(10))"
   ]
  },
  {
   "cell_type": "code",
   "execution_count": 20,
   "id": "83811c53-bd0e-40e2-a55a-8eba8e03ca2c",
   "metadata": {},
   "outputs": [
    {
     "data": {
      "text/plain": [
       "[1, 2, 3, 4, 5, 6, 7, 8, 9]"
      ]
     },
     "execution_count": 20,
     "metadata": {},
     "output_type": "execute_result"
    }
   ],
   "source": [
    "list(range(1,10))"
   ]
  },
  {
   "cell_type": "code",
   "execution_count": 21,
   "id": "35dfa1e5-331a-43de-a7fd-dc06b3dc43ab",
   "metadata": {},
   "outputs": [
    {
     "data": {
      "text/plain": [
       "[1, 3, 5, 7, 9]"
      ]
     },
     "execution_count": 21,
     "metadata": {},
     "output_type": "execute_result"
    }
   ],
   "source": [
    "list(range(1,10,2))"
   ]
  },
  {
   "cell_type": "code",
   "execution_count": 22,
   "id": "286839d6-62b3-4c8e-9448-66329ddd241e",
   "metadata": {},
   "outputs": [
    {
     "name": "stdout",
     "output_type": "stream",
     "text": [
      "1\n",
      "2\n",
      "3\n",
      "4\n",
      "5\n",
      "6\n",
      "7\n",
      "8\n",
      "9\n",
      "10\n"
     ]
    }
   ],
   "source": [
    "for numero in range(1,11):\n",
    "    print(numero)"
   ]
  },
  {
   "cell_type": "code",
   "execution_count": null,
   "id": "156e7e27-c704-44ae-9abc-57a5fd96ca80",
   "metadata": {},
   "outputs": [],
   "source": []
  }
 ],
 "metadata": {
  "kernelspec": {
   "display_name": "Python 3 (ipykernel)",
   "language": "python",
   "name": "python3"
  },
  "language_info": {
   "codemirror_mode": {
    "name": "ipython",
    "version": 3
   },
   "file_extension": ".py",
   "mimetype": "text/x-python",
   "name": "python",
   "nbconvert_exporter": "python",
   "pygments_lexer": "ipython3",
   "version": "3.10.4"
  }
 },
 "nbformat": 4,
 "nbformat_minor": 5
}
