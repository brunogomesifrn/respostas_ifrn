{
 "cells": [
  {
   "cell_type": "markdown",
   "id": "3b908774",
   "metadata": {},
   "source": [
    "# Atividade - 25/09/23"
   ]
  },
  {
   "cell_type": "markdown",
   "id": "5776e5be",
   "metadata": {},
   "source": [
    "Documentação Numpy: https://numpy.org/doc/stable/\n",
    "\n",
    "Enviar este arquivo preenchido com o nome do aluno para o e-mail: profbrunorespostas1@gmail.com e assunto: AD2301"
   ]
  },
  {
   "cell_type": "code",
   "execution_count": 6,
   "id": "4b829a95",
   "metadata": {},
   "outputs": [
    {
     "name": "stdout",
     "output_type": "stream",
     "text": [
      "Nome do aluno aqui\n"
     ]
    }
   ],
   "source": [
    "#Substituir nome do aluno aqui\n",
    "print(\"Nome do aluno aqui\")"
   ]
  },
  {
   "cell_type": "markdown",
   "id": "36dec32b",
   "metadata": {},
   "source": [
    "### Questão 1:\n",
    "Pesquisar na documentação da biblioteca numpy por propriedades e funções disponíveis para manipulação de Array de 1 dimensão (1darray) que não foram vistas em sala de aula. Citar cada uma delas com a explicação em forma de comentário e um exemplo.\n",
    "\n",
    "Arquivo da aula sobre numpy: https://github.com/brunogomesifrn/respostas_ifrn/blob/main/python/Aulas/2023/numpy.ipynb"
   ]
  },
  {
   "cell_type": "markdown",
   "id": "b515d917",
   "metadata": {},
   "source": [
    "#### Propriedades - 1darray"
   ]
  },
  {
   "cell_type": "code",
   "execution_count": null,
   "id": "ad48eaa6",
   "metadata": {},
   "outputs": [],
   "source": []
  },
  {
   "cell_type": "code",
   "execution_count": null,
   "id": "57047d70",
   "metadata": {},
   "outputs": [],
   "source": []
  },
  {
   "cell_type": "markdown",
   "id": "1dcf6129",
   "metadata": {},
   "source": [
    "#### Funções - 1darray"
   ]
  },
  {
   "cell_type": "code",
   "execution_count": null,
   "id": "49c18a21",
   "metadata": {},
   "outputs": [],
   "source": []
  },
  {
   "cell_type": "code",
   "execution_count": null,
   "id": "a53ccf3c",
   "metadata": {},
   "outputs": [],
   "source": []
  },
  {
   "cell_type": "markdown",
   "id": "4ed71dd7",
   "metadata": {},
   "source": [
    "### Questão 2\n",
    "Crie um exemplo de criação de um array de 2 dimensões (2darray)."
   ]
  },
  {
   "cell_type": "code",
   "execution_count": null,
   "id": "b5fe53dc",
   "metadata": {},
   "outputs": [],
   "source": []
  },
  {
   "cell_type": "markdown",
   "id": "e979093d",
   "metadata": {},
   "source": [
    "### Questão 3\n",
    "Cite funções disponíveis no numpy que criam array de duas dimenões (2darray) já preenchido de forma automática."
   ]
  },
  {
   "cell_type": "code",
   "execution_count": null,
   "id": "ee11cf0a",
   "metadata": {},
   "outputs": [],
   "source": []
  },
  {
   "cell_type": "code",
   "execution_count": null,
   "id": "38175192",
   "metadata": {},
   "outputs": [],
   "source": []
  }
 ],
 "metadata": {
  "kernelspec": {
   "display_name": "Python 3",
   "language": "python",
   "name": "python3"
  },
  "language_info": {
   "codemirror_mode": {
    "name": "ipython",
    "version": 3
   },
   "file_extension": ".py",
   "mimetype": "text/x-python",
   "name": "python",
   "nbconvert_exporter": "python",
   "pygments_lexer": "ipython3",
   "version": "3.6.4"
  }
 },
 "nbformat": 4,
 "nbformat_minor": 5
}
