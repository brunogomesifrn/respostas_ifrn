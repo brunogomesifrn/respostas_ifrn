{
 "cells": [
  {
   "cell_type": "markdown",
   "id": "d777e378",
   "metadata": {},
   "source": [
    "# Pandas"
   ]
  },
  {
   "cell_type": "markdown",
   "id": "5d844ace",
   "metadata": {},
   "source": [
    "A biblioteca pandas prepara/organiza os dados\n",
    "Este processo é chamado também de Data Muning\n",
    "Tem uma boa integração com o Numpy\n",
    "\n",
    "Dois conceitos principais:\n",
    "- Series\n",
    "- DataFrames\n",
    "\n",
    "Site oficial: https://pandas.pydata.org/\n",
    "\n",
    "Comando para Instalação: pip install pandas"
   ]
  },
  {
   "cell_type": "code",
   "execution_count": 1,
   "id": "8019333a",
   "metadata": {},
   "outputs": [],
   "source": [
    "#importando a biblioteca Pandas\n",
    "import pandas as pd"
   ]
  },
  {
   "cell_type": "markdown",
   "id": "c33d511a",
   "metadata": {},
   "source": [
    "# Series"
   ]
  },
  {
   "cell_type": "markdown",
   "id": "a44e77ac",
   "metadata": {},
   "source": [
    "Series são Arrays unidimensionais que contém uma lista de dadps e outra lista de índices"
   ]
  },
  {
   "cell_type": "code",
   "execution_count": 2,
   "id": "c08a1e7a",
   "metadata": {},
   "outputs": [
    {
     "name": "stdout",
     "output_type": "stream",
     "text": [
      "0    14\n",
      "1    10\n",
      "2     4\n",
      "3     1\n",
      "dtype: int64\n"
     ]
    }
   ],
   "source": [
    "#criação de Series com geração automática de índices \n",
    "series_1 = pd.Series([14, 10, 4, 1])\n",
    "print(series_1)"
   ]
  },
  {
   "cell_type": "code",
   "execution_count": 3,
   "id": "d589e375",
   "metadata": {},
   "outputs": [
    {
     "name": "stdout",
     "output_type": "stream",
     "text": [
      "a    14\n",
      "b    10\n",
      "c     4\n",
      "d     1\n",
      "dtype: int64\n"
     ]
    }
   ],
   "source": [
    "#Criação de Series definindo os índices\n",
    "series_2 = pd.Series([14, 10, 4, 1], index=['a', 'b', 'c', 'd'])\n",
    "print(series_2)"
   ]
  },
  {
   "cell_type": "code",
   "execution_count": 4,
   "id": "f01daf5e",
   "metadata": {},
   "outputs": [
    {
     "name": "stdout",
     "output_type": "stream",
     "text": [
      "[14 10  4  1]\n"
     ]
    }
   ],
   "source": [
    "#retorna apenas os valores da Series\n",
    "print(series_2.values)"
   ]
  },
  {
   "cell_type": "code",
   "execution_count": 5,
   "id": "f4273b06",
   "metadata": {},
   "outputs": [
    {
     "name": "stdout",
     "output_type": "stream",
     "text": [
      "Index(['a', 'b', 'c', 'd'], dtype='object')\n"
     ]
    }
   ],
   "source": [
    "#retorna apenas os índices da Series\n",
    "print(series_2.index)"
   ]
  },
  {
   "cell_type": "code",
   "execution_count": 6,
   "id": "d07e6bbc",
   "metadata": {},
   "outputs": [
    {
     "name": "stdout",
     "output_type": "stream",
     "text": [
      "10\n"
     ]
    }
   ],
   "source": [
    "#retorna o valor correspondente ao índice 'b'\n",
    "print(series_2['b'])"
   ]
  },
  {
   "cell_type": "code",
   "execution_count": 7,
   "id": "8907210e",
   "metadata": {},
   "outputs": [
    {
     "name": "stdout",
     "output_type": "stream",
     "text": [
      "a    14\n",
      "b    10\n",
      "dtype: int64\n"
     ]
    }
   ],
   "source": [
    "#Retorna uma Series contando apenas os valores superiores a 5\n",
    "print(series_2[series_2>5])"
   ]
  },
  {
   "cell_type": "code",
   "execution_count": 8,
   "id": "cfdf9156",
   "metadata": {},
   "outputs": [
    {
     "name": "stdout",
     "output_type": "stream",
     "text": [
      "a    14\n",
      "b    10\n",
      "c     4\n",
      "d     1\n",
      "dtype: int64\n"
     ]
    }
   ],
   "source": [
    "#Criando uma Series através de dicionário\n",
    "dicionario_1 = {'a':14, 'b':10, 'c':4, 'd':1}\n",
    "series_3 = pd.Series(dicionario_1)\n",
    "print(series_3)"
   ]
  },
  {
   "cell_type": "code",
   "execution_count": 15,
   "id": "23e24db2",
   "metadata": {},
   "outputs": [
    {
     "name": "stdout",
     "output_type": "stream",
     "text": [
      "a    14.0\n",
      "b    10.0\n",
      "c     4.0\n",
      "d     1.0\n",
      "e     NaN\n",
      "dtype: float64\n"
     ]
    }
   ],
   "source": [
    "#alteração do series_3 para um novo Series com um índice a mais\n",
    "#neste caso, não possui valor correspondente a este índice (NaN - Not a Number)\n",
    "series_4 = pd.Series(series_3, index=['a', 'b', 'c', 'd', 'e'])\n",
    "print(series_4)"
   ]
  },
  {
   "cell_type": "code",
   "execution_count": 16,
   "id": "8a783e57",
   "metadata": {},
   "outputs": [
    {
     "name": "stdout",
     "output_type": "stream",
     "text": [
      "a    False\n",
      "b    False\n",
      "c    False\n",
      "d    False\n",
      "e     True\n",
      "dtype: bool\n"
     ]
    }
   ],
   "source": [
    "#verifica quais posições possuem valores nulos (NaN)- retornando True neste caso\n",
    "print(pd.isnull(series_4))"
   ]
  },
  {
   "cell_type": "code",
   "execution_count": 17,
   "id": "621ba782",
   "metadata": {},
   "outputs": [
    {
     "name": "stdout",
     "output_type": "stream",
     "text": [
      "a     True\n",
      "b     True\n",
      "c     True\n",
      "d     True\n",
      "e    False\n",
      "dtype: bool\n"
     ]
    }
   ],
   "source": [
    "#verifica quais posições possuem valores não nulos - retornando True neste caso\n",
    "print(pd.notnull(series_4))"
   ]
  },
  {
   "cell_type": "code",
   "execution_count": 18,
   "id": "2fc99fd6",
   "metadata": {},
   "outputs": [
    {
     "name": "stdout",
     "output_type": "stream",
     "text": [
      "a    14.0\n",
      "b    10.0\n",
      "c     4.0\n",
      "d     1.0\n",
      "e     NaN\n",
      "Name: Aula, dtype: float64\n"
     ]
    }
   ],
   "source": [
    "#nomeando uma Series\n",
    "series_4.name = 'Aula'\n",
    "print(series_4)"
   ]
  },
  {
   "cell_type": "markdown",
   "id": "1a53d289",
   "metadata": {},
   "source": [
    "# Dataframe"
   ]
  },
  {
   "cell_type": "markdown",
   "id": "d0a2e226",
   "metadata": {},
   "source": [
    "- Estrutura semelhante a uma planilha do Excel\n",
    "- Possui colunas e linhas"
   ]
  },
  {
   "cell_type": "code",
   "execution_count": 19,
   "id": "5645cdf4",
   "metadata": {},
   "outputs": [],
   "source": [
    "dicionario_2 = {\n",
    "    'Dias': ['Segunda', 'Terça', 'Quarta'],\n",
    "    '7h': ['POO', 'BD', 'Algoritmos'],\n",
    "    '8h': ['Análise', 'Back End', 'Front-End']\n",
    "}"
   ]
  },
  {
   "cell_type": "code",
   "execution_count": 20,
   "id": "4c890c8c",
   "metadata": {},
   "outputs": [
    {
     "name": "stdout",
     "output_type": "stream",
     "text": [
      "      Dias          7h         8h\n",
      "0  Segunda         POO    Análise\n",
      "1    Terça          BD   Back End\n",
      "2   Quarta  Algoritmos  Front-End\n"
     ]
    }
   ],
   "source": [
    "dataframe_1 = pd.DataFrame(dicionario_2)\n",
    "print(dataframe_1)"
   ]
  },
  {
   "cell_type": "code",
   "execution_count": 21,
   "id": "6874fab2",
   "metadata": {},
   "outputs": [
    {
     "name": "stdout",
     "output_type": "stream",
     "text": [
      "      Dias        7h          8h\n",
      "a  Segunda     Terça      Quarta\n",
      "b      POO        BD  Algoritmos\n",
      "c  Análise  Back End   Front-End\n"
     ]
    }
   ],
   "source": [
    "valores = [\n",
    "    ['Segunda', 'Terça', 'Quarta'],\n",
    "    ['POO', 'BD', 'Algoritmos'],\n",
    "    ['Análise', 'Back End', 'Front-End']\n",
    "]\n",
    "\n",
    "colunas = ['Dias', '7h', '8h']\n",
    "\n",
    "indices = ['a', 'b', 'c']\n",
    "\n",
    "dataframe_2 = pd.DataFrame(valores, columns=colunas, index=indices)\n",
    "print(dataframe_2)"
   ]
  },
  {
   "cell_type": "code",
   "execution_count": 1,
   "id": "76c7ae2f",
   "metadata": {},
   "outputs": [],
   "source": [
    "#importando a biblioteca Pandas\n",
    "import pandas as pd"
   ]
  },
  {
   "cell_type": "code",
   "execution_count": 3,
   "id": "777aa183",
   "metadata": {},
   "outputs": [
    {
     "data": {
      "text/html": [
       "<div>\n",
       "<style scoped>\n",
       "    .dataframe tbody tr th:only-of-type {\n",
       "        vertical-align: middle;\n",
       "    }\n",
       "\n",
       "    .dataframe tbody tr th {\n",
       "        vertical-align: top;\n",
       "    }\n",
       "\n",
       "    .dataframe thead th {\n",
       "        text-align: right;\n",
       "    }\n",
       "</style>\n",
       "<table border=\"1\" class=\"dataframe\">\n",
       "  <thead>\n",
       "    <tr style=\"text-align: right;\">\n",
       "      <th></th>\n",
       "      <th>Disciplina</th>\n",
       "      <th>CH</th>\n",
       "      <th>Dia</th>\n",
       "    </tr>\n",
       "  </thead>\n",
       "  <tbody>\n",
       "    <tr>\n",
       "      <th>ALG</th>\n",
       "      <td>Algoritmos</td>\n",
       "      <td>80</td>\n",
       "      <td>Segunda</td>\n",
       "    </tr>\n",
       "    <tr>\n",
       "      <th>POO</th>\n",
       "      <td>P. Orientadas a Objetos</td>\n",
       "      <td>80</td>\n",
       "      <td>Terça</td>\n",
       "    </tr>\n",
       "    <tr>\n",
       "      <th>BD</th>\n",
       "      <td>Banco de dados</td>\n",
       "      <td>40</td>\n",
       "      <td>Quarta</td>\n",
       "    </tr>\n",
       "  </tbody>\n",
       "</table>\n",
       "</div>"
      ],
      "text/plain": [
       "                  Disciplina  CH      Dia\n",
       "ALG               Algoritmos  80  Segunda\n",
       "POO  P. Orientadas a Objetos  80    Terça\n",
       "BD            Banco de dados  40   Quarta"
      ]
     },
     "execution_count": 3,
     "metadata": {},
     "output_type": "execute_result"
    }
   ],
   "source": [
    "colunas = ['Disciplina', 'CH', 'Dia']\n",
    "\n",
    "valores = [\n",
    "    ['Algoritmos', 80, 'Segunda'],\n",
    "    ['P. Orientadas a Objetos', 80, 'Terça'],\n",
    "    ['Banco de dados', 40, 'Quarta']\n",
    "]\n",
    "\n",
    "indices = ['ALG', 'POO', 'BD']\n",
    "\n",
    "dataframe_3 = pd.DataFrame(valores, columns=colunas, index=indices)\n",
    "\n",
    "dataframe_3"
   ]
  },
  {
   "cell_type": "markdown",
   "id": "1d8b3143",
   "metadata": {},
   "source": [
    "# Slicing em DataFrames"
   ]
  },
  {
   "cell_type": "code",
   "execution_count": 7,
   "id": "c1a1dc13",
   "metadata": {},
   "outputs": [
    {
     "name": "stdout",
     "output_type": "stream",
     "text": [
      "ALG                 Algoritmos\n",
      "POO    P. Orientadas a Objetos\n",
      "BD              Banco de dados\n",
      "Name: Disciplina, dtype: object\n"
     ]
    }
   ],
   "source": [
    "#Inserindo o nome de uma coluna, é retornando um DataFrame com \n",
    "#os valores apenas desta coluna\n",
    "print(dataframe_3['Disciplina'])"
   ]
  },
  {
   "cell_type": "code",
   "execution_count": 12,
   "id": "b75a5edd",
   "metadata": {},
   "outputs": [
    {
     "name": "stdout",
     "output_type": "stream",
     "text": [
      "ALG    Segunda\n",
      "POO      Terça\n",
      "BD      Quarta\n",
      "Name: Dia, dtype: object\n"
     ]
    }
   ],
   "source": [
    "print(dataframe_3['Dia'])"
   ]
  },
  {
   "cell_type": "code",
   "execution_count": 15,
   "id": "9ecfe0fb",
   "metadata": {},
   "outputs": [
    {
     "data": {
      "text/html": [
       "<div>\n",
       "<style scoped>\n",
       "    .dataframe tbody tr th:only-of-type {\n",
       "        vertical-align: middle;\n",
       "    }\n",
       "\n",
       "    .dataframe tbody tr th {\n",
       "        vertical-align: top;\n",
       "    }\n",
       "\n",
       "    .dataframe thead th {\n",
       "        text-align: right;\n",
       "    }\n",
       "</style>\n",
       "<table border=\"1\" class=\"dataframe\">\n",
       "  <thead>\n",
       "    <tr style=\"text-align: right;\">\n",
       "      <th></th>\n",
       "      <th>Disciplina</th>\n",
       "      <th>CH</th>\n",
       "      <th>Dia</th>\n",
       "    </tr>\n",
       "  </thead>\n",
       "  <tbody>\n",
       "    <tr>\n",
       "      <th>ALG</th>\n",
       "      <td>Algoritmos</td>\n",
       "      <td>120</td>\n",
       "      <td>Segunda</td>\n",
       "    </tr>\n",
       "    <tr>\n",
       "      <th>POO</th>\n",
       "      <td>P. Orientadas a Objetos</td>\n",
       "      <td>120</td>\n",
       "      <td>Terça</td>\n",
       "    </tr>\n",
       "    <tr>\n",
       "      <th>BD</th>\n",
       "      <td>Banco de dados</td>\n",
       "      <td>80</td>\n",
       "      <td>Quarta</td>\n",
       "    </tr>\n",
       "  </tbody>\n",
       "</table>\n",
       "</div>"
      ],
      "text/plain": [
       "                  Disciplina   CH      Dia\n",
       "ALG               Algoritmos  120  Segunda\n",
       "POO  P. Orientadas a Objetos  120    Terça\n",
       "BD            Banco de dados   80   Quarta"
      ]
     },
     "execution_count": 15,
     "metadata": {},
     "output_type": "execute_result"
    }
   ],
   "source": [
    "#Substituindo todos os valores de uma coluna (neste exemplo: CH)\n",
    "novas_ch = [120, 120, 80]\n",
    "dataframe_3['CH'] = novas_ch\n",
    "\n",
    "dataframe_3"
   ]
  },
  {
   "cell_type": "code",
   "execution_count": 20,
   "id": "b9ffe4b4",
   "metadata": {},
   "outputs": [
    {
     "name": "stdout",
     "output_type": "stream",
     "text": [
      "                  Disciplina   CH      Dia\n",
      "ALG               Algoritmos  120  Segunda\n",
      "POO  P. Orientadas a Objetos  120    Terça\n"
     ]
    }
   ],
   "source": [
    "'''\n",
    "O slicing por padrão funciona por linha. No exemplo a seguir, imprime as\n",
    "duas primeiras linhas.\n",
    "'''\n",
    "print(dataframe_3[0:2])"
   ]
  },
  {
   "cell_type": "code",
   "execution_count": 21,
   "id": "407082f6",
   "metadata": {},
   "outputs": [
    {
     "name": "stdout",
     "output_type": "stream",
     "text": [
      "         Disciplina   CH      Dia\n",
      "ALG      Algoritmos  120  Segunda\n",
      "BD   Banco de dados   80   Quarta\n"
     ]
    }
   ],
   "source": [
    "#Imprime a primeira e a terceira linha\n",
    "print(dataframe_3[0:3:2])"
   ]
  },
  {
   "cell_type": "code",
   "execution_count": 30,
   "id": "a851cddd",
   "metadata": {},
   "outputs": [
    {
     "data": {
      "text/html": [
       "<div>\n",
       "<style scoped>\n",
       "    .dataframe tbody tr th:only-of-type {\n",
       "        vertical-align: middle;\n",
       "    }\n",
       "\n",
       "    .dataframe tbody tr th {\n",
       "        vertical-align: top;\n",
       "    }\n",
       "\n",
       "    .dataframe thead th {\n",
       "        text-align: right;\n",
       "    }\n",
       "</style>\n",
       "<table border=\"1\" class=\"dataframe\">\n",
       "  <thead>\n",
       "    <tr style=\"text-align: right;\">\n",
       "      <th></th>\n",
       "      <th>Disciplina</th>\n",
       "      <th>CH</th>\n",
       "    </tr>\n",
       "  </thead>\n",
       "  <tbody>\n",
       "    <tr>\n",
       "      <th>ALG</th>\n",
       "      <td>Algoritmos</td>\n",
       "      <td>120</td>\n",
       "    </tr>\n",
       "    <tr>\n",
       "      <th>POO</th>\n",
       "      <td>P. Orientadas a Objetos</td>\n",
       "      <td>120</td>\n",
       "    </tr>\n",
       "    <tr>\n",
       "      <th>BD</th>\n",
       "      <td>Banco de dados</td>\n",
       "      <td>80</td>\n",
       "    </tr>\n",
       "  </tbody>\n",
       "</table>\n",
       "</div>"
      ],
      "text/plain": [
       "                  Disciplina   CH\n",
       "ALG               Algoritmos  120\n",
       "POO  P. Orientadas a Objetos  120\n",
       "BD            Banco de dados   80"
      ]
     },
     "execution_count": 30,
     "metadata": {},
     "output_type": "execute_result"
    }
   ],
   "source": [
    "#Slicing por coluna, imprimindo de Disciplina até CH\n",
    "#Precisa usar a propriedade loc\n",
    "dataframe_3.loc[:,'Disciplina':'CH']"
   ]
  },
  {
   "cell_type": "code",
   "execution_count": 31,
   "id": "94dc6ea5",
   "metadata": {},
   "outputs": [
    {
     "data": {
      "text/html": [
       "<div>\n",
       "<style scoped>\n",
       "    .dataframe tbody tr th:only-of-type {\n",
       "        vertical-align: middle;\n",
       "    }\n",
       "\n",
       "    .dataframe tbody tr th {\n",
       "        vertical-align: top;\n",
       "    }\n",
       "\n",
       "    .dataframe thead th {\n",
       "        text-align: right;\n",
       "    }\n",
       "</style>\n",
       "<table border=\"1\" class=\"dataframe\">\n",
       "  <thead>\n",
       "    <tr style=\"text-align: right;\">\n",
       "      <th></th>\n",
       "      <th>Disciplina</th>\n",
       "      <th>CH</th>\n",
       "    </tr>\n",
       "  </thead>\n",
       "  <tbody>\n",
       "    <tr>\n",
       "      <th>ALG</th>\n",
       "      <td>Algoritmos</td>\n",
       "      <td>120</td>\n",
       "    </tr>\n",
       "    <tr>\n",
       "      <th>POO</th>\n",
       "      <td>P. Orientadas a Objetos</td>\n",
       "      <td>120</td>\n",
       "    </tr>\n",
       "    <tr>\n",
       "      <th>BD</th>\n",
       "      <td>Banco de dados</td>\n",
       "      <td>80</td>\n",
       "    </tr>\n",
       "  </tbody>\n",
       "</table>\n",
       "</div>"
      ],
      "text/plain": [
       "                  Disciplina   CH\n",
       "ALG               Algoritmos  120\n",
       "POO  P. Orientadas a Objetos  120\n",
       "BD            Banco de dados   80"
      ]
     },
     "execution_count": 31,
     "metadata": {},
     "output_type": "execute_result"
    }
   ],
   "source": [
    "#Imprime todas as colunas até CH\n",
    "dataframe_3.loc[:,:'CH']"
   ]
  },
  {
   "cell_type": "code",
   "execution_count": 32,
   "id": "e1dd09c4",
   "metadata": {},
   "outputs": [
    {
     "data": {
      "text/html": [
       "<div>\n",
       "<style scoped>\n",
       "    .dataframe tbody tr th:only-of-type {\n",
       "        vertical-align: middle;\n",
       "    }\n",
       "\n",
       "    .dataframe tbody tr th {\n",
       "        vertical-align: top;\n",
       "    }\n",
       "\n",
       "    .dataframe thead th {\n",
       "        text-align: right;\n",
       "    }\n",
       "</style>\n",
       "<table border=\"1\" class=\"dataframe\">\n",
       "  <thead>\n",
       "    <tr style=\"text-align: right;\">\n",
       "      <th></th>\n",
       "      <th>CH</th>\n",
       "      <th>Dia</th>\n",
       "    </tr>\n",
       "  </thead>\n",
       "  <tbody>\n",
       "    <tr>\n",
       "      <th>ALG</th>\n",
       "      <td>120</td>\n",
       "      <td>Segunda</td>\n",
       "    </tr>\n",
       "    <tr>\n",
       "      <th>POO</th>\n",
       "      <td>120</td>\n",
       "      <td>Terça</td>\n",
       "    </tr>\n",
       "    <tr>\n",
       "      <th>BD</th>\n",
       "      <td>80</td>\n",
       "      <td>Quarta</td>\n",
       "    </tr>\n",
       "  </tbody>\n",
       "</table>\n",
       "</div>"
      ],
      "text/plain": [
       "      CH      Dia\n",
       "ALG  120  Segunda\n",
       "POO  120    Terça\n",
       "BD    80   Quarta"
      ]
     },
     "execution_count": 32,
     "metadata": {},
     "output_type": "execute_result"
    }
   ],
   "source": [
    "#Retorna um DataFrame da coluna CH até Dia\n",
    "dataframe_3.loc[:,'CH':'Dia']"
   ]
  },
  {
   "cell_type": "code",
   "execution_count": 34,
   "id": "c475ef25",
   "metadata": {},
   "outputs": [
    {
     "data": {
      "text/html": [
       "<div>\n",
       "<style scoped>\n",
       "    .dataframe tbody tr th:only-of-type {\n",
       "        vertical-align: middle;\n",
       "    }\n",
       "\n",
       "    .dataframe tbody tr th {\n",
       "        vertical-align: top;\n",
       "    }\n",
       "\n",
       "    .dataframe thead th {\n",
       "        text-align: right;\n",
       "    }\n",
       "</style>\n",
       "<table border=\"1\" class=\"dataframe\">\n",
       "  <thead>\n",
       "    <tr style=\"text-align: right;\">\n",
       "      <th></th>\n",
       "      <th>CH</th>\n",
       "      <th>Dia</th>\n",
       "    </tr>\n",
       "  </thead>\n",
       "  <tbody>\n",
       "    <tr>\n",
       "      <th>ALG</th>\n",
       "      <td>120</td>\n",
       "      <td>Segunda</td>\n",
       "    </tr>\n",
       "    <tr>\n",
       "      <th>POO</th>\n",
       "      <td>120</td>\n",
       "      <td>Terça</td>\n",
       "    </tr>\n",
       "    <tr>\n",
       "      <th>BD</th>\n",
       "      <td>80</td>\n",
       "      <td>Quarta</td>\n",
       "    </tr>\n",
       "  </tbody>\n",
       "</table>\n",
       "</div>"
      ],
      "text/plain": [
       "      CH      Dia\n",
       "ALG  120  Segunda\n",
       "POO  120    Terça\n",
       "BD    80   Quarta"
      ]
     },
     "execution_count": 34,
     "metadata": {},
     "output_type": "execute_result"
    }
   ],
   "source": [
    "#a propriedade iloc permite fazer slicing de colunas através de índices\n",
    "dataframe_3.iloc[:,1:3]"
   ]
  },
  {
   "cell_type": "code",
   "execution_count": 35,
   "id": "2ba565a3",
   "metadata": {},
   "outputs": [
    {
     "data": {
      "text/plain": [
       "count      3.000000\n",
       "mean     106.666667\n",
       "std       23.094011\n",
       "min       80.000000\n",
       "25%      100.000000\n",
       "50%      120.000000\n",
       "75%      120.000000\n",
       "max      120.000000\n",
       "Name: CH, dtype: float64"
      ]
     },
     "execution_count": 35,
     "metadata": {},
     "output_type": "execute_result"
    }
   ],
   "source": [
    "dataframe_3['CH'].describe()"
   ]
  },
  {
   "cell_type": "code",
   "execution_count": null,
   "id": "b0df347d",
   "metadata": {},
   "outputs": [],
   "source": []
  }
 ],
 "metadata": {
  "kernelspec": {
   "display_name": "Python 3 (ipykernel)",
   "language": "python",
   "name": "python3"
  },
  "language_info": {
   "codemirror_mode": {
    "name": "ipython",
    "version": 3
   },
   "file_extension": ".py",
   "mimetype": "text/x-python",
   "name": "python",
   "nbconvert_exporter": "python",
   "pygments_lexer": "ipython3",
   "version": "3.10.4"
  }
 },
 "nbformat": 4,
 "nbformat_minor": 5
}
