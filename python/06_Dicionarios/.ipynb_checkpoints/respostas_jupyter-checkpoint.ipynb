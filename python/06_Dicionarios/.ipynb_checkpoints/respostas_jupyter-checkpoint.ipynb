{
 "cells": [
  {
   "cell_type": "markdown",
   "id": "eabb7b93",
   "metadata": {},
   "source": [
    "Desenvolva um algoritmo em Python que salve as notas de três disciplinas em um dicionário (a chave deverá ser o nome da disciplina e o valor a nota)."
   ]
  },
  {
   "cell_type": "code",
   "execution_count": 1,
   "id": "987675b8",
   "metadata": {},
   "outputs": [],
   "source": [
    "#SOLUÇÃO 1\n",
    "notas = {\n",
    "    \"Algoritmos\": 100,\n",
    "    \"PEOO\": 95,\n",
    "    \"Banco de dados\": 100\n",
    "}"
   ]
  },
  {
   "cell_type": "code",
   "execution_count": 2,
   "id": "014a326b",
   "metadata": {},
   "outputs": [],
   "source": [
    "#SOLUÇÃO 2\n",
    "notas = {}\n",
    "notas[\"Algoritmos\"] = 100\n",
    "notas[\"PEOO\"] = 95\n",
    "notas[\"Banco de dados\"] = 100"
   ]
  }
 ],
 "metadata": {
  "kernelspec": {
   "display_name": "Python 3 (ipykernel)",
   "language": "python",
   "name": "python3"
  },
  "language_info": {
   "codemirror_mode": {
    "name": "ipython",
    "version": 3
   },
   "file_extension": ".py",
   "mimetype": "text/x-python",
   "name": "python",
   "nbconvert_exporter": "python",
   "pygments_lexer": "ipython3",
   "version": "3.10.8"
  }
 },
 "nbformat": 4,
 "nbformat_minor": 5
}
