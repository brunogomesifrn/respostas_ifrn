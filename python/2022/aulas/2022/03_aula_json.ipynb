{
 "cells": [
  {
   "cell_type": "markdown",
   "id": "4d330be6",
   "metadata": {},
   "source": [
    "# JSON - JavaScript Object Notation"
   ]
  },
  {
   "cell_type": "code",
   "execution_count": 5,
   "id": "936e0894",
   "metadata": {},
   "outputs": [],
   "source": [
    "#Importando a biblioteca json\n",
    "import json"
   ]
  },
  {
   "cell_type": "code",
   "execution_count": 6,
   "id": "6ee2141f",
   "metadata": {},
   "outputs": [],
   "source": [
    "#Criando o dicionário\n",
    "dados = {\n",
    "    'nome': 'Bruno Gomes',\n",
    "    'matricula': 12345,\n",
    "    'email': 'bruno@email.com'\n",
    "}"
   ]
  },
  {
   "cell_type": "code",
   "execution_count": 7,
   "id": "65fb0b24",
   "metadata": {},
   "outputs": [
    {
     "data": {
      "text/plain": [
       "71"
      ]
     },
     "execution_count": 7,
     "metadata": {},
     "output_type": "execute_result"
    }
   ],
   "source": [
    "arquivo = open('exemplo.json', 'w')\n",
    "arquivo.write(json.dumps(dados))"
   ]
  },
  {
   "cell_type": "code",
   "execution_count": null,
   "id": "0d6bd441",
   "metadata": {},
   "outputs": [],
   "source": []
  }
 ],
 "metadata": {
  "kernelspec": {
   "display_name": "Python 3 (ipykernel)",
   "language": "python",
   "name": "python3"
  },
  "language_info": {
   "codemirror_mode": {
    "name": "ipython",
    "version": 3
   },
   "file_extension": ".py",
   "mimetype": "text/x-python",
   "name": "python",
   "nbconvert_exporter": "python",
   "pygments_lexer": "ipython3",
   "version": "3.10.4"
  }
 },
 "nbformat": 4,
 "nbformat_minor": 5
}
