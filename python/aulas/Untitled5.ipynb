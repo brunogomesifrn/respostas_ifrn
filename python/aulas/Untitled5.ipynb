{
 "cells": [
  {
   "cell_type": "markdown",
   "id": "e924b4ed",
   "metadata": {},
   "source": [
    "# NumPy"
   ]
  },
  {
   "cell_type": "markdown",
   "id": "2d2dbb78",
   "metadata": {},
   "source": [
    "NumPy - Numerical Python\n",
    "Biblioteca para cálculos matemáticos\n",
    "Fornece a base matemática necessária para análise de dados, Aprendizado de Máquina, Estatística, entre outros.\n",
    "Facilita:\n",
    "- A criação de Array e Matrizes\n",
    "- A leitura de datasets\n",
    "- Álgebra linear"
   ]
  },
  {
   "cell_type": "code",
   "execution_count": 1,
   "id": "9dfdf7ce",
   "metadata": {},
   "outputs": [],
   "source": [
    "import numpy as np"
   ]
  },
  {
   "cell_type": "markdown",
   "id": "cbe0c8da",
   "metadata": {},
   "source": [
    "Também é possível importar desta forma:\n",
    "\n",
    "from numpy import *"
   ]
  },
  {
   "cell_type": "markdown",
   "id": "c6cae85a",
   "metadata": {},
   "source": [
    "Lista de Dados Python:\n",
    "- Conjunto de valores de qualquer tipo:\n",
    "Ex: lista = [1, 20, 'Texto', True, 2.3]\n",
    "\n",
    "Array NumPy:\n",
    "- Conjunto de valores de apenas 1 tipo;\n",
    "- São mais eficientes do que lista no que diz respeito o uso de memória do computador;"
   ]
  },
  {
   "cell_type": "code",
   "execution_count": 2,
   "id": "384d892b",
   "metadata": {},
   "outputs": [],
   "source": [
    "array_1 = np.array([1, 2, 3, 4, 5])"
   ]
  },
  {
   "cell_type": "code",
   "execution_count": 3,
   "id": "501128ae",
   "metadata": {},
   "outputs": [
    {
     "name": "stdout",
     "output_type": "stream",
     "text": [
      "<class 'numpy.ndarray'>\n"
     ]
    }
   ],
   "source": [
    "print(type(array_1))"
   ]
  },
  {
   "cell_type": "code",
   "execution_count": 4,
   "id": "5ec9fb06",
   "metadata": {},
   "outputs": [
    {
     "name": "stdout",
     "output_type": "stream",
     "text": [
      "[1 2 3 4 5]\n"
     ]
    }
   ],
   "source": [
    "print(array_1)"
   ]
  },
  {
   "cell_type": "code",
   "execution_count": 5,
   "id": "5de0d74f",
   "metadata": {},
   "outputs": [
    {
     "name": "stdout",
     "output_type": "stream",
     "text": [
      "2\n"
     ]
    }
   ],
   "source": [
    "print(array_1[1])"
   ]
  },
  {
   "cell_type": "code",
   "execution_count": 6,
   "id": "2f9045e6",
   "metadata": {},
   "outputs": [
    {
     "name": "stdout",
     "output_type": "stream",
     "text": [
      "5\n"
     ]
    }
   ],
   "source": [
    "print(array_1.size)"
   ]
  },
  {
   "cell_type": "markdown",
   "id": "9e5cfa82",
   "metadata": {},
   "source": [
    "# Propriedades/Atributos do NumPy"
   ]
  },
  {
   "cell_type": "code",
   "execution_count": 7,
   "id": "ab560c88",
   "metadata": {},
   "outputs": [
    {
     "name": "stdout",
     "output_type": "stream",
     "text": [
      "(5,)\n"
     ]
    }
   ],
   "source": [
    "#shape retorna a dimensão/formato do array\n",
    "print(array_1.shape)"
   ]
  },
  {
   "cell_type": "code",
   "execution_count": 8,
   "id": "4465250d",
   "metadata": {},
   "outputs": [
    {
     "name": "stdout",
     "output_type": "stream",
     "text": [
      "int32\n"
     ]
    }
   ],
   "source": [
    "#Retorna o tipo dos dados armazenados\n",
    "print(array_1.dtype)"
   ]
  },
  {
   "cell_type": "code",
   "execution_count": 9,
   "id": "3a01906d",
   "metadata": {},
   "outputs": [
    {
     "name": "stdout",
     "output_type": "stream",
     "text": [
      "4\n"
     ]
    }
   ],
   "source": [
    "#Retorna o tamanho de cada elemento (quanto ocupa na memória)\n",
    "print(array_1.itemsize)"
   ]
  },
  {
   "cell_type": "code",
   "execution_count": 10,
   "id": "bd30fad6",
   "metadata": {},
   "outputs": [
    {
     "name": "stdout",
     "output_type": "stream",
     "text": [
      "20\n"
     ]
    }
   ],
   "source": [
    "#Retorna o tamanho de todos os elementos do array (4x5 = 20)\n",
    "print(array_1.nbytes)"
   ]
  },
  {
   "cell_type": "markdown",
   "id": "c3cd1a26",
   "metadata": {},
   "source": [
    "#  Tipos de Arrays"
   ]
  },
  {
   "cell_type": "code",
   "execution_count": 11,
   "id": "e0c33fcd",
   "metadata": {},
   "outputs": [
    {
     "name": "stdout",
     "output_type": "stream",
     "text": [
      "[1 2 3 4 5]\n"
     ]
    }
   ],
   "source": [
    "#Array de Inteiros\n",
    "array_inteiros = np.array([1, 2, 3, 4, 5])\n",
    "print(array_inteiros)"
   ]
  },
  {
   "cell_type": "code",
   "execution_count": 12,
   "id": "f41c07fe",
   "metadata": {},
   "outputs": [
    {
     "name": "stdout",
     "output_type": "stream",
     "text": [
      "[ 2.5  1.   5.2 10.2]\n"
     ]
    }
   ],
   "source": [
    "#Array de Números Reais\n",
    "array_reais = np.array([2.5, 1.0, 5.2, 10.2])\n",
    "print(array_reais)"
   ]
  },
  {
   "cell_type": "code",
   "execution_count": 13,
   "id": "8c25bfea",
   "metadata": {},
   "outputs": [
    {
     "name": "stdout",
     "output_type": "stream",
     "text": [
      "['Python' 'Javascript' 'Java']\n"
     ]
    }
   ],
   "source": [
    "#Array de Strings\n",
    "array_strings = np.array(['Python', 'Javascript', 'Java'])\n",
    "print(array_strings)"
   ]
  },
  {
   "cell_type": "code",
   "execution_count": 14,
   "id": "75d516af",
   "metadata": {},
   "outputs": [
    {
     "name": "stdout",
     "output_type": "stream",
     "text": [
      "[ True  True False]\n"
     ]
    }
   ],
   "source": [
    "#Array de valores Booleanos\n",
    "array_booleanos = np.array([True, True, False])\n",
    "print(array_booleanos)"
   ]
  },
  {
   "cell_type": "code",
   "execution_count": 17,
   "id": "3049e347",
   "metadata": {},
   "outputs": [
    {
     "name": "stdout",
     "output_type": "stream",
     "text": [
      "float32\n",
      "[ 5.  2.  1. 67.  1.]\n"
     ]
    }
   ],
   "source": [
    "array_reais_forcado = np.array([5, 2, 1, 67, 1], dtype=np.float32)\n",
    "print(array_reais_forcado.dtype)\n",
    "print(array_reais_forcado)"
   ]
  },
  {
   "cell_type": "markdown",
   "id": "7bdfba49",
   "metadata": {},
   "source": [
    "# Matriz"
   ]
  },
  {
   "cell_type": "code",
   "execution_count": 3,
   "id": "b78abf43",
   "metadata": {},
   "outputs": [
    {
     "name": "stdout",
     "output_type": "stream",
     "text": [
      "[[1 2]\n",
      " [3 4]\n",
      " [4 5]\n",
      " [5 6]]\n"
     ]
    }
   ],
   "source": [
    "matriz_1 = np.array([[1, 2], [3, 4], [4, 5], [5, 6]])\n",
    "print(matriz_1)"
   ]
  },
  {
   "cell_type": "code",
   "execution_count": 5,
   "id": "ef4d4493",
   "metadata": {},
   "outputs": [
    {
     "name": "stdout",
     "output_type": "stream",
     "text": [
      "(4, 2)\n"
     ]
    }
   ],
   "source": [
    "#A dimensão desta matriz é 4 (linhas) por 2 (colunas)\n",
    "print(matriz_1.shape)"
   ]
  },
  {
   "cell_type": "code",
   "execution_count": 10,
   "id": "2c6b9fe2",
   "metadata": {},
   "outputs": [
    {
     "name": "stdout",
     "output_type": "stream",
     "text": [
      "5\n",
      "4\n"
     ]
    }
   ],
   "source": [
    "#Para imprimir, basta informar a \"linha\" e \"coluna\" entre colchetes\n",
    "print(matriz_1[2][1])\n",
    "#Outra forma de Imprimir\n",
    "print(matriz_1[2,0])"
   ]
  },
  {
   "cell_type": "code",
   "execution_count": 13,
   "id": "045920c0",
   "metadata": {},
   "outputs": [
    {
     "name": "stdout",
     "output_type": "stream",
     "text": [
      "10\n",
      "15\n",
      "[[ 1  2]\n",
      " [ 3  4]\n",
      " [15 10]\n",
      " [ 5  6]]\n"
     ]
    }
   ],
   "source": [
    "#Para substituir também utiliza colchetes\n",
    "matriz_1[2][1] = 10\n",
    "print(matriz_1[2][1])\n",
    "\n",
    "#Outra forma\n",
    "matriz_1[2,0] = 15\n",
    "print(matriz_1[2,0])\n",
    "\n",
    "#Matriz completa com os dados substituídos\n",
    "print(matriz_1)"
   ]
  },
  {
   "cell_type": "markdown",
   "id": "de66c2ee",
   "metadata": {},
   "source": [
    "# Funções para Array"
   ]
  },
  {
   "cell_type": "code",
   "execution_count": 14,
   "id": "b1b291ec",
   "metadata": {},
   "outputs": [
    {
     "name": "stdout",
     "output_type": "stream",
     "text": [
      "[ 2  5  6 11 21]\n"
     ]
    }
   ],
   "source": [
    "#cumsum - retorna uma matriz com a soma acumulada dos valores\n",
    "array_2 = np.array([2, 3, 1, 5, 10])\n",
    "print(array_2.cumsum())"
   ]
  },
  {
   "cell_type": "code",
   "execution_count": 16,
   "id": "ab61fd07",
   "metadata": {},
   "outputs": [
    {
     "name": "stdout",
     "output_type": "stream",
     "text": [
      "[0 1 2 3 4]\n",
      "[2 4 6 8]\n"
     ]
    }
   ],
   "source": [
    "#arange - Cria uma matriz seguindo a lógica do range nativo do python\n",
    "array_3 = np.arange(5)\n",
    "print(array_3)\n",
    "\n",
    "array_4 = np.arange(2, 10, 2)\n",
    "print(array_4)"
   ]
  },
  {
   "cell_type": "code",
   "execution_count": 19,
   "id": "cec26374",
   "metadata": {},
   "outputs": [
    {
     "name": "stdout",
     "output_type": "stream",
     "text": [
      "[ 1.  4.  7. 10.]\n"
     ]
    }
   ],
   "source": [
    "#linspace\n",
    "#Cria um array com elementos espaçados igualmente \n",
    "#entre um valor inicial e final\n",
    "# linspace(inicio, fim, quantidade de elementos entre eles)\n",
    "array_5 = np.linspace(1, 10, 4)\n",
    "print(array_5)"
   ]
  },
  {
   "cell_type": "code",
   "execution_count": 20,
   "id": "d3665995",
   "metadata": {},
   "outputs": [
    {
     "name": "stdout",
     "output_type": "stream",
     "text": [
      "[0. 0. 0. 0. 0. 0. 0. 0. 0. 0. 0. 0. 0. 0. 0.]\n"
     ]
    }
   ],
   "source": [
    "#zeros - Cria um array somente com elementos 0\n",
    "array_6 = np.zeros(15)\n",
    "print(array_6)"
   ]
  },
  {
   "cell_type": "code",
   "execution_count": 14,
   "id": "736baa1a",
   "metadata": {},
   "outputs": [
    {
     "name": "stdout",
     "output_type": "stream",
     "text": [
      "False\n"
     ]
    }
   ],
   "source": [
    "#array_equal\n",
    "#Compara se 2 arrays são iguais (true ou false)\n",
    "array_7 = np.array([1,2,3,4])\n",
    "array_8 = np.array([5,6,7,8])\n",
    "print(np.array_equal(array_7, array_8))"
   ]
  },
  {
   "cell_type": "code",
   "execution_count": 16,
   "id": "8325cec0",
   "metadata": {},
   "outputs": [
    {
     "name": "stdout",
     "output_type": "stream",
     "text": [
      "True\n"
     ]
    }
   ],
   "source": [
    "array_9 = np.array([1,2,3,4])\n",
    "array_10 = np.array([1,2,3,4])\n",
    "print(np.array_equal(array_9, array_10))"
   ]
  },
  {
   "cell_type": "code",
   "execution_count": 17,
   "id": "30b68fee",
   "metadata": {},
   "outputs": [
    {
     "name": "stdout",
     "output_type": "stream",
     "text": [
      "1\n"
     ]
    }
   ],
   "source": [
    "#min\n",
    "#Retorna o menor valor (mínimo)\n",
    "print(array_10.min())"
   ]
  },
  {
   "cell_type": "code",
   "execution_count": 18,
   "id": "e36cbb4c",
   "metadata": {},
   "outputs": [
    {
     "name": "stdout",
     "output_type": "stream",
     "text": [
      "4\n"
     ]
    }
   ],
   "source": [
    "#max\n",
    "#Retorna o maior valor (máximo)\n",
    "print(array_10.max())"
   ]
  },
  {
   "cell_type": "code",
   "execution_count": 22,
   "id": "99ec18d5",
   "metadata": {},
   "outputs": [
    {
     "name": "stdout",
     "output_type": "stream",
     "text": [
      "[1 2 3 4]\n",
      "[1 1 1 2 2 2 3 3 3 4 4 4]\n"
     ]
    }
   ],
   "source": [
    "#repeat\n",
    "#Cria um novo array com os elementos repetidos\n",
    "#Repete por número\n",
    "print(array_10)\n",
    "print(np.repeat(array_10, 3))"
   ]
  },
  {
   "cell_type": "code",
   "execution_count": 23,
   "id": "7b0b7957",
   "metadata": {},
   "outputs": [
    {
     "name": "stdout",
     "output_type": "stream",
     "text": [
      "[1 2 3 4]\n",
      "[1 2 3 4 1 2 3 4 1 2 3 4]\n"
     ]
    }
   ],
   "source": [
    "#tile\n",
    "#Repete os elementos de um array\n",
    "#repete os elementos na ordem original do array\n",
    "print(array_10)\n",
    "print(np.tile(array_10,3))"
   ]
  },
  {
   "cell_type": "code",
   "execution_count": 30,
   "id": "80a7ca2f",
   "metadata": {},
   "outputs": [
    {
     "name": "stdout",
     "output_type": "stream",
     "text": [
      "[1 2 3 4 5 6 7 8]\n"
     ]
    }
   ],
   "source": [
    "#concatenate\n",
    "#junta 2 arrays e gera um com todos os elementos\n",
    "print(np.concatenate((array_7, array_8), axis=0))"
   ]
  },
  {
   "cell_type": "markdown",
   "id": "7edf64ef",
   "metadata": {},
   "source": [
    "# Funções para Matriz"
   ]
  },
  {
   "cell_type": "code",
   "execution_count": 2,
   "id": "6df261f5",
   "metadata": {},
   "outputs": [
    {
     "name": "stdout",
     "output_type": "stream",
     "text": [
      "[[1. 0. 0.]\n",
      " [0. 1. 0.]\n",
      " [0. 0. 1.]]\n"
     ]
    }
   ],
   "source": [
    "#eye - Cria uma matriz quadrada, todos os elementos são zero com \n",
    "#exceção dos elementos que foram a diagonal principal, estes \n",
    "# recebem o valor 1\n",
    "matriz_2 = np.eye(3)\n",
    "print(matriz_2)"
   ]
  },
  {
   "cell_type": "code",
   "execution_count": 4,
   "id": "af7ec45f",
   "metadata": {},
   "outputs": [
    {
     "name": "stdout",
     "output_type": "stream",
     "text": [
      "[[2 0 0 0]\n",
      " [0 4 0 0]\n",
      " [0 0 1 0]\n",
      " [0 0 0 0]]\n"
     ]
    }
   ],
   "source": [
    "#diag\n",
    "#define os elementos que ficarão na diagonal principal da matriz\n",
    "matriz_3 = np.diag(np.array([2,4,1,0]))\n",
    "print(matriz_3)"
   ]
  },
  {
   "cell_type": "code",
   "execution_count": 6,
   "id": "e88a4d91",
   "metadata": {},
   "outputs": [
    {
     "name": "stdout",
     "output_type": "stream",
     "text": [
      "[[1. 1. 1. 1.]\n",
      " [1. 1. 1. 1.]\n",
      " [1. 1. 1. 1.]]\n"
     ]
    }
   ],
   "source": [
    "#ones\n",
    "#Cria uma matriz com todos os valores sendo 1\n",
    "matriz_4 = np.ones((3,4))\n",
    "print(matriz_4)"
   ]
  },
  {
   "cell_type": "code",
   "execution_count": 7,
   "id": "07ba6701",
   "metadata": {
    "scrolled": true
   },
   "outputs": [
    {
     "name": "stdout",
     "output_type": "stream",
     "text": [
      "[[1 2 3]\n",
      " [4 5 6]\n",
      " [7 8 9]]\n"
     ]
    }
   ],
   "source": [
    "#matrix\n",
    "#converte lista bidimensional em matriz numpy\n",
    "lista_bidimensional = [[1,2,3],[4,5,6],[7,8,9]]\n",
    "matriz_5 = np.matrix(lista_bidimensional)\n",
    "print(matriz_5)"
   ]
  },
  {
   "cell_type": "code",
   "execution_count": 13,
   "id": "5afe8ecd",
   "metadata": {},
   "outputs": [
    {
     "name": "stdout",
     "output_type": "stream",
     "text": [
      "[[1 2 3 4 5 6 7 8 9]]\n"
     ]
    }
   ],
   "source": [
    "#flatten\n",
    "#Transforma a matriz principal em uma nova em que todos os \n",
    "#elementos ficarão na primeira linha.\n",
    "array_7 = matriz_5.flatten()\n",
    "print(array_7)"
   ]
  },
  {
   "cell_type": "markdown",
   "id": "722ba58b",
   "metadata": {},
   "source": [
    "# Propriedades para Matriz"
   ]
  },
  {
   "cell_type": "code",
   "execution_count": 8,
   "id": "d33d8526",
   "metadata": {},
   "outputs": [
    {
     "name": "stdout",
     "output_type": "stream",
     "text": [
      "(3, 3)\n"
     ]
    }
   ],
   "source": [
    "#shape\n",
    "#imprime quantas linhas e colunas a matriz possui\n",
    "print(matriz_5.shape)"
   ]
  },
  {
   "cell_type": "code",
   "execution_count": 9,
   "id": "3eb5c340",
   "metadata": {},
   "outputs": [
    {
     "name": "stdout",
     "output_type": "stream",
     "text": [
      "2\n"
     ]
    }
   ],
   "source": [
    "#ndim\n",
    "#Retorna a dimensão da matriz\n",
    "#No exemplo a seguir, possui 2 dimensões (linha x coluna)\n",
    "print(matriz_5.ndim)"
   ]
  },
  {
   "cell_type": "code",
   "execution_count": 10,
   "id": "bcbc68e0",
   "metadata": {},
   "outputs": [
    {
     "name": "stdout",
     "output_type": "stream",
     "text": [
      "9\n"
     ]
    }
   ],
   "source": [
    "#size\n",
    "#Retorna quantos elementos possui a matriz\n",
    "print(matriz_5.size)"
   ]
  },
  {
   "cell_type": "code",
   "execution_count": null,
   "id": "6f8cb26d",
   "metadata": {},
   "outputs": [],
   "source": []
  }
 ],
 "metadata": {
  "kernelspec": {
   "display_name": "Python 3 (ipykernel)",
   "language": "python",
   "name": "python3"
  },
  "language_info": {
   "codemirror_mode": {
    "name": "ipython",
    "version": 3
   },
   "file_extension": ".py",
   "mimetype": "text/x-python",
   "name": "python",
   "nbconvert_exporter": "python",
   "pygments_lexer": "ipython3",
   "version": "3.10.4"
  }
 },
 "nbformat": 4,
 "nbformat_minor": 5
}
