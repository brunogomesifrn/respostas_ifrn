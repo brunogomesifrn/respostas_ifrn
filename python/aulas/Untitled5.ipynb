{
 "cells": [
  {
   "cell_type": "markdown",
   "id": "e924b4ed",
   "metadata": {},
   "source": [
    "# NumPy"
   ]
  },
  {
   "cell_type": "markdown",
   "id": "2d2dbb78",
   "metadata": {},
   "source": [
    "NumPy - Numerical Python\n",
    "Biblioteca para cálculos matemáticos\n",
    "Fornece a base matemática necessária para análise de dados, Aprendizado de Máquina, Estatística, entre outros.\n",
    "Facilita:\n",
    "- A criação de Array e Matrizes\n",
    "- A leitura de datasets\n",
    "- Álgebra linear"
   ]
  },
  {
   "cell_type": "code",
   "execution_count": 1,
   "id": "9dfdf7ce",
   "metadata": {},
   "outputs": [],
   "source": [
    "import numpy as np"
   ]
  },
  {
   "cell_type": "markdown",
   "id": "cbe0c8da",
   "metadata": {},
   "source": [
    "Também é possível importar desta forma:\n",
    "\n",
    "from numpy import *"
   ]
  },
  {
   "cell_type": "markdown",
   "id": "c6cae85a",
   "metadata": {},
   "source": [
    "Lista de Dados Python:\n",
    "- Conjunto de valores de qualquer tipo:\n",
    "Ex: lista = [1, 20, 'Texto', True, 2.3]\n",
    "\n",
    "Array NumPy:\n",
    "- Conjunto de valores de apenas 1 tipo;\n",
    "- São mais eficientes do que lista no que diz respeito o uso de memória do computador;"
   ]
  },
  {
   "cell_type": "code",
   "execution_count": 2,
   "id": "384d892b",
   "metadata": {},
   "outputs": [],
   "source": [
    "array_1 = np.array([1, 2, 3, 4, 5])"
   ]
  },
  {
   "cell_type": "code",
   "execution_count": 3,
   "id": "501128ae",
   "metadata": {},
   "outputs": [
    {
     "name": "stdout",
     "output_type": "stream",
     "text": [
      "<class 'numpy.ndarray'>\n"
     ]
    }
   ],
   "source": [
    "print(type(array_1))"
   ]
  },
  {
   "cell_type": "code",
   "execution_count": 4,
   "id": "5ec9fb06",
   "metadata": {},
   "outputs": [
    {
     "name": "stdout",
     "output_type": "stream",
     "text": [
      "[1 2 3 4 5]\n"
     ]
    }
   ],
   "source": [
    "print(array_1)"
   ]
  },
  {
   "cell_type": "code",
   "execution_count": 5,
   "id": "5de0d74f",
   "metadata": {},
   "outputs": [
    {
     "name": "stdout",
     "output_type": "stream",
     "text": [
      "2\n"
     ]
    }
   ],
   "source": [
    "print(array_1[1])"
   ]
  },
  {
   "cell_type": "code",
   "execution_count": 6,
   "id": "2f9045e6",
   "metadata": {},
   "outputs": [
    {
     "name": "stdout",
     "output_type": "stream",
     "text": [
      "5\n"
     ]
    }
   ],
   "source": [
    "print(array_1.size)"
   ]
  },
  {
   "cell_type": "markdown",
   "id": "9e5cfa82",
   "metadata": {},
   "source": [
    "# Propriedades/Atributos do NumPy"
   ]
  },
  {
   "cell_type": "code",
   "execution_count": 7,
   "id": "ab560c88",
   "metadata": {},
   "outputs": [
    {
     "name": "stdout",
     "output_type": "stream",
     "text": [
      "(5,)\n"
     ]
    }
   ],
   "source": [
    "#shape retorna a dimensão/formato do array\n",
    "print(array_1.shape)"
   ]
  },
  {
   "cell_type": "code",
   "execution_count": 8,
   "id": "4465250d",
   "metadata": {},
   "outputs": [
    {
     "name": "stdout",
     "output_type": "stream",
     "text": [
      "int32\n"
     ]
    }
   ],
   "source": [
    "#Retorna o tipo dos dados armazenados\n",
    "print(array_1.dtype)"
   ]
  },
  {
   "cell_type": "code",
   "execution_count": 9,
   "id": "3a01906d",
   "metadata": {},
   "outputs": [
    {
     "name": "stdout",
     "output_type": "stream",
     "text": [
      "4\n"
     ]
    }
   ],
   "source": [
    "#Retorna o tamanho de cada elemento (quanto ocupa na memória)\n",
    "print(array_1.itemsize)"
   ]
  },
  {
   "cell_type": "code",
   "execution_count": 10,
   "id": "bd30fad6",
   "metadata": {},
   "outputs": [
    {
     "name": "stdout",
     "output_type": "stream",
     "text": [
      "20\n"
     ]
    }
   ],
   "source": [
    "#Retorna o tamanho de todos os elementos do array (4x5 = 20)\n",
    "print(array_1.nbytes)"
   ]
  },
  {
   "cell_type": "markdown",
   "id": "c3cd1a26",
   "metadata": {},
   "source": [
    "#  Tipos de Arrays"
   ]
  },
  {
   "cell_type": "code",
   "execution_count": 11,
   "id": "e0c33fcd",
   "metadata": {},
   "outputs": [
    {
     "name": "stdout",
     "output_type": "stream",
     "text": [
      "[1 2 3 4 5]\n"
     ]
    }
   ],
   "source": [
    "#Array de Inteiros\n",
    "array_inteiros = np.array([1, 2, 3, 4, 5])\n",
    "print(array_inteiros)"
   ]
  },
  {
   "cell_type": "code",
   "execution_count": 12,
   "id": "f41c07fe",
   "metadata": {},
   "outputs": [
    {
     "name": "stdout",
     "output_type": "stream",
     "text": [
      "[ 2.5  1.   5.2 10.2]\n"
     ]
    }
   ],
   "source": [
    "#Array de Números Reais\n",
    "array_reais = np.array([2.5, 1.0, 5.2, 10.2])\n",
    "print(array_reais)"
   ]
  },
  {
   "cell_type": "code",
   "execution_count": 13,
   "id": "8c25bfea",
   "metadata": {},
   "outputs": [
    {
     "name": "stdout",
     "output_type": "stream",
     "text": [
      "['Python' 'Javascript' 'Java']\n"
     ]
    }
   ],
   "source": [
    "#Array de Strings\n",
    "array_strings = np.array(['Python', 'Javascript', 'Java'])\n",
    "print(array_strings)"
   ]
  },
  {
   "cell_type": "code",
   "execution_count": 14,
   "id": "75d516af",
   "metadata": {},
   "outputs": [
    {
     "name": "stdout",
     "output_type": "stream",
     "text": [
      "[ True  True False]\n"
     ]
    }
   ],
   "source": [
    "#Array de valores Booleanos\n",
    "array_booleanos = np.array([True, True, False])\n",
    "print(array_booleanos)"
   ]
  },
  {
   "cell_type": "code",
   "execution_count": 17,
   "id": "3049e347",
   "metadata": {},
   "outputs": [
    {
     "name": "stdout",
     "output_type": "stream",
     "text": [
      "float32\n",
      "[ 5.  2.  1. 67.  1.]\n"
     ]
    }
   ],
   "source": [
    "array_reais_forcado = np.array([5, 2, 1, 67, 1], dtype=np.float32)\n",
    "print(array_reais_forcado.dtype)\n",
    "print(array_reais_forcado)"
   ]
  },
  {
   "cell_type": "code",
   "execution_count": null,
   "id": "f1a42fcd",
   "metadata": {},
   "outputs": [],
   "source": []
  }
 ],
 "metadata": {
  "kernelspec": {
   "display_name": "Python 3 (ipykernel)",
   "language": "python",
   "name": "python3"
  },
  "language_info": {
   "codemirror_mode": {
    "name": "ipython",
    "version": 3
   },
   "file_extension": ".py",
   "mimetype": "text/x-python",
   "name": "python",
   "nbconvert_exporter": "python",
   "pygments_lexer": "ipython3",
   "version": "3.10.4"
  }
 },
 "nbformat": 4,
 "nbformat_minor": 5
}
