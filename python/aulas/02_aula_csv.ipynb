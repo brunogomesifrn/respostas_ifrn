{
 "cells": [
  {
   "cell_type": "markdown",
   "id": "da0bfc6b",
   "metadata": {},
   "source": [
    "# Trabalhando com csv"
   ]
  },
  {
   "cell_type": "code",
   "execution_count": 8,
   "id": "cb24f57a",
   "metadata": {},
   "outputs": [],
   "source": [
    "# Importando a biblioteca csv do Python\n",
    "import csv"
   ]
  },
  {
   "cell_type": "code",
   "execution_count": 7,
   "id": "12a819e8",
   "metadata": {},
   "outputs": [
    {
     "data": {
      "text/plain": [
       "10"
      ]
     },
     "execution_count": 7,
     "metadata": {},
     "output_type": "execute_result"
    }
   ],
   "source": [
    "#Criando um arquivo csv\n",
    "arquivo = open('planilha.csv', 'w', newline='')\n",
    "arquivo_csv = csv.writer(arquivo)\n",
    "arquivo_csv.writerow(('Primeira', 'Segunda', 'Terceira'))\n",
    "arquivo_csv.writerow((50,35,22))\n",
    "arquivo_csv.writerow((22,12,43))\n",
    "arquivo.close()"
   ]
  },
  {
   "cell_type": "code",
   "execution_count": 9,
   "id": "43bf7bd1",
   "metadata": {},
   "outputs": [],
   "source": [
    "#Criando um arquivo csv (OUTRA FORMA)\n",
    "with open('planilha.csv', 'w', newline='') as arquivo:\n",
    "    arquivo_csv = csv.writer(arquivo)\n",
    "    arquivo_csv.writerow(('Primeira', 'Segunda', 'Terceira'))\n",
    "    arquivo_csv.writerow((50,35,22))\n",
    "    arquivo_csv.writerow((22,12,43))"
   ]
  },
  {
   "cell_type": "code",
   "execution_count": 16,
   "id": "4bf4a220",
   "metadata": {},
   "outputs": [
    {
     "name": "stdout",
     "output_type": "stream",
     "text": [
      "['Primeira', 'Segunda', 'Terceira']\n",
      "['50', '35', '22']\n",
      "['22', '12', '43']\n"
     ]
    }
   ],
   "source": [
    "#Leitura de Arquivo CSV\n",
    "with open('planilha.csv', 'r') as arquivo:\n",
    "    leitura = csv.reader(arquivo)\n",
    "    \n",
    "    # É possível utilizar o objeto leitura no for\n",
    "    # leitura é um objeto iterável\n",
    "    for linha in leitura:\n",
    "        print(linha)\n",
    "    \n",
    "    #Converte para lista de dados\n",
    "    lista = list(leitura)\n",
    "    \n",
    "    "
   ]
  },
  {
   "cell_type": "code",
   "execution_count": 18,
   "id": "1c63eb27",
   "metadata": {},
   "outputs": [
    {
     "name": "stdout",
     "output_type": "stream",
     "text": [
      "['Primeira', 'Segunda', 'Terceira']\n",
      "['50', '35', '22']\n",
      "['22', '12', '43']\n"
     ]
    }
   ],
   "source": [
    "#Forma tradicional para ler\n",
    "arquivo = open('planilha.csv', 'r')\n",
    "leitura = csv.reader(arquivo)\n",
    "\n",
    "for linha in leitura:\n",
    "    print(linha)\n",
    "    \n",
    "lista = list(leitura)\n",
    "arquivo.close()"
   ]
  },
  {
   "cell_type": "code",
   "execution_count": null,
   "id": "21c2fe8f",
   "metadata": {},
   "outputs": [],
   "source": []
  }
 ],
 "metadata": {
  "kernelspec": {
   "display_name": "Python 3 (ipykernel)",
   "language": "python",
   "name": "python3"
  },
  "language_info": {
   "codemirror_mode": {
    "name": "ipython",
    "version": 3
   },
   "file_extension": ".py",
   "mimetype": "text/x-python",
   "name": "python",
   "nbconvert_exporter": "python",
   "pygments_lexer": "ipython3",
   "version": "3.10.4"
  }
 },
 "nbformat": 4,
 "nbformat_minor": 5
}
