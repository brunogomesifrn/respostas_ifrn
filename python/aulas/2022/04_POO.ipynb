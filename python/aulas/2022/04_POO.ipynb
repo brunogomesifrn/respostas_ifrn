{
 "cells": [
  {
   "cell_type": "markdown",
   "id": "b972f9cd",
   "metadata": {},
   "source": [
    "Principal conceito da POO: - Objetos\n",
    "\n",
    "Para criar (instanciar) um objeto, é preciso uma Classe\n",
    "\n",
    "A Classe é onde serão definidas/modeladas as características e\n",
    "ações que um objeto poderá assumir"
   ]
  },
  {
   "cell_type": "code",
   "execution_count": 2,
   "id": "abe09fee",
   "metadata": {},
   "outputs": [],
   "source": [
    "#Criando uma Classe\n",
    "class Nome:\n",
    "    pass\n",
    "\n",
    "'''\n",
    "A palavra reservada pass \n",
    "serve para indicar que a classe é vazia\n",
    "''' "
   ]
  },
  {
   "cell_type": "markdown",
   "id": "bd879e22",
   "metadata": {},
   "source": [
    "CARACTERÍSTICAS = variáveis\n",
    "AÇÕES = funções\n",
    "\n",
    "Para definir as variáveis, é preciso utilizar o construtor\n",
    "\n",
    "CONSTRUTOR - função especial que é acessada no momento da criação do objeto (instanciação). Ela é acessada apenas 1 vez (somente na criação)."
   ]
  },
  {
   "cell_type": "code",
   "execution_count": null,
   "id": "de2f0a3f",
   "metadata": {},
   "outputs": [],
   "source": [
    "class Lampada:\n",
    "    \n",
    "    def __init__(self):\n",
    "        self.codigo = 123\n",
    "        self.tipo = 'Fluorescente'\n",
    "        self.estado = 'Apagada'\n",
    "        \n",
    "'''\n",
    "__init__ é a função especial que representa \n",
    "o construtor da classe\n",
    "\n",
    "self é um parâmetro obrigatório quando é preciso definir\n",
    "que uma variável é da classe (variável de instância); Ela\n",
    "pode receber qualquer nome, mas a documentação python usa\n",
    "self.\n",
    "\n",
    "\n",
    "def __init__(self): Significa que é um construtor vazio\n",
    "\n",
    "Construtor vazio: não recebe parâmetros (apenas o obrigatório)\n",
    "'''"
   ]
  },
  {
   "cell_type": "code",
   "execution_count": null,
   "id": "561d3ca2",
   "metadata": {},
   "outputs": [],
   "source": [
    "class Lampada:\n",
    "    \n",
    "    def __init__(self, codigo, tipo, estado):\n",
    "        self.codigo = codigo\n",
    "        self.tipo  = tipo\n",
    "        self.estado = estado"
   ]
  },
  {
   "cell_type": "code",
   "execution_count": 1,
   "id": "1da53ab2",
   "metadata": {},
   "outputs": [],
   "source": [
    "'''\n",
    "Python não permite 2 construtores em uma mesma\n",
    "Classe. O que vai prevalecer será o que foi\n",
    "definido por último. No exemplo a seguir\n",
    "será considerado apenas o construtor vazio.\n",
    "'''\n",
    "\n",
    "class Lampada:\n",
    "    \n",
    "    def __init__(self, codigo, tipo, estado):\n",
    "        self.codigo = codigo\n",
    "        self.tipo  = tipo\n",
    "        self.estado = estado\n",
    "    \n",
    "    def __init__(self):\n",
    "        self.codigo = 123\n",
    "        self.tipo = 'Fluorescente'\n",
    "        self.estado = 'Apagada'"
   ]
  },
  {
   "cell_type": "code",
   "execution_count": 2,
   "id": "401178b3",
   "metadata": {},
   "outputs": [],
   "source": [
    "#Classe Lampada com construtor parametrizado\n",
    "class Lampada:\n",
    "    \n",
    "    def __init__(self, codigo, tipo, estado):\n",
    "        self.codigo = codigo\n",
    "        self.tipo  = tipo\n",
    "        self.estado = estado"
   ]
  },
  {
   "cell_type": "code",
   "execution_count": 3,
   "id": "cc03cbe8",
   "metadata": {},
   "outputs": [],
   "source": [
    "#Instanciar um objeto a partir da classe Lampada\n",
    "lampada = Lampada(1, 'Fluorescente', 'Apagada')"
   ]
  },
  {
   "cell_type": "code",
   "execution_count": 4,
   "id": "6c6c1514",
   "metadata": {},
   "outputs": [],
   "source": [
    "#Classe Lampada com construtor vazio\n",
    "class Lampada:\n",
    "    \n",
    "    def __init__(self):\n",
    "        self.codigo = 123\n",
    "        self.tipo = 'Fluorescente'\n",
    "        self.estado = 'Apagada'"
   ]
  },
  {
   "cell_type": "code",
   "execution_count": 5,
   "id": "7ed1a5e7",
   "metadata": {},
   "outputs": [],
   "source": [
    "#Instanciando um objeto a partir de um construtor vazio\n",
    "lampada = Lampada()"
   ]
  },
  {
   "cell_type": "code",
   "execution_count": 6,
   "id": "3671aafe",
   "metadata": {},
   "outputs": [],
   "source": [
    "#Definindo funções (ações)\n",
    "class Lampada:\n",
    "    \n",
    "    def __init__(self, codigo, tipo, estado):\n",
    "        self.codigo = codigo\n",
    "        self.tipo  = tipo\n",
    "        self.estado = estado\n",
    "    \n",
    "    def acender(self):\n",
    "        self.estado = 'Acesa'\n",
    "    \n",
    "    def apagar(self):\n",
    "        self.estado = 'Apagada'"
   ]
  },
  {
   "cell_type": "code",
   "execution_count": 12,
   "id": "ddeebc26",
   "metadata": {},
   "outputs": [
    {
     "name": "stdout",
     "output_type": "stream",
     "text": [
      "Apagada\n",
      "Acesa\n",
      "Apagada\n",
      "Led\n",
      "Fluorescente\n"
     ]
    }
   ],
   "source": [
    "lampada1 = Lampada(1, 'Led', 'Apagada')\n",
    "print(lampada1.estado)\n",
    "lampada1.acender()\n",
    "print(lampada1.estado)\n",
    "lampada1.apagar()\n",
    "print(lampada1.estado)\n",
    "print(lampada1.tipo)\n",
    "lampada1.tipo = 'Fluorescente'\n",
    "print(lampada1.tipo)"
   ]
  },
  {
   "cell_type": "code",
   "execution_count": 21,
   "id": "69843424",
   "metadata": {},
   "outputs": [],
   "source": [
    "#Definindo funções (ações) com construtor vazio\n",
    "class Lampada:\n",
    "    \n",
    "    def __init__(self):\n",
    "        self.codigo = 0\n",
    "        self.tipo = ''\n",
    "        self.estado = ''\n",
    "    \n",
    "    def acender(self):\n",
    "        self.estado = 'Acesa'\n",
    "    \n",
    "    def apagar(self):\n",
    "        self.estado = 'Apagada'"
   ]
  },
  {
   "cell_type": "code",
   "execution_count": 22,
   "id": "687994ca",
   "metadata": {},
   "outputs": [
    {
     "name": "stdout",
     "output_type": "stream",
     "text": [
      "Apagada\n",
      "Acesa\n"
     ]
    }
   ],
   "source": [
    "lampada2 = Lampada()\n",
    "lampada2.codigo = 2\n",
    "lampada2.tipo = 'Led'\n",
    "lampada2.estado = 'Apagada'\n",
    "print(lampada2.estado)\n",
    "lampada2.acender()\n",
    "print(lampada2.estado)"
   ]
  },
  {
   "cell_type": "code",
   "execution_count": 26,
   "id": "d6c6733a",
   "metadata": {},
   "outputs": [
    {
     "name": "stdout",
     "output_type": "stream",
     "text": [
      "<__main__.Lampada object at 0x0000028ADF841660>\n"
     ]
    }
   ],
   "source": [
    "'''\n",
    "Se tentar imprimir diretamente o objeto,\n",
    "o programa exibirá o endereço de memória\n",
    "\n",
    "Obs.: Não é erro, executa normalmente\n",
    "'''\n",
    "print(lampada2)\n",
    "\n"
   ]
  },
  {
   "cell_type": "code",
   "execution_count": 31,
   "id": "5f63c76a",
   "metadata": {},
   "outputs": [],
   "source": [
    "'''\n",
    "Para mudar o que aparece quando imprime \n",
    "diretamente o objeto, se usa a função\n",
    "especial __str__\n",
    "'''\n",
    "class Lampada:\n",
    "    \n",
    "    def __init__(self):\n",
    "        self.codigo = 0\n",
    "        self.tipo = ''\n",
    "        self.estado = ''\n",
    "    \n",
    "    def acender(self):\n",
    "        self.estado = 'Acesa'\n",
    "    \n",
    "    def apagar(self):\n",
    "        self.estado = 'Apagada'\n",
    "    \n",
    "    def __str__(self):\n",
    "        return 'Lampada tipo: '+self.tipo"
   ]
  },
  {
   "cell_type": "code",
   "execution_count": 32,
   "id": "7ddfcf1a",
   "metadata": {},
   "outputs": [
    {
     "name": "stdout",
     "output_type": "stream",
     "text": [
      "Lampada tipo: Led\n"
     ]
    }
   ],
   "source": [
    "lampada2 = Lampada()\n",
    "lampada2.codigo = 2\n",
    "lampada2.tipo = 'Led'\n",
    "lampada2.estado = 'Apagada'\n",
    "print(lampada2)"
   ]
  },
  {
   "cell_type": "code",
   "execution_count": 34,
   "id": "50221b4b",
   "metadata": {},
   "outputs": [
    {
     "name": "stdout",
     "output_type": "stream",
     "text": [
      "Digite o código1\n",
      "Digite o tipoLED\n",
      "1\n",
      "LED\n",
      "Apagada\n"
     ]
    }
   ],
   "source": [
    "lampada4 = Lampada()\n",
    "lampada4.codigo = int(input(\"Digite o código\"))\n",
    "lampada4.tipo = input(\"Digite o tipo\")\n",
    "lampada4.estado = 'Apagada'\n",
    "\n",
    "print(lampada4.codigo)\n",
    "print(lampada4.tipo)\n",
    "print(lampada4.estado)"
   ]
  },
  {
   "cell_type": "code",
   "execution_count": null,
   "id": "1d202630",
   "metadata": {},
   "outputs": [],
   "source": []
  }
 ],
 "metadata": {
  "kernelspec": {
   "display_name": "Python 3 (ipykernel)",
   "language": "python",
   "name": "python3"
  },
  "language_info": {
   "codemirror_mode": {
    "name": "ipython",
    "version": 3
   },
   "file_extension": ".py",
   "mimetype": "text/x-python",
   "name": "python",
   "nbconvert_exporter": "python",
   "pygments_lexer": "ipython3",
   "version": "3.10.4"
  }
 },
 "nbformat": 4,
 "nbformat_minor": 5
}
