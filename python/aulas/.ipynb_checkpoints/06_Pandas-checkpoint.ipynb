{
 "cells": [
  {
   "cell_type": "markdown",
   "id": "44963a48",
   "metadata": {},
   "source": [
    "# Pandas"
   ]
  },
  {
   "cell_type": "markdown",
   "id": "c7056fc7",
   "metadata": {},
   "source": [
    "Site Oficial: https://pandas.pydata.org/\n",
    "\n",
    "Comando para Instalar: pip install pandas\n",
    "\n",
    "- De forma geral, a biblioteca pandas prepara os dados para a análise;\n",
    "- Converte os dados de um estado \"bruto\" para um estado que permita a análise;\n",
    "- Este processo se chama Data Mining;\n",
    "- Este é o processo mais trabalhoso antes da análise;\n",
    "- Tem uma excelente integração com a biblioteca NumPy e outras;\n",
    "\n",
    "Trabalha Principalmente com 2 conceitos:\n",
    "- Series\n",
    "- Dataframe"
   ]
  },
  {
   "cell_type": "code",
   "execution_count": 1,
   "id": "4e22d859",
   "metadata": {},
   "outputs": [],
   "source": [
    "#Importando a biblioteca Pandas\n",
    "import pandas as pd"
   ]
  },
  {
   "cell_type": "markdown",
   "id": "4a2ede8b",
   "metadata": {},
   "source": [
    "# Series"
   ]
  },
  {
   "cell_type": "markdown",
   "id": "2529346a",
   "metadata": {},
   "source": [
    "Array Unidimencional que contém valores/índices (contém um array de valores e um array de índices);"
   ]
  },
  {
   "cell_type": "code",
   "execution_count": 4,
   "id": "dd733f2b",
   "metadata": {},
   "outputs": [],
   "source": [
    "import pandas as pd"
   ]
  },
  {
   "cell_type": "code",
   "execution_count": 5,
   "id": "d9e1454f",
   "metadata": {},
   "outputs": [],
   "source": [
    "'''\n",
    "A função para se criar series é com 'S' maiúsculo;\n",
    "Ela recebe uma lista python e converte para series;\n",
    "É obrigado apenas informar os valores;\n",
    "Quando os índices não informados, serão gerados automaticamente.\n",
    "'''\n",
    "series_1 = pd.Series([13, 15, 2, 25])"
   ]
  },
  {
   "cell_type": "code",
   "execution_count": 6,
   "id": "12f76564",
   "metadata": {},
   "outputs": [
    {
     "name": "stdout",
     "output_type": "stream",
     "text": [
      "0    13\n",
      "1    15\n",
      "2     2\n",
      "3    25\n",
      "dtype: int64\n"
     ]
    }
   ],
   "source": [
    "'''\n",
    "Ele imprime por padrão 3 informações: índices, valores e o tipo dos dados;\n",
    "'''\n",
    "print(series_1)"
   ]
  },
  {
   "cell_type": "code",
   "execution_count": 7,
   "id": "a902ce7f",
   "metadata": {},
   "outputs": [
    {
     "data": {
      "text/plain": [
       "pandas.core.series.Series"
      ]
     },
     "execution_count": 7,
     "metadata": {},
     "output_type": "execute_result"
    }
   ],
   "source": [
    "'''\n",
    "Imprime o tipo do dado armazenado na variável, \n",
    "comprovando que é do tipo Series da biblioteca pandas\n",
    "'''\n",
    "type(series_1)"
   ]
  },
  {
   "cell_type": "code",
   "execution_count": 8,
   "id": "944598a7",
   "metadata": {},
   "outputs": [
    {
     "name": "stdout",
     "output_type": "stream",
     "text": [
      "int64\n"
     ]
    }
   ],
   "source": [
    "#Imprimindo o tipo dos dados armazenados na Series\n",
    "print(series_1.dtypes)"
   ]
  },
  {
   "cell_type": "code",
   "execution_count": 9,
   "id": "30f59d32",
   "metadata": {},
   "outputs": [
    {
     "name": "stdout",
     "output_type": "stream",
     "text": [
      "[13 15  2 25]\n"
     ]
    }
   ],
   "source": [
    "#Imprimindo os valores da Series\n",
    "print(series_1.values)"
   ]
  },
  {
   "cell_type": "code",
   "execution_count": 12,
   "id": "1faa5ce8",
   "metadata": {},
   "outputs": [
    {
     "name": "stdout",
     "output_type": "stream",
     "text": [
      "RangeIndex(start=0, stop=4, step=1)\n"
     ]
    }
   ],
   "source": [
    "#Imprimindo os índices da Series (ele imprime a função que criou)\n",
    "print(series_1.index)"
   ]
  },
  {
   "cell_type": "code",
   "execution_count": 11,
   "id": "80a42795",
   "metadata": {},
   "outputs": [],
   "source": [
    "'''\n",
    "Para definir manualmente os índices, se utiliza o \n",
    "argumento nomeado 'index' dentro da função Series\n",
    "'''\n",
    "series_2 = pd.Series([13, 15, 2, 25], index=['a', 'b', 'c', 'd'])"
   ]
  },
  {
   "cell_type": "code",
   "execution_count": 13,
   "id": "4bfb2962",
   "metadata": {},
   "outputs": [
    {
     "name": "stdout",
     "output_type": "stream",
     "text": [
      "a    13\n",
      "b    15\n",
      "c     2\n",
      "d    25\n",
      "dtype: int64\n"
     ]
    }
   ],
   "source": [
    "print(series_2)"
   ]
  },
  {
   "cell_type": "code",
   "execution_count": 14,
   "id": "ab05573b",
   "metadata": {},
   "outputs": [
    {
     "name": "stdout",
     "output_type": "stream",
     "text": [
      "[13 15  2 25]\n"
     ]
    }
   ],
   "source": [
    "print(series_2.values)"
   ]
  },
  {
   "cell_type": "code",
   "execution_count": 15,
   "id": "afe8a4eb",
   "metadata": {},
   "outputs": [
    {
     "name": "stdout",
     "output_type": "stream",
     "text": [
      "Index(['a', 'b', 'c', 'd'], dtype='object')\n"
     ]
    }
   ],
   "source": [
    "print(series_2.index)"
   ]
  },
  {
   "cell_type": "code",
   "execution_count": 16,
   "id": "d99dfe71",
   "metadata": {},
   "outputs": [
    {
     "name": "stdout",
     "output_type": "stream",
     "text": [
      "int64\n"
     ]
    }
   ],
   "source": [
    "print(series_2.dtypes)"
   ]
  },
  {
   "cell_type": "code",
   "execution_count": null,
   "id": "17eeaa93",
   "metadata": {},
   "outputs": [],
   "source": []
  }
 ],
 "metadata": {
  "kernelspec": {
   "display_name": "Python 3 (ipykernel)",
   "language": "python",
   "name": "python3"
  },
  "language_info": {
   "codemirror_mode": {
    "name": "ipython",
    "version": 3
   },
   "file_extension": ".py",
   "mimetype": "text/x-python",
   "name": "python",
   "nbconvert_exporter": "python",
   "pygments_lexer": "ipython3",
   "version": "3.10.8"
  }
 },
 "nbformat": 4,
 "nbformat_minor": 5
}
