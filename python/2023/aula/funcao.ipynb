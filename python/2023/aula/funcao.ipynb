{
 "cells": [
  {
   "cell_type": "markdown",
   "id": "d7a2bd28-0eb2-4990-949c-23831223a29a",
   "metadata": {},
   "source": [
    "Função em Python\n",
    "- Agrupar instruções que geralmente se repetem\n",
    "- Posso utilizar a função sempre que necessitar executar essas instruções\n",
    "\n",
    "Em Python se define uma função com a palavra reservada \"def\"\n",
    "\n",
    "Sintaxe:\n",
    "def nome_funcao():\n",
    "    instrucoes"
   ]
  },
  {
   "cell_type": "code",
   "execution_count": 2,
   "id": "29bad16e-dfc2-43c0-8f7a-27604fa587ce",
   "metadata": {},
   "outputs": [],
   "source": [
    "#Função vazia: sem instruções. Deve utilizar a palavra pass\n",
    "\n",
    "def exemplo1():\n",
    "    pass"
   ]
  },
  {
   "cell_type": "code",
   "execution_count": 8,
   "id": "544f0a20-9560-4e12-bb12-9d3811675455",
   "metadata": {},
   "outputs": [],
   "source": [
    "#Função sem retorno e sem parâmetros\n",
    "\n",
    "def nome():\n",
    "    print('IFRN')"
   ]
  },
  {
   "cell_type": "code",
   "execution_count": 9,
   "id": "f813b494-f44a-496c-97d0-925124ed75e8",
   "metadata": {},
   "outputs": [
    {
     "name": "stdout",
     "output_type": "stream",
     "text": [
      "IFRN\n"
     ]
    }
   ],
   "source": [
    "nome()"
   ]
  },
  {
   "cell_type": "code",
   "execution_count": 12,
   "id": "15aab66e-169b-4131-ac64-900ffa6cd832",
   "metadata": {},
   "outputs": [],
   "source": [
    "#Função com retorno e sem parâmetros\n",
    "\n",
    "def instituicao():\n",
    "    return 'IFRN'"
   ]
  },
  {
   "cell_type": "code",
   "execution_count": 15,
   "id": "de680aa1-957f-4104-a0ae-979021becf9a",
   "metadata": {},
   "outputs": [
    {
     "name": "stdout",
     "output_type": "stream",
     "text": [
      "IFRN\n"
     ]
    }
   ],
   "source": [
    "print(instituicao())"
   ]
  },
  {
   "cell_type": "code",
   "execution_count": 22,
   "id": "717ec347-3108-4f6d-83c2-312af9af0187",
   "metadata": {},
   "outputs": [],
   "source": [
    "#Função com parâmetro e sem retorno\n",
    "\n",
    "def idade(numero):\n",
    "    print('A minha idade é: ',numero,' anos')"
   ]
  },
  {
   "cell_type": "code",
   "execution_count": 23,
   "id": "5ee77cd6-f8b6-40f3-bd08-5141bd38ab47",
   "metadata": {},
   "outputs": [
    {
     "name": "stdout",
     "output_type": "stream",
     "text": [
      "A minha idade é:  30  anos\n"
     ]
    }
   ],
   "source": [
    "idade(30)"
   ]
  },
  {
   "cell_type": "code",
   "execution_count": 24,
   "id": "0f31adf5-7758-4d6c-8fb0-d17b6cc1a79a",
   "metadata": {},
   "outputs": [
    {
     "name": "stdout",
     "output_type": "stream",
     "text": [
      "A minha idade é:  15  anos\n"
     ]
    }
   ],
   "source": [
    "idade(15)"
   ]
  },
  {
   "cell_type": "code",
   "execution_count": 25,
   "id": "0732ea02-257e-40b9-b4e0-fc1294d1f645",
   "metadata": {},
   "outputs": [],
   "source": [
    "#Função com parâmetros e retorno\n",
    "\n",
    "def somar(numero1, numero2):\n",
    "    return numero1+numero2"
   ]
  },
  {
   "cell_type": "code",
   "execution_count": 27,
   "id": "5138b488-2166-4471-8722-cb8073435832",
   "metadata": {},
   "outputs": [
    {
     "name": "stdout",
     "output_type": "stream",
     "text": [
      "30\n"
     ]
    }
   ],
   "source": [
    "num1 = 10\n",
    "num2 = 20\n",
    "print(somar(num1, num2))"
   ]
  },
  {
   "cell_type": "markdown",
   "id": "bc714654-7c62-4fd5-a95d-19e2e9b8bc5c",
   "metadata": {},
   "source": [
    "Por padrão, python (assim como a maioria das linguagens\n",
    "de programação) utiliza parâmetros posicionais, ou seja,\n",
    "o primeiro argumento é substituído no primeiro parâmetro, \n",
    "o segundo argumento é substituído no segundo parâmetro,\n",
    "e assim por diante."
   ]
  },
  {
   "cell_type": "code",
   "execution_count": null,
   "id": "79d1b030-5665-4b0f-a2a2-8f42ff02cdaa",
   "metadata": {},
   "outputs": [],
   "source": [
    "Python permite alterar a ordem com que os valores são\n",
    "substituídos nos parâmetros, através dos parâmetros\n",
    "nomeados"
   ]
  },
  {
   "cell_type": "code",
   "execution_count": 28,
   "id": "6527c2bb-5d1b-4c09-b0d2-816ea1633321",
   "metadata": {},
   "outputs": [
    {
     "name": "stdout",
     "output_type": "stream",
     "text": [
      "Bruno   30   12345   54321\n"
     ]
    }
   ],
   "source": [
    "#Usando parâmetros posicionais\n",
    "\n",
    "def cadastro(nome, idade, cpf, rg):\n",
    "    print(nome,\" \",idade,\" \",cpf,\" \",rg)\n",
    "\n",
    "cadastro(\"Bruno\", 30, \"12345\", \"54321\")"
   ]
  },
  {
   "cell_type": "code",
   "execution_count": 31,
   "id": "faf1edbf-82c6-462f-9826-9cbbed042c6f",
   "metadata": {},
   "outputs": [
    {
     "name": "stdout",
     "output_type": "stream",
     "text": [
      "Matheus   30   12345   54321\n"
     ]
    }
   ],
   "source": [
    "#Parâmetros nomeados\n",
    "\n",
    "cadastro(cpf=\"12345\",rg=\"54321\",idade=30, nome=\"Bruno\")"
   ]
  },
  {
   "cell_type": "markdown",
   "id": "118238fa-3953-42a4-a93a-eb353333b747",
   "metadata": {},
   "source": [
    "Parâmetros default\n",
    "É possível definir um valor padrão para os parâmetros caso eles \n",
    "não sejam informados"
   ]
  },
  {
   "cell_type": "code",
   "execution_count": 32,
   "id": "b05647f5-ed2b-4315-b397-6882e97cdaac",
   "metadata": {},
   "outputs": [],
   "source": [
    "def autenticar(usuario=\"root\", senha=\"12345\"):\n",
    "    print(usuario,\" \",senha,\" \")"
   ]
  },
  {
   "cell_type": "code",
   "execution_count": 33,
   "id": "aca67ef2-2c3b-4d1d-bd3b-c9bb64fce82c",
   "metadata": {},
   "outputs": [
    {
     "name": "stdout",
     "output_type": "stream",
     "text": [
      "bruno   123  \n"
     ]
    }
   ],
   "source": [
    "autenticar(\"bruno\",\"123\")"
   ]
  },
  {
   "cell_type": "code",
   "execution_count": 34,
   "id": "ed7b267a-bf00-4dd9-879e-3b557b84021f",
   "metadata": {},
   "outputs": [
    {
     "name": "stdout",
     "output_type": "stream",
     "text": [
      "root   12345  \n"
     ]
    }
   ],
   "source": [
    "autenticar()"
   ]
  },
  {
   "cell_type": "code",
   "execution_count": 37,
   "id": "f14ef3b6-0689-442e-8610-587086d65235",
   "metadata": {},
   "outputs": [],
   "source": [
    "#Python permite retornar mais de um valor\n",
    "\n",
    "def aula():\n",
    "    return \"Bruno\",30"
   ]
  },
  {
   "cell_type": "code",
   "execution_count": 38,
   "id": "1ead2d90-820c-4e87-a027-554d73bac66c",
   "metadata": {},
   "outputs": [
    {
     "name": "stdout",
     "output_type": "stream",
     "text": [
      "Bruno   30\n"
     ]
    }
   ],
   "source": [
    "nome,idade = aula()\n",
    "print(nome,\" \",idade)"
   ]
  },
  {
   "cell_type": "code",
   "execution_count": null,
   "id": "47a108a2-3f11-42f9-80f4-96ddb1b96fe2",
   "metadata": {},
   "outputs": [],
   "source": []
  }
 ],
 "metadata": {
  "kernelspec": {
   "display_name": "Python 3 (ipykernel)",
   "language": "python",
   "name": "python3"
  },
  "language_info": {
   "codemirror_mode": {
    "name": "ipython",
    "version": 3
   },
   "file_extension": ".py",
   "mimetype": "text/x-python",
   "name": "python",
   "nbconvert_exporter": "python",
   "pygments_lexer": "ipython3",
   "version": "3.10.4"
  }
 },
 "nbformat": 4,
 "nbformat_minor": 5
}
